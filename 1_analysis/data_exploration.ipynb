{
 "cells": [
  {
   "cell_type": "markdown",
   "id": "c8693fde",
   "metadata": {},
   "source": [
    "# Talent Intelligence System ( Data Exploration)"
   ]
  },
  {
   "cell_type": "code",
   "execution_count": 1,
   "id": "7d66a565",
   "metadata": {},
   "outputs": [],
   "source": [
    "import pandas as pd"
   ]
  }
 ],
 "metadata": {
  "kernelspec": {
   "display_name": "Python (.talentint)",
   "language": "python",
   "name": ".talentint"
  },
  "language_info": {
   "codemirror_mode": {
    "name": "ipython",
    "version": 3
   },
   "file_extension": ".py",
   "mimetype": "text/x-python",
   "name": "python",
   "nbconvert_exporter": "python",
   "pygments_lexer": "ipython3",
   "version": "3.13.9"
  }
 },
 "nbformat": 4,
 "nbformat_minor": 5
}

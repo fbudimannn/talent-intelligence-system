{
 "cells": [
  {
   "cell_type": "markdown",
   "id": "c8693fde",
   "metadata": {},
   "source": [
    "# Talent Intelligence System ( Data Exploration)"
   ]
  },
  {
   "cell_type": "markdown",
   "id": "3ce6a99a",
   "metadata": {},
   "source": [
    "This notebook serves as the primary analysis environment for **Step 1: Discover the Pattern of Success**.\n",
    "\n",
    "**Objective:** The primary goal of this notebook is to perform a deep exploratory data analysis (EDA) to uncover the key attributes, competencies, and behavioral patterns that differentiate high-performing employees (those with a `rating = 5`) from their peers.\n",
    "\n",
    "**Process:**\n",
    "The analysis will follow these key steps:\n",
    "1.  **Setup:** Import all necessary libraries and establish a connection to the Supabase database.\n",
    "2.  **Data Loading:** Load all raw tables from the database into Pandas DataFrames.\n",
    "3.  **Data Cleaning & Preprocessing:** Handle missing values, standardize inconsistent text data (like `mbti`), and create a master analysis DataFrame.\n",
    "4.  **Exploratory Data Analysis (EDA):** Compare the \"High Performer\" group against all others across several key dimensions:\n",
    "    * Psychometric & Cognitive (`iq`, `pauli`, `disc`, etc.)\n",
    "    * Competencies (`competencies_yearly`)\n",
    "    * Behavioral Strengths (`strengths`)\n",
    "    * Contextual Factors (`grade_id`, `years_of_service_months`)\n",
    "5.  **Synthesis:** Use visualizations and statistical summaries to identify the most significant factors.\n",
    "\n",
    "**End Goal:** The insights gathered here will be synthesized into a **\"Final Success Formula\"**. This formula will provide the logical foundation for the SQL matching algorithm to be built in Step 2."
   ]
  },
  {
   "cell_type": "markdown",
   "id": "26132650",
   "metadata": {},
   "source": [
    "## Data Loading & Initial Inspection"
   ]
  },
  {
   "cell_type": "code",
   "execution_count": 1,
   "id": "7d66a565",
   "metadata": {},
   "outputs": [],
   "source": [
    "# Install neccessary ilbraries\n",
    "import pandas as pd\n",
    "import numpy as np\n",
    "import os\n",
    "from dotenv import load_dotenv\n",
    "from sqlalchemy import create_engine\n",
    "import matplotlib.pyplot as plt\n",
    "import seaborn as sns"
   ]
  },
  {
   "cell_type": "code",
   "execution_count": 3,
   "id": "a068c514",
   "metadata": {},
   "outputs": [
    {
     "name": "stdout",
     "output_type": "stream",
     "text": [
      "Environment variables loaded.\n"
     ]
    }
   ],
   "source": [
    "# Load the secret credentials from  .env file\n",
    "\n",
    "load_dotenv()\n",
    "\n",
    "DB_HOST = os.getenv('DB_HOST')\n",
    "DB_PORT = os.getenv('DB_PORT')\n",
    "DB_NAME = os.getenv('DB_NAME')\n",
    "DB_USER = os.getenv('DB_USER')\n",
    "DB_PASSWORD = os.getenv('DB_PASSWORD')\n",
    "\n",
    "print(\"Environment variables loaded.\")\n"
   ]
  },
  {
   "cell_type": "code",
   "execution_count": 5,
   "id": "0edb9935",
   "metadata": {},
   "outputs": [
    {
     "name": "stdout",
     "output_type": "stream",
     "text": [
      "Database connection engine created successfully.\n"
     ]
    }
   ],
   "source": [
    "# Create the connection 'engine' to  Supabase database\n",
    "\n",
    "connection_string = f\"postgresql://{DB_USER}:{DB_PASSWORD}@{DB_HOST}:{DB_PORT}/{DB_NAME}\"\n",
    "engine = create_engine(connection_string)\n",
    "\n",
    "print(\"Database connection engine created successfully.\")"
   ]
  },
  {
   "cell_type": "code",
   "execution_count": 13,
   "id": "45ab2a81",
   "metadata": {},
   "outputs": [
    {
     "name": "stdout",
     "output_type": "stream",
     "text": [
      "\n",
      "--- Employee Data Info ---\n",
      "<class 'pandas.core.frame.DataFrame'>\n",
      "RangeIndex: 2010 entries, 0 to 2009\n",
      "Data columns (total 13 columns):\n",
      " #   Column                   Non-Null Count  Dtype \n",
      "---  ------                   --------------  ----- \n",
      " 0   employee_id              2010 non-null   object\n",
      " 1   fullname                 2010 non-null   object\n",
      " 2   nip                      2010 non-null   object\n",
      " 3   company_id               2010 non-null   int64 \n",
      " 4   area_id                  2010 non-null   int64 \n",
      " 5   position_id              2010 non-null   int64 \n",
      " 6   department_id            2010 non-null   int64 \n",
      " 7   division_id              2010 non-null   int64 \n",
      " 8   directorate_id           2010 non-null   int64 \n",
      " 9   grade_id                 2010 non-null   int64 \n",
      " 10  education_id             2010 non-null   int64 \n",
      " 11  major_id                 2010 non-null   int64 \n",
      " 12  years_of_service_months  2010 non-null   int64 \n",
      "dtypes: int64(10), object(3)\n",
      "memory usage: 204.3+ KB\n"
     ]
    },
    {
     "data": {
      "text/plain": [
       "None"
      ]
     },
     "metadata": {},
     "output_type": "display_data"
    },
    {
     "data": {
      "text/html": [
       "<div>\n",
       "<style scoped>\n",
       "    .dataframe tbody tr th:only-of-type {\n",
       "        vertical-align: middle;\n",
       "    }\n",
       "\n",
       "    .dataframe tbody tr th {\n",
       "        vertical-align: top;\n",
       "    }\n",
       "\n",
       "    .dataframe thead th {\n",
       "        text-align: right;\n",
       "    }\n",
       "</style>\n",
       "<table border=\"1\" class=\"dataframe\">\n",
       "  <thead>\n",
       "    <tr style=\"text-align: right;\">\n",
       "      <th></th>\n",
       "      <th>employee_id</th>\n",
       "      <th>fullname</th>\n",
       "      <th>nip</th>\n",
       "      <th>company_id</th>\n",
       "      <th>area_id</th>\n",
       "      <th>position_id</th>\n",
       "      <th>department_id</th>\n",
       "      <th>division_id</th>\n",
       "      <th>directorate_id</th>\n",
       "      <th>grade_id</th>\n",
       "      <th>education_id</th>\n",
       "      <th>major_id</th>\n",
       "      <th>years_of_service_months</th>\n",
       "    </tr>\n",
       "  </thead>\n",
       "  <tbody>\n",
       "    <tr>\n",
       "      <th>0</th>\n",
       "      <td>EMP100000</td>\n",
       "      <td>Rendra Pratama</td>\n",
       "      <td>806137</td>\n",
       "      <td>1</td>\n",
       "      <td>4</td>\n",
       "      <td>1</td>\n",
       "      <td>6</td>\n",
       "      <td>3</td>\n",
       "      <td>3</td>\n",
       "      <td>2</td>\n",
       "      <td>3</td>\n",
       "      <td>1</td>\n",
       "      <td>64</td>\n",
       "    </tr>\n",
       "    <tr>\n",
       "      <th>1</th>\n",
       "      <td>EMP100001</td>\n",
       "      <td>Wulan Setiawan</td>\n",
       "      <td>476388</td>\n",
       "      <td>4</td>\n",
       "      <td>4</td>\n",
       "      <td>4</td>\n",
       "      <td>5</td>\n",
       "      <td>5</td>\n",
       "      <td>3</td>\n",
       "      <td>1</td>\n",
       "      <td>1</td>\n",
       "      <td>2</td>\n",
       "      <td>16</td>\n",
       "    </tr>\n",
       "    <tr>\n",
       "      <th>2</th>\n",
       "      <td>EMP100002</td>\n",
       "      <td>Julia Jatmiko Situmorang</td>\n",
       "      <td>941921</td>\n",
       "      <td>1</td>\n",
       "      <td>3</td>\n",
       "      <td>5</td>\n",
       "      <td>1</td>\n",
       "      <td>1</td>\n",
       "      <td>3</td>\n",
       "      <td>1</td>\n",
       "      <td>3</td>\n",
       "      <td>1</td>\n",
       "      <td>58</td>\n",
       "    </tr>\n",
       "    <tr>\n",
       "      <th>3</th>\n",
       "      <td>EMP100003</td>\n",
       "      <td>Oka Halim</td>\n",
       "      <td>751615</td>\n",
       "      <td>1</td>\n",
       "      <td>3</td>\n",
       "      <td>4</td>\n",
       "      <td>2</td>\n",
       "      <td>1</td>\n",
       "      <td>1</td>\n",
       "      <td>2</td>\n",
       "      <td>2</td>\n",
       "      <td>5</td>\n",
       "      <td>15</td>\n",
       "    </tr>\n",
       "    <tr>\n",
       "      <th>4</th>\n",
       "      <td>EMP100004</td>\n",
       "      <td>Dwi Pratama</td>\n",
       "      <td>443809</td>\n",
       "      <td>3</td>\n",
       "      <td>4</td>\n",
       "      <td>6</td>\n",
       "      <td>5</td>\n",
       "      <td>3</td>\n",
       "      <td>3</td>\n",
       "      <td>1</td>\n",
       "      <td>1</td>\n",
       "      <td>5</td>\n",
       "      <td>34</td>\n",
       "    </tr>\n",
       "  </tbody>\n",
       "</table>\n",
       "</div>"
      ],
      "text/plain": [
       "  employee_id                  fullname     nip  company_id  area_id  \\\n",
       "0   EMP100000            Rendra Pratama  806137           1        4   \n",
       "1   EMP100001            Wulan Setiawan  476388           4        4   \n",
       "2   EMP100002  Julia Jatmiko Situmorang  941921           1        3   \n",
       "3   EMP100003                 Oka Halim  751615           1        3   \n",
       "4   EMP100004               Dwi Pratama  443809           3        4   \n",
       "\n",
       "   position_id  department_id  division_id  directorate_id  grade_id  \\\n",
       "0            1              6            3               3         2   \n",
       "1            4              5            5               3         1   \n",
       "2            5              1            1               3         1   \n",
       "3            4              2            1               1         2   \n",
       "4            6              5            3               3         1   \n",
       "\n",
       "   education_id  major_id  years_of_service_months  \n",
       "0             3         1                       64  \n",
       "1             1         2                       16  \n",
       "2             3         1                       58  \n",
       "3             2         5                       15  \n",
       "4             1         5                       34  "
      ]
     },
     "metadata": {},
     "output_type": "display_data"
    }
   ],
   "source": [
    "# Overview of certain tables for intial checking\n",
    "df_employees = pd.read_sql(\n",
    "  \n",
    "  \"\"\"\n",
    "  SELECT \n",
    "  * \n",
    "  FROM employees\n",
    "  \"\"\"\n",
    "\n",
    "  , engine)\n",
    "print(\"\\n--- Employee Data Info ---\")\n",
    "display(df_employees.info(), df_employees.head())"
   ]
  }
 ],
 "metadata": {
  "kernelspec": {
   "display_name": "Python (.talentint)",
   "language": "python",
   "name": ".talentint"
  },
  "language_info": {
   "codemirror_mode": {
    "name": "ipython",
    "version": 3
   },
   "file_extension": ".py",
   "mimetype": "text/x-python",
   "name": "python",
   "nbconvert_exporter": "python",
   "pygments_lexer": "ipython3",
   "version": "3.13.9"
  }
 },
 "nbformat": 4,
 "nbformat_minor": 5
}

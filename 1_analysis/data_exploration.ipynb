{
 "cells": [
  {
   "cell_type": "markdown",
   "id": "c8693fde",
   "metadata": {},
   "source": [
    "# Talent Intelligence System ( Data Exploration)"
   ]
  },
  {
   "cell_type": "markdown",
   "id": "3ce6a99a",
   "metadata": {},
   "source": [
    "This notebook serves as the primary analysis environment for **Step 1: Discover the Pattern of Success**.\n",
    "\n",
    "**Objective:** The primary goal of this notebook is to perform a deep exploratory data analysis (EDA) to uncover the key attributes, competencies, and behavioral patterns that differentiate high-performing employees (those with a `rating = 5`) from their peers.\n",
    "\n",
    "**Process:**\n",
    "The analysis will follow these key steps:\n",
    "1.  **Setup Preparation:** Import all necessary libraries and establish a connection to the Supabase database.\n",
    "2.  **Data Loading and Preparation:** Load all raw tables from the database into Pandas DataFrames.\n",
    "3.  **Data Cleaning & Preprocessing:** Handle missing values, standardize inconsistent text data (like `mbti`), and create a master analysis DataFrame.\n",
    "4.  **Exploratory Data Analysis (EDA):** Compare the \"High Performer\" group against all others across several key dimensions:\n",
    "    * Psychometric & Cognitive (`iq`, `pauli`, `disc`, etc.)\n",
    "    * Competencies (`competencies_yearly`)\n",
    "    * Behavioral Strengths (`strengths`)\n",
    "    * Contextual Factors (`grade_id`, `years_of_service_months`)\n",
    "5.  **Synthesis:** Use visualizations and statistical summaries to identify the most significant factors.\n",
    "\n",
    "**End Goal:** The insights gathered here will be synthesized into a **\"Final Success Formula\"**. This formula will provide the logical foundation for the SQL matching algorithm to be built in Step 2."
   ]
  },
  {
   "cell_type": "markdown",
   "id": "26132650",
   "metadata": {},
   "source": [
    "## Setup Preparation "
   ]
  },
  {
   "cell_type": "code",
   "execution_count": 108,
   "id": "7d66a565",
   "metadata": {},
   "outputs": [],
   "source": [
    "# Install neccessary ilbraries\n",
    "import pandas as pd\n",
    "import numpy as np\n",
    "import os\n",
    "from dotenv import load_dotenv\n",
    "from sqlalchemy import create_engine\n",
    "import matplotlib.pyplot as plt\n",
    "import seaborn as sns"
   ]
  },
  {
   "cell_type": "code",
   "execution_count": 109,
   "id": "a068c514",
   "metadata": {},
   "outputs": [
    {
     "name": "stdout",
     "output_type": "stream",
     "text": [
      "Environment variables loaded.\n"
     ]
    }
   ],
   "source": [
    "# Load the secret credentials from  .env file\n",
    "\n",
    "load_dotenv()\n",
    "\n",
    "DB_HOST = os.getenv('DB_HOST')\n",
    "DB_PORT = os.getenv('DB_PORT')\n",
    "DB_NAME = os.getenv('DB_NAME')\n",
    "DB_USER = os.getenv('DB_USER')\n",
    "DB_PASSWORD = os.getenv('DB_PASSWORD')\n",
    "\n",
    "print(\"Environment variables loaded.\")\n"
   ]
  },
  {
   "cell_type": "code",
   "execution_count": 110,
   "id": "0edb9935",
   "metadata": {},
   "outputs": [
    {
     "name": "stdout",
     "output_type": "stream",
     "text": [
      "Database connection engine created successfully.\n"
     ]
    }
   ],
   "source": [
    "# Create the connection 'engine' to  Supabase database\n",
    "\n",
    "connection_string = f\"postgresql://{DB_USER}:{DB_PASSWORD}@{DB_HOST}:{DB_PORT}/{DB_NAME}\"\n",
    "engine = create_engine(connection_string)\n",
    "\n",
    "print(\"Database connection engine created successfully.\")"
   ]
  },
  {
   "cell_type": "code",
   "execution_count": 111,
   "id": "45ab2a81",
   "metadata": {},
   "outputs": [
    {
     "name": "stdout",
     "output_type": "stream",
     "text": [
      "\n",
      "--- Employee Data Info ---\n",
      "<class 'pandas.core.frame.DataFrame'>\n",
      "RangeIndex: 2010 entries, 0 to 2009\n",
      "Data columns (total 13 columns):\n",
      " #   Column                   Non-Null Count  Dtype \n",
      "---  ------                   --------------  ----- \n",
      " 0   employee_id              2010 non-null   object\n",
      " 1   fullname                 2010 non-null   object\n",
      " 2   nip                      2010 non-null   object\n",
      " 3   company_id               2010 non-null   int64 \n",
      " 4   area_id                  2010 non-null   int64 \n",
      " 5   position_id              2010 non-null   int64 \n",
      " 6   department_id            2010 non-null   int64 \n",
      " 7   division_id              2010 non-null   int64 \n",
      " 8   directorate_id           2010 non-null   int64 \n",
      " 9   grade_id                 2010 non-null   int64 \n",
      " 10  education_id             2010 non-null   int64 \n",
      " 11  major_id                 2010 non-null   int64 \n",
      " 12  years_of_service_months  2010 non-null   int64 \n",
      "dtypes: int64(10), object(3)\n",
      "memory usage: 204.3+ KB\n"
     ]
    },
    {
     "data": {
      "text/plain": [
       "None"
      ]
     },
     "metadata": {},
     "output_type": "display_data"
    },
    {
     "data": {
      "text/html": [
       "<div>\n",
       "<style scoped>\n",
       "    .dataframe tbody tr th:only-of-type {\n",
       "        vertical-align: middle;\n",
       "    }\n",
       "\n",
       "    .dataframe tbody tr th {\n",
       "        vertical-align: top;\n",
       "    }\n",
       "\n",
       "    .dataframe thead th {\n",
       "        text-align: right;\n",
       "    }\n",
       "</style>\n",
       "<table border=\"1\" class=\"dataframe\">\n",
       "  <thead>\n",
       "    <tr style=\"text-align: right;\">\n",
       "      <th></th>\n",
       "      <th>employee_id</th>\n",
       "      <th>fullname</th>\n",
       "      <th>nip</th>\n",
       "      <th>company_id</th>\n",
       "      <th>area_id</th>\n",
       "      <th>position_id</th>\n",
       "      <th>department_id</th>\n",
       "      <th>division_id</th>\n",
       "      <th>directorate_id</th>\n",
       "      <th>grade_id</th>\n",
       "      <th>education_id</th>\n",
       "      <th>major_id</th>\n",
       "      <th>years_of_service_months</th>\n",
       "    </tr>\n",
       "  </thead>\n",
       "  <tbody>\n",
       "    <tr>\n",
       "      <th>0</th>\n",
       "      <td>EMP100000</td>\n",
       "      <td>Rendra Pratama</td>\n",
       "      <td>806137</td>\n",
       "      <td>1</td>\n",
       "      <td>4</td>\n",
       "      <td>1</td>\n",
       "      <td>6</td>\n",
       "      <td>3</td>\n",
       "      <td>3</td>\n",
       "      <td>2</td>\n",
       "      <td>3</td>\n",
       "      <td>1</td>\n",
       "      <td>64</td>\n",
       "    </tr>\n",
       "    <tr>\n",
       "      <th>1</th>\n",
       "      <td>EMP100001</td>\n",
       "      <td>Wulan Setiawan</td>\n",
       "      <td>476388</td>\n",
       "      <td>4</td>\n",
       "      <td>4</td>\n",
       "      <td>4</td>\n",
       "      <td>5</td>\n",
       "      <td>5</td>\n",
       "      <td>3</td>\n",
       "      <td>1</td>\n",
       "      <td>1</td>\n",
       "      <td>2</td>\n",
       "      <td>16</td>\n",
       "    </tr>\n",
       "    <tr>\n",
       "      <th>2</th>\n",
       "      <td>EMP100002</td>\n",
       "      <td>Julia Jatmiko Situmorang</td>\n",
       "      <td>941921</td>\n",
       "      <td>1</td>\n",
       "      <td>3</td>\n",
       "      <td>5</td>\n",
       "      <td>1</td>\n",
       "      <td>1</td>\n",
       "      <td>3</td>\n",
       "      <td>1</td>\n",
       "      <td>3</td>\n",
       "      <td>1</td>\n",
       "      <td>58</td>\n",
       "    </tr>\n",
       "    <tr>\n",
       "      <th>3</th>\n",
       "      <td>EMP100003</td>\n",
       "      <td>Oka Halim</td>\n",
       "      <td>751615</td>\n",
       "      <td>1</td>\n",
       "      <td>3</td>\n",
       "      <td>4</td>\n",
       "      <td>2</td>\n",
       "      <td>1</td>\n",
       "      <td>1</td>\n",
       "      <td>2</td>\n",
       "      <td>2</td>\n",
       "      <td>5</td>\n",
       "      <td>15</td>\n",
       "    </tr>\n",
       "    <tr>\n",
       "      <th>4</th>\n",
       "      <td>EMP100004</td>\n",
       "      <td>Dwi Pratama</td>\n",
       "      <td>443809</td>\n",
       "      <td>3</td>\n",
       "      <td>4</td>\n",
       "      <td>6</td>\n",
       "      <td>5</td>\n",
       "      <td>3</td>\n",
       "      <td>3</td>\n",
       "      <td>1</td>\n",
       "      <td>1</td>\n",
       "      <td>5</td>\n",
       "      <td>34</td>\n",
       "    </tr>\n",
       "  </tbody>\n",
       "</table>\n",
       "</div>"
      ],
      "text/plain": [
       "  employee_id                  fullname     nip  company_id  area_id  \\\n",
       "0   EMP100000            Rendra Pratama  806137           1        4   \n",
       "1   EMP100001            Wulan Setiawan  476388           4        4   \n",
       "2   EMP100002  Julia Jatmiko Situmorang  941921           1        3   \n",
       "3   EMP100003                 Oka Halim  751615           1        3   \n",
       "4   EMP100004               Dwi Pratama  443809           3        4   \n",
       "\n",
       "   position_id  department_id  division_id  directorate_id  grade_id  \\\n",
       "0            1              6            3               3         2   \n",
       "1            4              5            5               3         1   \n",
       "2            5              1            1               3         1   \n",
       "3            4              2            1               1         2   \n",
       "4            6              5            3               3         1   \n",
       "\n",
       "   education_id  major_id  years_of_service_months  \n",
       "0             3         1                       64  \n",
       "1             1         2                       16  \n",
       "2             3         1                       58  \n",
       "3             2         5                       15  \n",
       "4             1         5                       34  "
      ]
     },
     "metadata": {},
     "output_type": "display_data"
    }
   ],
   "source": [
    "# Overview of certain tables for intial checking\n",
    "df_employees = pd.read_sql(\n",
    "  \n",
    "  \"\"\"\n",
    "  SELECT \n",
    "  * \n",
    "  FROM employees\n",
    "  \"\"\"\n",
    "\n",
    "  , engine)\n",
    "print(\"\\n--- Employee Data Info ---\")\n",
    "display(df_employees.info(), df_employees.head())"
   ]
  },
  {
   "cell_type": "markdown",
   "id": "19ebb7d2",
   "metadata": {},
   "source": [
    "## Data Load and Preparation"
   ]
  },
  {
   "cell_type": "markdown",
   "id": "5cfb775c",
   "metadata": {},
   "source": [
    "To optimize performance and avoid excessive load on the database (as per quota concerns),  hybrid loading strategy is being used:\n",
    "\n",
    "1.  **Main Query (`df_main`):** A single SQL query will join all **one-to-one** tables (`employees`, `profiles_psych`) and the latest performance record (`performance_yearly` filtered for 2025). This creates our primary, unique-per-employee analysis table.\n",
    "2.  **Separate Queries:** All **one-to-many** tables (`competencies_yearly`, `strengths`) will be loaded separately. They will be merged in Python *only when needed* for a specific analysis to prevent row explosion."
   ]
  },
  {
   "cell_type": "markdown",
   "id": "056bf124",
   "metadata": {},
   "source": [
    "### Load for One to One Data"
   ]
  },
  {
   "cell_type": "code",
   "execution_count": 213,
   "id": "b26d4f92",
   "metadata": {},
   "outputs": [
    {
     "name": "stdout",
     "output_type": "stream",
     "text": [
      "\n",
      "--- Main Data Info ---\n",
      "<class 'pandas.core.frame.DataFrame'>\n",
      "RangeIndex: 2010 entries, 0 to 2009\n",
      "Data columns (total 23 columns):\n",
      " #   Column                   Non-Null Count  Dtype  \n",
      "---  ------                   --------------  -----  \n",
      " 0   employee_id              2010 non-null   object \n",
      " 1   fullname                 2010 non-null   object \n",
      " 2   nip                      2010 non-null   object \n",
      " 3   company_id               2010 non-null   int64  \n",
      " 4   area_id                  2010 non-null   int64  \n",
      " 5   position_id              2010 non-null   int64  \n",
      " 6   department_id            2010 non-null   int64  \n",
      " 7   division_id              2010 non-null   int64  \n",
      " 8   directorate_id           2010 non-null   int64  \n",
      " 9   grade_id                 2010 non-null   int64  \n",
      " 10  education_id             2010 non-null   int64  \n",
      " 11  major_id                 2010 non-null   int64  \n",
      " 12  years_of_service_months  2010 non-null   int64  \n",
      " 13  pauli                    2010 non-null   int64  \n",
      " 14  faxtor                   2010 non-null   int64  \n",
      " 15  disc                     1839 non-null   object \n",
      " 16  disc_word                2010 non-null   object \n",
      " 17  mbti                     1861 non-null   object \n",
      " 18  iq                       1554 non-null   float64\n",
      " 19  gtq                      1678 non-null   float64\n",
      " 20  tiki                     2010 non-null   int64  \n",
      " 21  rating                   1794 non-null   float64\n",
      " 22  current_year             2010 non-null   int64  \n",
      "dtypes: float64(3), int64(14), object(6)\n",
      "memory usage: 361.3+ KB\n"
     ]
    },
    {
     "data": {
      "text/plain": [
       "None"
      ]
     },
     "metadata": {},
     "output_type": "display_data"
    },
    {
     "data": {
      "text/html": [
       "<div>\n",
       "<style scoped>\n",
       "    .dataframe tbody tr th:only-of-type {\n",
       "        vertical-align: middle;\n",
       "    }\n",
       "\n",
       "    .dataframe tbody tr th {\n",
       "        vertical-align: top;\n",
       "    }\n",
       "\n",
       "    .dataframe thead th {\n",
       "        text-align: right;\n",
       "    }\n",
       "</style>\n",
       "<table border=\"1\" class=\"dataframe\">\n",
       "  <thead>\n",
       "    <tr style=\"text-align: right;\">\n",
       "      <th></th>\n",
       "      <th>employee_id</th>\n",
       "      <th>fullname</th>\n",
       "      <th>nip</th>\n",
       "      <th>company_id</th>\n",
       "      <th>area_id</th>\n",
       "      <th>position_id</th>\n",
       "      <th>department_id</th>\n",
       "      <th>division_id</th>\n",
       "      <th>directorate_id</th>\n",
       "      <th>grade_id</th>\n",
       "      <th>...</th>\n",
       "      <th>pauli</th>\n",
       "      <th>faxtor</th>\n",
       "      <th>disc</th>\n",
       "      <th>disc_word</th>\n",
       "      <th>mbti</th>\n",
       "      <th>iq</th>\n",
       "      <th>gtq</th>\n",
       "      <th>tiki</th>\n",
       "      <th>rating</th>\n",
       "      <th>current_year</th>\n",
       "    </tr>\n",
       "  </thead>\n",
       "  <tbody>\n",
       "    <tr>\n",
       "      <th>0</th>\n",
       "      <td>EMP100000</td>\n",
       "      <td>Rendra Pratama</td>\n",
       "      <td>806137</td>\n",
       "      <td>1</td>\n",
       "      <td>4</td>\n",
       "      <td>1</td>\n",
       "      <td>6</td>\n",
       "      <td>3</td>\n",
       "      <td>3</td>\n",
       "      <td>2</td>\n",
       "      <td>...</td>\n",
       "      <td>86</td>\n",
       "      <td>75</td>\n",
       "      <td>SI</td>\n",
       "      <td>Steadiness-Influencer</td>\n",
       "      <td>None</td>\n",
       "      <td>94.0</td>\n",
       "      <td>33.0</td>\n",
       "      <td>2</td>\n",
       "      <td>3.0</td>\n",
       "      <td>2025</td>\n",
       "    </tr>\n",
       "    <tr>\n",
       "      <th>1</th>\n",
       "      <td>EMP100001</td>\n",
       "      <td>Wulan Setiawan</td>\n",
       "      <td>476388</td>\n",
       "      <td>4</td>\n",
       "      <td>4</td>\n",
       "      <td>4</td>\n",
       "      <td>5</td>\n",
       "      <td>5</td>\n",
       "      <td>3</td>\n",
       "      <td>1</td>\n",
       "      <td>...</td>\n",
       "      <td>48</td>\n",
       "      <td>52</td>\n",
       "      <td>DS</td>\n",
       "      <td>Dominant-Steadiness</td>\n",
       "      <td>INTP</td>\n",
       "      <td>94.0</td>\n",
       "      <td>17.0</td>\n",
       "      <td>3</td>\n",
       "      <td>3.0</td>\n",
       "      <td>2025</td>\n",
       "    </tr>\n",
       "    <tr>\n",
       "      <th>2</th>\n",
       "      <td>EMP100002</td>\n",
       "      <td>Julia Jatmiko Situmorang</td>\n",
       "      <td>941921</td>\n",
       "      <td>1</td>\n",
       "      <td>3</td>\n",
       "      <td>5</td>\n",
       "      <td>1</td>\n",
       "      <td>1</td>\n",
       "      <td>3</td>\n",
       "      <td>1</td>\n",
       "      <td>...</td>\n",
       "      <td>66</td>\n",
       "      <td>38</td>\n",
       "      <td>DC</td>\n",
       "      <td>Dominant-Conscientious</td>\n",
       "      <td>None</td>\n",
       "      <td>109.0</td>\n",
       "      <td>20.0</td>\n",
       "      <td>3</td>\n",
       "      <td>4.0</td>\n",
       "      <td>2025</td>\n",
       "    </tr>\n",
       "    <tr>\n",
       "      <th>3</th>\n",
       "      <td>EMP100003</td>\n",
       "      <td>Oka Halim</td>\n",
       "      <td>751615</td>\n",
       "      <td>1</td>\n",
       "      <td>3</td>\n",
       "      <td>4</td>\n",
       "      <td>2</td>\n",
       "      <td>1</td>\n",
       "      <td>1</td>\n",
       "      <td>2</td>\n",
       "      <td>...</td>\n",
       "      <td>39</td>\n",
       "      <td>63</td>\n",
       "      <td>SI</td>\n",
       "      <td>Steadiness-Influencer</td>\n",
       "      <td>ENTJ</td>\n",
       "      <td>85.0</td>\n",
       "      <td>39.0</td>\n",
       "      <td>3</td>\n",
       "      <td>3.0</td>\n",
       "      <td>2025</td>\n",
       "    </tr>\n",
       "    <tr>\n",
       "      <th>4</th>\n",
       "      <td>EMP100004</td>\n",
       "      <td>Dwi Pratama</td>\n",
       "      <td>443809</td>\n",
       "      <td>3</td>\n",
       "      <td>4</td>\n",
       "      <td>6</td>\n",
       "      <td>5</td>\n",
       "      <td>3</td>\n",
       "      <td>3</td>\n",
       "      <td>1</td>\n",
       "      <td>...</td>\n",
       "      <td>75</td>\n",
       "      <td>100</td>\n",
       "      <td>None</td>\n",
       "      <td>Steadiness-Conscientious</td>\n",
       "      <td>INTJ</td>\n",
       "      <td>134.0</td>\n",
       "      <td>21.0</td>\n",
       "      <td>9</td>\n",
       "      <td>4.0</td>\n",
       "      <td>2025</td>\n",
       "    </tr>\n",
       "  </tbody>\n",
       "</table>\n",
       "<p>5 rows × 23 columns</p>\n",
       "</div>"
      ],
      "text/plain": [
       "  employee_id                  fullname     nip  company_id  area_id  \\\n",
       "0   EMP100000            Rendra Pratama  806137           1        4   \n",
       "1   EMP100001            Wulan Setiawan  476388           4        4   \n",
       "2   EMP100002  Julia Jatmiko Situmorang  941921           1        3   \n",
       "3   EMP100003                 Oka Halim  751615           1        3   \n",
       "4   EMP100004               Dwi Pratama  443809           3        4   \n",
       "\n",
       "   position_id  department_id  division_id  directorate_id  grade_id  ...  \\\n",
       "0            1              6            3               3         2  ...   \n",
       "1            4              5            5               3         1  ...   \n",
       "2            5              1            1               3         1  ...   \n",
       "3            4              2            1               1         2  ...   \n",
       "4            6              5            3               3         1  ...   \n",
       "\n",
       "   pauli  faxtor  disc                 disc_word  mbti     iq   gtq tiki  \\\n",
       "0     86      75    SI     Steadiness-Influencer  None   94.0  33.0    2   \n",
       "1     48      52    DS       Dominant-Steadiness  INTP   94.0  17.0    3   \n",
       "2     66      38    DC    Dominant-Conscientious  None  109.0  20.0    3   \n",
       "3     39      63    SI     Steadiness-Influencer  ENTJ   85.0  39.0    3   \n",
       "4     75     100  None  Steadiness-Conscientious  INTJ  134.0  21.0    9   \n",
       "\n",
       "   rating  current_year  \n",
       "0     3.0          2025  \n",
       "1     3.0          2025  \n",
       "2     4.0          2025  \n",
       "3     3.0          2025  \n",
       "4     4.0          2025  \n",
       "\n",
       "[5 rows x 23 columns]"
      ]
     },
     "metadata": {},
     "output_type": "display_data"
    },
    {
     "name": "stdout",
     "output_type": "stream",
     "text": [
      "Main analysis table loaded successfully with 2010 unique employees.\n"
     ]
    }
   ],
   "source": [
    "#  Load Main One to One Data\n",
    "df_main= pd.read_sql(\n",
    "  \n",
    "  \"\"\"\n",
    "  SELECT\n",
    "    e.*,\n",
    "    pp.pauli,\n",
    "    pp.faxtor,\n",
    "    pp.disc,\n",
    "    pp.disc_word,\n",
    "    pp.mbti,\n",
    "    pp.iq,\n",
    "    pp.gtq,\n",
    "    pp.tiki,\n",
    "    py.rating,\n",
    "    py.year as current_year\n",
    "  FROM employees as e\n",
    "  LEFT JOIN  profiles_psych as pp\n",
    "  ON e.employee_id = pp.employee_id \n",
    "  LEFT JOIN   \n",
    "  (SELECT * \n",
    "  FROM performance_yearly \n",
    "  WHERE year = 2025) \n",
    "  as py\n",
    "  ON e.employee_id = py.employee_id\n",
    "\n",
    "  \"\"\"\n",
    "  , engine)\n",
    "print(\"\\n--- Main Data Info ---\")\n",
    "display(df_main.info(), df_main.head())\n",
    "\n",
    "print(f\"Main analysis table loaded successfully with {len(df_main)} unique employees.\")"
   ]
  },
  {
   "cell_type": "markdown",
   "id": "88d08d58",
   "metadata": {},
   "source": [
    "### Load One to Many Data Seperately"
   ]
  },
  {
   "cell_type": "code",
   "execution_count": 113,
   "id": "ec3e6564",
   "metadata": {},
   "outputs": [
    {
     "name": "stdout",
     "output_type": "stream",
     "text": [
      "\n",
      "--- Competencies Info ---\n",
      "<class 'pandas.core.frame.DataFrame'>\n",
      "RangeIndex: 20100 entries, 0 to 20099\n",
      "Data columns (total 5 columns):\n",
      " #   Column        Non-Null Count  Dtype  \n",
      "---  ------        --------------  -----  \n",
      " 0   employee_id   20100 non-null  object \n",
      " 1   pillar_code   20100 non-null  object \n",
      " 2   pillar_label  20100 non-null  object \n",
      " 3   score         18495 non-null  float64\n",
      " 4   year          20100 non-null  int64  \n",
      "dtypes: float64(1), int64(1), object(3)\n",
      "memory usage: 785.3+ KB\n"
     ]
    },
    {
     "data": {
      "text/plain": [
       "None"
      ]
     },
     "metadata": {},
     "output_type": "display_data"
    },
    {
     "data": {
      "text/html": [
       "<div>\n",
       "<style scoped>\n",
       "    .dataframe tbody tr th:only-of-type {\n",
       "        vertical-align: middle;\n",
       "    }\n",
       "\n",
       "    .dataframe tbody tr th {\n",
       "        vertical-align: top;\n",
       "    }\n",
       "\n",
       "    .dataframe thead th {\n",
       "        text-align: right;\n",
       "    }\n",
       "</style>\n",
       "<table border=\"1\" class=\"dataframe\">\n",
       "  <thead>\n",
       "    <tr style=\"text-align: right;\">\n",
       "      <th></th>\n",
       "      <th>employee_id</th>\n",
       "      <th>pillar_code</th>\n",
       "      <th>pillar_label</th>\n",
       "      <th>score</th>\n",
       "      <th>year</th>\n",
       "    </tr>\n",
       "  </thead>\n",
       "  <tbody>\n",
       "    <tr>\n",
       "      <th>0</th>\n",
       "      <td>EMP100000</td>\n",
       "      <td>GDR</td>\n",
       "      <td>Growth Drive &amp; Resilience</td>\n",
       "      <td>3.0</td>\n",
       "      <td>2025</td>\n",
       "    </tr>\n",
       "    <tr>\n",
       "      <th>1</th>\n",
       "      <td>EMP100001</td>\n",
       "      <td>GDR</td>\n",
       "      <td>Growth Drive &amp; Resilience</td>\n",
       "      <td>2.0</td>\n",
       "      <td>2025</td>\n",
       "    </tr>\n",
       "    <tr>\n",
       "      <th>2</th>\n",
       "      <td>EMP100002</td>\n",
       "      <td>GDR</td>\n",
       "      <td>Growth Drive &amp; Resilience</td>\n",
       "      <td>3.0</td>\n",
       "      <td>2025</td>\n",
       "    </tr>\n",
       "    <tr>\n",
       "      <th>3</th>\n",
       "      <td>EMP100003</td>\n",
       "      <td>GDR</td>\n",
       "      <td>Growth Drive &amp; Resilience</td>\n",
       "      <td>4.0</td>\n",
       "      <td>2025</td>\n",
       "    </tr>\n",
       "    <tr>\n",
       "      <th>4</th>\n",
       "      <td>EMP100004</td>\n",
       "      <td>GDR</td>\n",
       "      <td>Growth Drive &amp; Resilience</td>\n",
       "      <td>4.0</td>\n",
       "      <td>2025</td>\n",
       "    </tr>\n",
       "  </tbody>\n",
       "</table>\n",
       "</div>"
      ],
      "text/plain": [
       "  employee_id pillar_code               pillar_label  score  year\n",
       "0   EMP100000         GDR  Growth Drive & Resilience    3.0  2025\n",
       "1   EMP100001         GDR  Growth Drive & Resilience    2.0  2025\n",
       "2   EMP100002         GDR  Growth Drive & Resilience    3.0  2025\n",
       "3   EMP100003         GDR  Growth Drive & Resilience    4.0  2025\n",
       "4   EMP100004         GDR  Growth Drive & Resilience    4.0  2025"
      ]
     },
     "metadata": {},
     "output_type": "display_data"
    },
    {
     "name": "stdout",
     "output_type": "stream",
     "text": [
      "Competency data loaded with 20100 rows.\n"
     ]
    }
   ],
   "source": [
    "# Competencies table\n",
    "df_competencies= pd.read_sql(\n",
    "  \n",
    "  \"\"\"\n",
    "  SELECT\n",
    "    cy.employee_id,\n",
    "    cy.pillar_code,\n",
    "    dc.pillar_label,\n",
    "    cy.score,\n",
    "    cy.year\n",
    "  FROM competencies_yearly as cy\n",
    "  LEFT JOIN dim_competency_pillars as dc\n",
    "  ON cy.pillar_code = dc.pillar_code\n",
    "  WHERE \n",
    "  cy.year = 2025\n",
    "  \"\"\"\n",
    "  , engine)\n",
    "print(\"\\n--- Competencies Info ---\")\n",
    "display(df_competencies.info(), df_competencies.head())\n",
    "print(f\"Competency data loaded with {len(df_competencies)} rows.\")"
   ]
  },
  {
   "cell_type": "code",
   "execution_count": 114,
   "id": "71c78824",
   "metadata": {},
   "outputs": [
    {
     "name": "stdout",
     "output_type": "stream",
     "text": [
      "\n",
      "--- Strengths Info ---\n",
      "<class 'pandas.core.frame.DataFrame'>\n",
      "RangeIndex: 28140 entries, 0 to 28139\n",
      "Data columns (total 3 columns):\n",
      " #   Column       Non-Null Count  Dtype \n",
      "---  ------       --------------  ----- \n",
      " 0   employee_id  28140 non-null  object\n",
      " 1   rank         28140 non-null  int64 \n",
      " 2   theme        28140 non-null  object\n",
      "dtypes: int64(1), object(2)\n",
      "memory usage: 659.7+ KB\n"
     ]
    },
    {
     "data": {
      "text/plain": [
       "None"
      ]
     },
     "metadata": {},
     "output_type": "display_data"
    },
    {
     "data": {
      "text/html": [
       "<div>\n",
       "<style scoped>\n",
       "    .dataframe tbody tr th:only-of-type {\n",
       "        vertical-align: middle;\n",
       "    }\n",
       "\n",
       "    .dataframe tbody tr th {\n",
       "        vertical-align: top;\n",
       "    }\n",
       "\n",
       "    .dataframe thead th {\n",
       "        text-align: right;\n",
       "    }\n",
       "</style>\n",
       "<table border=\"1\" class=\"dataframe\">\n",
       "  <thead>\n",
       "    <tr style=\"text-align: right;\">\n",
       "      <th></th>\n",
       "      <th>employee_id</th>\n",
       "      <th>rank</th>\n",
       "      <th>theme</th>\n",
       "    </tr>\n",
       "  </thead>\n",
       "  <tbody>\n",
       "    <tr>\n",
       "      <th>0</th>\n",
       "      <td>DUP1942</td>\n",
       "      <td>1</td>\n",
       "      <td>Learner</td>\n",
       "    </tr>\n",
       "    <tr>\n",
       "      <th>1</th>\n",
       "      <td>DUP1942</td>\n",
       "      <td>2</td>\n",
       "      <td>Maximizer</td>\n",
       "    </tr>\n",
       "    <tr>\n",
       "      <th>2</th>\n",
       "      <td>DUP1942</td>\n",
       "      <td>3</td>\n",
       "      <td>Ideation</td>\n",
       "    </tr>\n",
       "    <tr>\n",
       "      <th>3</th>\n",
       "      <td>DUP1942</td>\n",
       "      <td>4</td>\n",
       "      <td>Harmony</td>\n",
       "    </tr>\n",
       "    <tr>\n",
       "      <th>4</th>\n",
       "      <td>DUP1942</td>\n",
       "      <td>5</td>\n",
       "      <td>Restorative</td>\n",
       "    </tr>\n",
       "  </tbody>\n",
       "</table>\n",
       "</div>"
      ],
      "text/plain": [
       "  employee_id  rank        theme\n",
       "0     DUP1942     1      Learner\n",
       "1     DUP1942     2    Maximizer\n",
       "2     DUP1942     3     Ideation\n",
       "3     DUP1942     4      Harmony\n",
       "4     DUP1942     5  Restorative"
      ]
     },
     "metadata": {},
     "output_type": "display_data"
    },
    {
     "name": "stdout",
     "output_type": "stream",
     "text": [
      "Strengths data loaded with 28140 rows.\n"
     ]
    }
   ],
   "source": [
    "# Strengths table\n",
    "df_strengths= pd.read_sql(\n",
    "  \n",
    "  \"\"\"\n",
    "  SELECT\n",
    "    employee_id,\n",
    "    rank,\n",
    "    theme\n",
    "  FROM strengths\n",
    "  ORDER BY 1 ASC, 2 ASC\n",
    "\n",
    "  \"\"\"\n",
    "  , engine)\n",
    "print(\"\\n--- Strengths Info ---\")\n",
    "display(df_strengths.info(), df_strengths.head())\n",
    "print(f\"Strengths data loaded with {len(df_strengths)} rows.\")"
   ]
  },
  {
   "cell_type": "code",
   "execution_count": 115,
   "id": "0319e759",
   "metadata": {},
   "outputs": [
    {
     "name": "stdout",
     "output_type": "stream",
     "text": [
      "\n",
      "--- PAPI Scores Info ---\n",
      "<class 'pandas.core.frame.DataFrame'>\n",
      "RangeIndex: 40200 entries, 0 to 40199\n",
      "Data columns (total 3 columns):\n",
      " #   Column       Non-Null Count  Dtype  \n",
      "---  ------       --------------  -----  \n",
      " 0   employee_id  40200 non-null  object \n",
      " 1   scale_code   40200 non-null  object \n",
      " 2   score        36997 non-null  float64\n",
      "dtypes: float64(1), object(2)\n",
      "memory usage: 942.3+ KB\n"
     ]
    },
    {
     "data": {
      "text/plain": [
       "None"
      ]
     },
     "metadata": {},
     "output_type": "display_data"
    },
    {
     "data": {
      "text/html": [
       "<div>\n",
       "<style scoped>\n",
       "    .dataframe tbody tr th:only-of-type {\n",
       "        vertical-align: middle;\n",
       "    }\n",
       "\n",
       "    .dataframe tbody tr th {\n",
       "        vertical-align: top;\n",
       "    }\n",
       "\n",
       "    .dataframe thead th {\n",
       "        text-align: right;\n",
       "    }\n",
       "</style>\n",
       "<table border=\"1\" class=\"dataframe\">\n",
       "  <thead>\n",
       "    <tr style=\"text-align: right;\">\n",
       "      <th></th>\n",
       "      <th>employee_id</th>\n",
       "      <th>scale_code</th>\n",
       "      <th>score</th>\n",
       "    </tr>\n",
       "  </thead>\n",
       "  <tbody>\n",
       "    <tr>\n",
       "      <th>0</th>\n",
       "      <td>DUP1942</td>\n",
       "      <td>Papi_A</td>\n",
       "      <td>6.0</td>\n",
       "    </tr>\n",
       "    <tr>\n",
       "      <th>1</th>\n",
       "      <td>DUP1942</td>\n",
       "      <td>Papi_B</td>\n",
       "      <td>NaN</td>\n",
       "    </tr>\n",
       "    <tr>\n",
       "      <th>2</th>\n",
       "      <td>DUP1942</td>\n",
       "      <td>Papi_C</td>\n",
       "      <td>1.0</td>\n",
       "    </tr>\n",
       "    <tr>\n",
       "      <th>3</th>\n",
       "      <td>DUP1942</td>\n",
       "      <td>Papi_D</td>\n",
       "      <td>4.0</td>\n",
       "    </tr>\n",
       "    <tr>\n",
       "      <th>4</th>\n",
       "      <td>DUP1942</td>\n",
       "      <td>Papi_E</td>\n",
       "      <td>3.0</td>\n",
       "    </tr>\n",
       "  </tbody>\n",
       "</table>\n",
       "</div>"
      ],
      "text/plain": [
       "  employee_id scale_code  score\n",
       "0     DUP1942     Papi_A    6.0\n",
       "1     DUP1942     Papi_B    NaN\n",
       "2     DUP1942     Papi_C    1.0\n",
       "3     DUP1942     Papi_D    4.0\n",
       "4     DUP1942     Papi_E    3.0"
      ]
     },
     "metadata": {},
     "output_type": "display_data"
    },
    {
     "name": "stdout",
     "output_type": "stream",
     "text": [
      "PAPI Scores data loaded with 40200 rows.\n"
     ]
    }
   ],
   "source": [
    "# Papi_scores table\n",
    "df_papi_scores= pd.read_sql(\n",
    "  \n",
    "  \"\"\"\n",
    "  SELECT\n",
    "    employee_id,\n",
    "    scale_code,\n",
    "    score\n",
    "  FROM papi_scores\n",
    "  ORDER BY 1 ASC, 2 ASC\n",
    "  \"\"\"\n",
    "  , engine)\n",
    "print(\"\\n--- PAPI Scores Info ---\")\n",
    "display(df_papi_scores.info(), df_papi_scores.head())\n",
    "print(f\"PAPI Scores data loaded with {len(df_papi_scores)} rows.\")"
   ]
  },
  {
   "cell_type": "code",
   "execution_count": 116,
   "id": "b3867f71",
   "metadata": {},
   "outputs": [
    {
     "data": {
      "text/html": [
       "<div>\n",
       "<style scoped>\n",
       "    .dataframe tbody tr th:only-of-type {\n",
       "        vertical-align: middle;\n",
       "    }\n",
       "\n",
       "    .dataframe tbody tr th {\n",
       "        vertical-align: top;\n",
       "    }\n",
       "\n",
       "    .dataframe thead th {\n",
       "        text-align: right;\n",
       "    }\n",
       "</style>\n",
       "<table border=\"1\" class=\"dataframe\">\n",
       "  <thead>\n",
       "    <tr style=\"text-align: right;\">\n",
       "      <th></th>\n",
       "      <th>employee_id</th>\n",
       "      <th>fullname</th>\n",
       "      <th>nip</th>\n",
       "      <th>company_id</th>\n",
       "      <th>area_id</th>\n",
       "      <th>position_id</th>\n",
       "      <th>department_id</th>\n",
       "      <th>division_id</th>\n",
       "      <th>directorate_id</th>\n",
       "      <th>grade_id</th>\n",
       "      <th>...</th>\n",
       "      <th>pauli</th>\n",
       "      <th>faxtor</th>\n",
       "      <th>disc</th>\n",
       "      <th>disc_word</th>\n",
       "      <th>mbti</th>\n",
       "      <th>iq</th>\n",
       "      <th>gtq</th>\n",
       "      <th>tiki</th>\n",
       "      <th>rating</th>\n",
       "      <th>current_year</th>\n",
       "    </tr>\n",
       "  </thead>\n",
       "  <tbody>\n",
       "    <tr>\n",
       "      <th>4</th>\n",
       "      <td>EMP100004</td>\n",
       "      <td>Dwi Pratama</td>\n",
       "      <td>443809</td>\n",
       "      <td>3</td>\n",
       "      <td>4</td>\n",
       "      <td>6</td>\n",
       "      <td>5</td>\n",
       "      <td>3</td>\n",
       "      <td>3</td>\n",
       "      <td>1</td>\n",
       "      <td>...</td>\n",
       "      <td>75</td>\n",
       "      <td>100</td>\n",
       "      <td>None</td>\n",
       "      <td>Steadiness-Conscientious</td>\n",
       "      <td>INTJ</td>\n",
       "      <td>134.0</td>\n",
       "      <td>21.0</td>\n",
       "      <td>9</td>\n",
       "      <td>4.0</td>\n",
       "      <td>2025</td>\n",
       "    </tr>\n",
       "    <tr>\n",
       "      <th>22</th>\n",
       "      <td>EMP100022</td>\n",
       "      <td>Oka Nugroho</td>\n",
       "      <td>674733</td>\n",
       "      <td>2</td>\n",
       "      <td>1</td>\n",
       "      <td>2</td>\n",
       "      <td>3</td>\n",
       "      <td>1</td>\n",
       "      <td>2</td>\n",
       "      <td>2</td>\n",
       "      <td>...</td>\n",
       "      <td>49</td>\n",
       "      <td>94</td>\n",
       "      <td>None</td>\n",
       "      <td>Influencer-Conscientious</td>\n",
       "      <td>ISTP</td>\n",
       "      <td>91.0</td>\n",
       "      <td>35.0</td>\n",
       "      <td>8</td>\n",
       "      <td>4.0</td>\n",
       "      <td>2025</td>\n",
       "    </tr>\n",
       "    <tr>\n",
       "      <th>37</th>\n",
       "      <td>EMP100037</td>\n",
       "      <td>Nabila Ramadhan</td>\n",
       "      <td>967856</td>\n",
       "      <td>1</td>\n",
       "      <td>1</td>\n",
       "      <td>6</td>\n",
       "      <td>4</td>\n",
       "      <td>2</td>\n",
       "      <td>1</td>\n",
       "      <td>2</td>\n",
       "      <td>...</td>\n",
       "      <td>45</td>\n",
       "      <td>41</td>\n",
       "      <td>None</td>\n",
       "      <td>Conscientious-Influencer</td>\n",
       "      <td>ISTJ</td>\n",
       "      <td>NaN</td>\n",
       "      <td>NaN</td>\n",
       "      <td>1</td>\n",
       "      <td>4.0</td>\n",
       "      <td>2025</td>\n",
       "    </tr>\n",
       "    <tr>\n",
       "      <th>46</th>\n",
       "      <td>EMP100046</td>\n",
       "      <td>Fitri Lestari</td>\n",
       "      <td>117913</td>\n",
       "      <td>3</td>\n",
       "      <td>4</td>\n",
       "      <td>1</td>\n",
       "      <td>4</td>\n",
       "      <td>3</td>\n",
       "      <td>1</td>\n",
       "      <td>2</td>\n",
       "      <td>...</td>\n",
       "      <td>67</td>\n",
       "      <td>91</td>\n",
       "      <td>None</td>\n",
       "      <td>Dominant-Conscientious</td>\n",
       "      <td>ISTJ</td>\n",
       "      <td>NaN</td>\n",
       "      <td>NaN</td>\n",
       "      <td>6</td>\n",
       "      <td>2.0</td>\n",
       "      <td>2025</td>\n",
       "    </tr>\n",
       "    <tr>\n",
       "      <th>62</th>\n",
       "      <td>EMP100062</td>\n",
       "      <td>Valdo Jatmiko Mahendra</td>\n",
       "      <td>249908</td>\n",
       "      <td>3</td>\n",
       "      <td>3</td>\n",
       "      <td>4</td>\n",
       "      <td>6</td>\n",
       "      <td>3</td>\n",
       "      <td>2</td>\n",
       "      <td>2</td>\n",
       "      <td>...</td>\n",
       "      <td>42</td>\n",
       "      <td>25</td>\n",
       "      <td>None</td>\n",
       "      <td>Dominant-Influencer</td>\n",
       "      <td>ISTP</td>\n",
       "      <td>89.0</td>\n",
       "      <td>31.0</td>\n",
       "      <td>8</td>\n",
       "      <td>3.0</td>\n",
       "      <td>2025</td>\n",
       "    </tr>\n",
       "    <tr>\n",
       "      <th>...</th>\n",
       "      <td>...</td>\n",
       "      <td>...</td>\n",
       "      <td>...</td>\n",
       "      <td>...</td>\n",
       "      <td>...</td>\n",
       "      <td>...</td>\n",
       "      <td>...</td>\n",
       "      <td>...</td>\n",
       "      <td>...</td>\n",
       "      <td>...</td>\n",
       "      <td>...</td>\n",
       "      <td>...</td>\n",
       "      <td>...</td>\n",
       "      <td>...</td>\n",
       "      <td>...</td>\n",
       "      <td>...</td>\n",
       "      <td>...</td>\n",
       "      <td>...</td>\n",
       "      <td>...</td>\n",
       "      <td>...</td>\n",
       "      <td>...</td>\n",
       "    </tr>\n",
       "    <tr>\n",
       "      <th>1912</th>\n",
       "      <td>EMP101912</td>\n",
       "      <td>Umar Ramadhan</td>\n",
       "      <td>583501</td>\n",
       "      <td>4</td>\n",
       "      <td>2</td>\n",
       "      <td>4</td>\n",
       "      <td>4</td>\n",
       "      <td>1</td>\n",
       "      <td>3</td>\n",
       "      <td>1</td>\n",
       "      <td>...</td>\n",
       "      <td>97</td>\n",
       "      <td>73</td>\n",
       "      <td>None</td>\n",
       "      <td>Influencer-Dominant</td>\n",
       "      <td>INFJ</td>\n",
       "      <td>NaN</td>\n",
       "      <td>NaN</td>\n",
       "      <td>6</td>\n",
       "      <td>4.0</td>\n",
       "      <td>2025</td>\n",
       "    </tr>\n",
       "    <tr>\n",
       "      <th>1946</th>\n",
       "      <td>EMP101946</td>\n",
       "      <td>Putri Maulida</td>\n",
       "      <td>108026</td>\n",
       "      <td>1</td>\n",
       "      <td>2</td>\n",
       "      <td>5</td>\n",
       "      <td>4</td>\n",
       "      <td>3</td>\n",
       "      <td>2</td>\n",
       "      <td>3</td>\n",
       "      <td>...</td>\n",
       "      <td>55</td>\n",
       "      <td>20</td>\n",
       "      <td>None</td>\n",
       "      <td>Conscientious-Steadiness</td>\n",
       "      <td>ISFP</td>\n",
       "      <td>NaN</td>\n",
       "      <td>NaN</td>\n",
       "      <td>6</td>\n",
       "      <td>3.0</td>\n",
       "      <td>2025</td>\n",
       "    </tr>\n",
       "    <tr>\n",
       "      <th>1952</th>\n",
       "      <td>EMP101952</td>\n",
       "      <td>Bayu Setiawan</td>\n",
       "      <td>712745</td>\n",
       "      <td>1</td>\n",
       "      <td>3</td>\n",
       "      <td>2</td>\n",
       "      <td>3</td>\n",
       "      <td>5</td>\n",
       "      <td>3</td>\n",
       "      <td>2</td>\n",
       "      <td>...</td>\n",
       "      <td>44</td>\n",
       "      <td>35</td>\n",
       "      <td>None</td>\n",
       "      <td>Dominant-Conscientious</td>\n",
       "      <td>INTJ</td>\n",
       "      <td>116.0</td>\n",
       "      <td>17.0</td>\n",
       "      <td>3</td>\n",
       "      <td>3.0</td>\n",
       "      <td>2025</td>\n",
       "    </tr>\n",
       "    <tr>\n",
       "      <th>1962</th>\n",
       "      <td>EMP101962</td>\n",
       "      <td>Rani Yudhistira Anggara</td>\n",
       "      <td>521850</td>\n",
       "      <td>1</td>\n",
       "      <td>3</td>\n",
       "      <td>2</td>\n",
       "      <td>3</td>\n",
       "      <td>3</td>\n",
       "      <td>2</td>\n",
       "      <td>2</td>\n",
       "      <td>...</td>\n",
       "      <td>23</td>\n",
       "      <td>96</td>\n",
       "      <td>None</td>\n",
       "      <td>Influencer-Dominant</td>\n",
       "      <td>ENTP</td>\n",
       "      <td>99.0</td>\n",
       "      <td>30.0</td>\n",
       "      <td>9</td>\n",
       "      <td>2.0</td>\n",
       "      <td>2025</td>\n",
       "    </tr>\n",
       "    <tr>\n",
       "      <th>1985</th>\n",
       "      <td>EMP101985</td>\n",
       "      <td>Dwi Kusuma</td>\n",
       "      <td>463869</td>\n",
       "      <td>2</td>\n",
       "      <td>4</td>\n",
       "      <td>2</td>\n",
       "      <td>6</td>\n",
       "      <td>5</td>\n",
       "      <td>1</td>\n",
       "      <td>1</td>\n",
       "      <td>...</td>\n",
       "      <td>43</td>\n",
       "      <td>62</td>\n",
       "      <td>None</td>\n",
       "      <td>Influencer-Conscientious</td>\n",
       "      <td>None</td>\n",
       "      <td>98.0</td>\n",
       "      <td>16.0</td>\n",
       "      <td>7</td>\n",
       "      <td>2.0</td>\n",
       "      <td>2025</td>\n",
       "    </tr>\n",
       "  </tbody>\n",
       "</table>\n",
       "<p>171 rows × 23 columns</p>\n",
       "</div>"
      ],
      "text/plain": [
       "     employee_id                 fullname     nip  company_id  area_id  \\\n",
       "4      EMP100004              Dwi Pratama  443809           3        4   \n",
       "22     EMP100022              Oka Nugroho  674733           2        1   \n",
       "37     EMP100037          Nabila Ramadhan  967856           1        1   \n",
       "46     EMP100046            Fitri Lestari  117913           3        4   \n",
       "62     EMP100062   Valdo Jatmiko Mahendra  249908           3        3   \n",
       "...          ...                      ...     ...         ...      ...   \n",
       "1912   EMP101912            Umar Ramadhan  583501           4        2   \n",
       "1946   EMP101946            Putri Maulida  108026           1        2   \n",
       "1952   EMP101952            Bayu Setiawan  712745           1        3   \n",
       "1962   EMP101962  Rani Yudhistira Anggara  521850           1        3   \n",
       "1985   EMP101985               Dwi Kusuma  463869           2        4   \n",
       "\n",
       "      position_id  department_id  division_id  directorate_id  grade_id  ...  \\\n",
       "4               6              5            3               3         1  ...   \n",
       "22              2              3            1               2         2  ...   \n",
       "37              6              4            2               1         2  ...   \n",
       "46              1              4            3               1         2  ...   \n",
       "62              4              6            3               2         2  ...   \n",
       "...           ...            ...          ...             ...       ...  ...   \n",
       "1912            4              4            1               3         1  ...   \n",
       "1946            5              4            3               2         3  ...   \n",
       "1952            2              3            5               3         2  ...   \n",
       "1962            2              3            3               2         2  ...   \n",
       "1985            2              6            5               1         1  ...   \n",
       "\n",
       "      pauli  faxtor  disc                 disc_word  mbti     iq   gtq tiki  \\\n",
       "4        75     100  None  Steadiness-Conscientious  INTJ  134.0  21.0    9   \n",
       "22       49      94  None  Influencer-Conscientious  ISTP   91.0  35.0    8   \n",
       "37       45      41  None  Conscientious-Influencer  ISTJ    NaN   NaN    1   \n",
       "46       67      91  None    Dominant-Conscientious  ISTJ    NaN   NaN    6   \n",
       "62       42      25  None       Dominant-Influencer  ISTP   89.0  31.0    8   \n",
       "...     ...     ...   ...                       ...   ...    ...   ...  ...   \n",
       "1912     97      73  None       Influencer-Dominant  INFJ    NaN   NaN    6   \n",
       "1946     55      20  None  Conscientious-Steadiness  ISFP    NaN   NaN    6   \n",
       "1952     44      35  None    Dominant-Conscientious  INTJ  116.0  17.0    3   \n",
       "1962     23      96  None       Influencer-Dominant  ENTP   99.0  30.0    9   \n",
       "1985     43      62  None  Influencer-Conscientious  None   98.0  16.0    7   \n",
       "\n",
       "      rating  current_year  \n",
       "4        4.0          2025  \n",
       "22       4.0          2025  \n",
       "37       4.0          2025  \n",
       "46       2.0          2025  \n",
       "62       3.0          2025  \n",
       "...      ...           ...  \n",
       "1912     4.0          2025  \n",
       "1946     3.0          2025  \n",
       "1952     3.0          2025  \n",
       "1962     2.0          2025  \n",
       "1985     2.0          2025  \n",
       "\n",
       "[171 rows x 23 columns]"
      ]
     },
     "execution_count": 116,
     "metadata": {},
     "output_type": "execute_result"
    }
   ],
   "source": [
    "df_main[df_main['disc'].isnull()]"
   ]
  },
  {
   "cell_type": "markdown",
   "id": "a4608fd8",
   "metadata": {},
   "source": [
    "## Data Cleaning & Preprocessing"
   ]
  },
  {
   "cell_type": "markdown",
   "id": "8d79942c",
   "metadata": {},
   "source": [
    "### One to One Main data"
   ]
  },
  {
   "cell_type": "markdown",
   "id": "a0889ec0",
   "metadata": {},
   "source": [
    "#### Duplicate Check"
   ]
  },
  {
   "cell_type": "code",
   "execution_count": 117,
   "id": "0ccf266f",
   "metadata": {},
   "outputs": [
    {
     "data": {
      "text/html": [
       "<div>\n",
       "<style scoped>\n",
       "    .dataframe tbody tr th:only-of-type {\n",
       "        vertical-align: middle;\n",
       "    }\n",
       "\n",
       "    .dataframe tbody tr th {\n",
       "        vertical-align: top;\n",
       "    }\n",
       "\n",
       "    .dataframe thead th {\n",
       "        text-align: right;\n",
       "    }\n",
       "</style>\n",
       "<table border=\"1\" class=\"dataframe\">\n",
       "  <thead>\n",
       "    <tr style=\"text-align: right;\">\n",
       "      <th></th>\n",
       "      <th>employee_id</th>\n",
       "      <th>fullname</th>\n",
       "      <th>nip</th>\n",
       "      <th>company_id</th>\n",
       "      <th>area_id</th>\n",
       "      <th>position_id</th>\n",
       "      <th>department_id</th>\n",
       "      <th>division_id</th>\n",
       "      <th>directorate_id</th>\n",
       "      <th>grade_id</th>\n",
       "      <th>...</th>\n",
       "      <th>pauli</th>\n",
       "      <th>faxtor</th>\n",
       "      <th>disc</th>\n",
       "      <th>disc_word</th>\n",
       "      <th>mbti</th>\n",
       "      <th>iq</th>\n",
       "      <th>gtq</th>\n",
       "      <th>tiki</th>\n",
       "      <th>rating</th>\n",
       "      <th>current_year</th>\n",
       "    </tr>\n",
       "  </thead>\n",
       "  <tbody>\n",
       "  </tbody>\n",
       "</table>\n",
       "<p>0 rows × 23 columns</p>\n",
       "</div>"
      ],
      "text/plain": [
       "Empty DataFrame\n",
       "Columns: [employee_id, fullname, nip, company_id, area_id, position_id, department_id, division_id, directorate_id, grade_id, education_id, major_id, years_of_service_months, pauli, faxtor, disc, disc_word, mbti, iq, gtq, tiki, rating, current_year]\n",
       "Index: []\n",
       "\n",
       "[0 rows x 23 columns]"
      ]
     },
     "execution_count": 117,
     "metadata": {},
     "output_type": "execute_result"
    }
   ],
   "source": [
    "# Check the duplicate value in employee_id as the primary key\n",
    "df_main[df_main['employee_id'].duplicated()]"
   ]
  },
  {
   "cell_type": "markdown",
   "id": "1ea3e03f",
   "metadata": {},
   "source": [
    "There is no duplicate value in employee_id "
   ]
  },
  {
   "cell_type": "markdown",
   "id": "a672d559",
   "metadata": {},
   "source": [
    "#### Null Value Check"
   ]
  },
  {
   "cell_type": "code",
   "execution_count": 118,
   "id": "44b3c1ee",
   "metadata": {},
   "outputs": [
    {
     "data": {
      "text/plain": [
       "employee_id                  0\n",
       "fullname                     0\n",
       "nip                          0\n",
       "company_id                   0\n",
       "area_id                      0\n",
       "position_id                  0\n",
       "department_id                0\n",
       "division_id                  0\n",
       "directorate_id               0\n",
       "grade_id                     0\n",
       "education_id                 0\n",
       "major_id                     0\n",
       "years_of_service_months      0\n",
       "pauli                        0\n",
       "faxtor                       0\n",
       "disc                       171\n",
       "disc_word                    0\n",
       "mbti                       149\n",
       "iq                         456\n",
       "gtq                        332\n",
       "tiki                         0\n",
       "rating                     216\n",
       "current_year                 0\n",
       "dtype: int64"
      ]
     },
     "execution_count": 118,
     "metadata": {},
     "output_type": "execute_result"
    }
   ],
   "source": [
    "df_main.isnull().sum()"
   ]
  },
  {
   "cell_type": "markdown",
   "id": "5f6907dd",
   "metadata": {},
   "source": [
    "There are :\n",
    "* **`disc`**: 171 missing values\n",
    "* **`mbti`**: 149 missing values\n",
    "* **`iq`**: 456 missing values\n",
    "* **`gtq`**: 332 missing values \n",
    "* **`rating`**: 216 missing values"
   ]
  },
  {
   "cell_type": "markdown",
   "id": "f48bfd55",
   "metadata": {},
   "source": [
    "**Action Plan:**\n",
    "\n",
    " (Source from the main data) :\n",
    "\n",
    "* **`rating`:** Rows with missing `rating` will be **dropped**. This value is essential for defining our target variable (`is_high_performer`) and cannot be reliably imputed."
   ]
  },
  {
   "cell_type": "code",
   "execution_count": 119,
   "id": "fcc42359",
   "metadata": {},
   "outputs": [
    {
     "name": "stdout",
     "output_type": "stream",
     "text": [
      "--- Handling Missing Values ---\n",
      "Dropped 216 rows due to missing 'rating'.\n"
     ]
    }
   ],
   "source": [
    "print(\"--- Handling Missing Values ---\")\n",
    "\n",
    "# Make a copy for cleaning process the null values\n",
    "df_main_null= df_main.copy()\n",
    "\n",
    "# Action 1: Drop rows where 'rating' is missing\n",
    "rows_before = len(df_main_null)\n",
    "df_main_null.dropna(subset=['rating'], inplace=True)\n",
    "rows_after = len(df_main_null)\n",
    "print(f\"Dropped {rows_before - rows_after} rows due to missing 'rating'.\")"
   ]
  },
  {
   "cell_type": "markdown",
   "id": "253db205",
   "metadata": {},
   "source": [
    "**`iq` (456), `gtq` (332), `mbti` (149), `disc` (171) (Significant Missingness):** Simply dropping rows with missing values for these columns would lead to a substantial loss of data (potentially over 456 rows just for `iq`), which could significantly skew the analysis or reduce the statistical power of our findings. Therefore, **imputation is the preferred strategy** despite its potential biases.\n",
    "\n",
    "1. **Numerical (`iq`, `gtq`):**  \n",
    "   Before determining the imputation method, missingness was analyzed **per `department_id`** to identify whether the absence of data was random or systematic.  \n",
    "   - Departments with **complete missingness (100%)** indicate *missing by design* (e.g., no IQ/GTQ assessments conducted). These values are **retained as NaN** with binary flags (`has_iq_data`, `has_gtq_data`) for transparency.  \n",
    "   - For departments with **partial missingness (<100%)**, the **median value per department** is used for imputation, as it is more robust to skewness and outliers compared to the mean.  \n",
    "   - Histograms and boxplots are used to check for skewness and outliers to confirm that the **median** remains an appropriate central tendency measure for these variables.\n",
    "\n",
    "\n",
    "2.  **Categorical (`mbti`, `disc`):** check the frequency distribution using `value_counts()`. This helps determine if the mode is a reasonable representation or if it will overly dominate the data after imputation."
   ]
  },
  {
   "cell_type": "code",
   "execution_count": 120,
   "id": "b7277a57",
   "metadata": {},
   "outputs": [
    {
     "name": "stdout",
     "output_type": "stream",
     "text": [
      "--- Percentage of Missing IQ per Department ID ---\n",
      "department_id\n",
      "4    100.000000\n",
      "5     10.443038\n",
      "2      8.098592\n",
      "6      6.574394\n",
      "3      5.345912\n",
      "1      5.172414\n",
      "Name: iq, dtype: float64\n",
      "\n",
      "--- Percentage of Missing GTQ per Department ID ---\n",
      "department_id\n",
      "4    100.0\n",
      "1      0.0\n",
      "2      0.0\n",
      "3      0.0\n",
      "5      0.0\n",
      "6      0.0\n",
      "Name: gtq, dtype: float64\n"
     ]
    }
   ],
   "source": [
    "# Calculate the percentage of missing values for iq and gtq by department\n",
    "missing_iq = df_main_null.groupby('department_id')['iq'].apply(lambda x: x.isna().mean() * 100)\n",
    "missing_gtq = df_main_null.groupby('department_id')['gtq'].apply(lambda x: x.isna().mean() * 100)\n",
    "\n",
    "print(\"--- Percentage of Missing IQ per Department ID ---\")\n",
    "print(missing_iq.sort_values(ascending=False))\n",
    "print(\"\\n--- Percentage of Missing GTQ per Department ID ---\")\n",
    "print(missing_gtq.sort_values(ascending=False))\n"
   ]
  },
  {
   "cell_type": "code",
   "execution_count": 121,
   "id": "e3a5a2c5",
   "metadata": {},
   "outputs": [
    {
     "data": {
      "image/png": "[encoded data removed]",
      "text/plain": [
       "<Figure size 1200x800 with 4 Axes>"
      ]
     },
     "metadata": {},
     "output_type": "display_data"
    }
   ],
   "source": [
    "\n",
    "# Filter only departments that have at least some data (not 100% missing)\n",
    "iq_dept_with_data = missing_iq[missing_iq < 100].index.tolist()\n",
    "gtq_dept_with_data = missing_gtq[missing_gtq < 100].index.tolist()\n",
    "\n",
    "fig, axes = plt.subplots(2, 2, figsize=(12, 8))\n",
    "fig.suptitle(\"Distribution Check: IQ & GTQ per Department (Non-empty only)\", fontsize=14)\n",
    "\n",
    "# IQ - Histogram\n",
    "sns.histplot(data=df_main_null[df_main_null['department_id'].isin(iq_dept_with_data)], \n",
    "             x='iq', bins=20, kde=True, ax=axes[0,0])\n",
    "axes[0,0].set_title(\"IQ Distribution (All Valid Departments)\")\n",
    "\n",
    "# IQ - Boxplot\n",
    "sns.boxplot(data=df_main_null[df_main_null['department_id'].isin(iq_dept_with_data)], \n",
    "            x='iq', ax=axes[0,1])\n",
    "axes[0,1].set_title(\"IQ Boxplot (Outlier Check)\")\n",
    "\n",
    "# GTQ - Histogram\n",
    "sns.histplot(data=df_main_null[df_main_null['department_id'].isin(gtq_dept_with_data)], \n",
    "             x='gtq', bins=20, kde=True, ax=axes[1,0])\n",
    "axes[1,0].set_title(\"GTQ Distribution (All Valid Departments)\")\n",
    "\n",
    "# GTQ - Boxplot\n",
    "sns.boxplot(data=df_main_null[df_main_null['department_id'].isin(gtq_dept_with_data)], \n",
    "            x='gtq', ax=axes[1,1])\n",
    "axes[1,1].set_title(\"GTQ Boxplot (Outlier Check)\")\n",
    "\n",
    "plt.tight_layout()\n",
    "plt.show()\n"
   ]
  },
  {
   "cell_type": "markdown",
   "id": "4e0d32c7",
   "metadata": {},
   "source": [
    "The histogram and boxplot checks reveal that both `iq` and `gtq` distributions are **slightly skewed** and contain a few outliers, \n",
    "but their central tendency (median) remains stable across departments.  \n",
    "\n",
    "Therefore, **median imputation is justified** because:\n",
    "- It is robust to skewness and outliers.\n",
    "- It maintains the within-department central trend without being influenced by extreme values.\n"
   ]
  },
  {
   "cell_type": "code",
   "execution_count": 122,
   "id": "4cedde2d",
   "metadata": {},
   "outputs": [
    {
     "name": "stdout",
     "output_type": "stream",
     "text": [
      "\n",
      "Remaining missing values after imputation:\n",
      "iq     297\n",
      "gtq    297\n",
      "dtype: int64\n",
      "\n",
      "Number of imputed rows (flag = 1):\n",
      "iq_is_imputed     107\n",
      "gtq_is_imputed      0\n",
      "dtype: int64\n"
     ]
    }
   ],
   "source": [
    "\n",
    "# Define helper function for department-wise median imputation (returns filled series)\n",
    "def fill_median_per_dept(series):\n",
    "    if series.isna().all():\n",
    "        return series  # skip department with all NaN\n",
    "    median_val = series.median()\n",
    "    return series.fillna(median_val)\n",
    "\n",
    "# Create backup before imputation for flag comparison \n",
    "df_main_null[\"iq_before\"] = df_main_null[\"iq\"]\n",
    "df_main_null[\"gtq_before\"] = df_main_null[\"gtq\"]\n",
    "\n",
    "#Apply median imputation per department \n",
    "df_main_null[\"iq\"] = df_main_null.groupby(\"department_id\")[\"iq\"].transform(fill_median_per_dept)\n",
    "df_main_null[\"gtq\"] = df_main_null.groupby(\"department_id\")[\"gtq\"].transform(fill_median_per_dept)\n",
    "\n",
    "# Create binary flags for imputation transparency \n",
    "df_main_null[\"iq_is_imputed\"] = np.where(\n",
    "    df_main_null[\"iq_before\"].isna() & df_main_null[\"iq\"].notna(), 1, 0\n",
    ")\n",
    "df_main_null[\"gtq_is_imputed\"] = np.where(\n",
    "    df_main_null[\"gtq_before\"].isna() & df_main_null[\"gtq\"].notna(), 1, 0\n",
    ")\n",
    "\n",
    "# Create department-level data availability flags (existing from your code) \n",
    "df_main_null[\"has_iq_data\"] = np.where(df_main_null[\"department_id\"].isin(iq_dept_with_data), 1, 0)\n",
    "df_main_null[\"has_gtq_data\"] = np.where(df_main_null[\"department_id\"].isin(gtq_dept_with_data), 1, 0)\n",
    "\n",
    "# Drop backup columns for cleanliness \n",
    "df_main_null.drop([\"iq_before\", \"gtq_before\"], axis=1, inplace=True)\n",
    "\n",
    "# Check imputation results \n",
    "print(\"\\nRemaining missing values after imputation:\")\n",
    "print(df_main_null[[\"iq\", \"gtq\"]].isna().sum())\n",
    "\n",
    "print(\"\\nNumber of imputed rows (flag = 1):\")\n",
    "print(df_main_null[[\"iq_is_imputed\", \"gtq_is_imputed\"]].sum())\n"
   ]
  },
  {
   "cell_type": "markdown",
   "id": "3f743928",
   "metadata": {},
   "source": [
    "Based on the distributional checks, median imputation was applied selectively:\n",
    "- **Departments with full missingness (100%)** which is **4** wit total 297 data were left as `NaN` (no valid basis for imputation).\n",
    "- **Departments with partial missingness (<100%)** were imputed using the **median per department**.\n",
    "\n",
    "This ensures that:\n",
    "1. The imputed values are consistent with department-level data behavior.\n",
    "2. Statistical validity is maintained by avoiding global imputation biases.\n",
    "3. Future modeling steps can still differentiate between departments with or without assessment data through binary flags.\n"
   ]
  },
  {
   "cell_type": "code",
   "execution_count": 123,
   "id": "eb014fad",
   "metadata": {},
   "outputs": [
    {
     "name": "stdout",
     "output_type": "stream",
     "text": [
      "--- MBTI Value Distribution (Normalized) ---\n",
      "mbti\n",
      "ENFP    0.079422\n",
      "ENFJ    0.070397\n",
      "INTP    0.068592\n",
      "INFP    0.064982\n",
      "ENTP    0.063779\n",
      "ESFJ    0.063177\n",
      "ENTJ    0.061974\n",
      "ISFP    0.061974\n",
      "ISTP    0.061974\n",
      "ISTJ    0.059567\n",
      "Name: proportion, dtype: float64\n",
      "\n",
      "--- DISC Value Distribution (Normalized) ---\n",
      "disc\n",
      "CI    0.094570\n",
      "CD    0.093960\n",
      "DC    0.092129\n",
      "SC    0.090299\n",
      "SI    0.089689\n",
      "CS    0.084808\n",
      "DI    0.081757\n",
      "ID    0.077486\n",
      "IC    0.076266\n",
      "DS    0.075046\n",
      "Name: proportion, dtype: float64\n"
     ]
    }
   ],
   "source": [
    "#  Check Distribution of Categorical Data ('mbti' and 'disc') \n",
    "\n",
    "print(\"--- MBTI Value Distribution (Normalized) ---\")\n",
    "# Using normalize=True gives percentage, easier to judge dominance\n",
    "# .head(10) shows the top 10 most frequent types\n",
    "print(df_main_null['mbti'].value_counts(normalize=True).head(10))\n",
    "\n",
    "print(\"\\n--- DISC Value Distribution (Normalized) ---\")\n",
    "# Check distribution for DISC as well\n",
    "print(df_main_null['disc'].value_counts(normalize=True).head(10))"
   ]
  },
  {
   "cell_type": "code",
   "execution_count": 124,
   "id": "d0323d84",
   "metadata": {},
   "outputs": [
    {
     "data": {
      "text/html": [
       "<div>\n",
       "<style scoped>\n",
       "    .dataframe tbody tr th:only-of-type {\n",
       "        vertical-align: middle;\n",
       "    }\n",
       "\n",
       "    .dataframe tbody tr th {\n",
       "        vertical-align: top;\n",
       "    }\n",
       "\n",
       "    .dataframe thead th {\n",
       "        text-align: right;\n",
       "    }\n",
       "</style>\n",
       "<table border=\"1\" class=\"dataframe\">\n",
       "  <thead>\n",
       "    <tr style=\"text-align: right;\">\n",
       "      <th>disc</th>\n",
       "      <th>CD</th>\n",
       "      <th>CI</th>\n",
       "      <th>CS</th>\n",
       "      <th>DC</th>\n",
       "      <th>DI</th>\n",
       "      <th>DS</th>\n",
       "      <th>IC</th>\n",
       "      <th>ID</th>\n",
       "      <th>IS</th>\n",
       "      <th>SC</th>\n",
       "      <th>SD</th>\n",
       "      <th>SI</th>\n",
       "    </tr>\n",
       "    <tr>\n",
       "      <th>disc_word</th>\n",
       "      <th></th>\n",
       "      <th></th>\n",
       "      <th></th>\n",
       "      <th></th>\n",
       "      <th></th>\n",
       "      <th></th>\n",
       "      <th></th>\n",
       "      <th></th>\n",
       "      <th></th>\n",
       "      <th></th>\n",
       "      <th></th>\n",
       "      <th></th>\n",
       "    </tr>\n",
       "  </thead>\n",
       "  <tbody>\n",
       "    <tr>\n",
       "      <th>Conscientious-Dominant</th>\n",
       "      <td>169</td>\n",
       "      <td>0</td>\n",
       "      <td>0</td>\n",
       "      <td>0</td>\n",
       "      <td>0</td>\n",
       "      <td>0</td>\n",
       "      <td>0</td>\n",
       "      <td>0</td>\n",
       "      <td>0</td>\n",
       "      <td>0</td>\n",
       "      <td>0</td>\n",
       "      <td>0</td>\n",
       "    </tr>\n",
       "    <tr>\n",
       "      <th>Conscientious-Influencer</th>\n",
       "      <td>0</td>\n",
       "      <td>173</td>\n",
       "      <td>0</td>\n",
       "      <td>0</td>\n",
       "      <td>0</td>\n",
       "      <td>0</td>\n",
       "      <td>0</td>\n",
       "      <td>0</td>\n",
       "      <td>0</td>\n",
       "      <td>0</td>\n",
       "      <td>0</td>\n",
       "      <td>0</td>\n",
       "    </tr>\n",
       "    <tr>\n",
       "      <th>Conscientious-Steadiness</th>\n",
       "      <td>0</td>\n",
       "      <td>0</td>\n",
       "      <td>159</td>\n",
       "      <td>0</td>\n",
       "      <td>0</td>\n",
       "      <td>0</td>\n",
       "      <td>0</td>\n",
       "      <td>0</td>\n",
       "      <td>0</td>\n",
       "      <td>0</td>\n",
       "      <td>0</td>\n",
       "      <td>0</td>\n",
       "    </tr>\n",
       "    <tr>\n",
       "      <th>Dominant-Conscientious</th>\n",
       "      <td>0</td>\n",
       "      <td>0</td>\n",
       "      <td>0</td>\n",
       "      <td>163</td>\n",
       "      <td>0</td>\n",
       "      <td>0</td>\n",
       "      <td>0</td>\n",
       "      <td>0</td>\n",
       "      <td>0</td>\n",
       "      <td>0</td>\n",
       "      <td>0</td>\n",
       "      <td>0</td>\n",
       "    </tr>\n",
       "    <tr>\n",
       "      <th>Dominant-Influencer</th>\n",
       "      <td>0</td>\n",
       "      <td>0</td>\n",
       "      <td>0</td>\n",
       "      <td>0</td>\n",
       "      <td>154</td>\n",
       "      <td>0</td>\n",
       "      <td>0</td>\n",
       "      <td>0</td>\n",
       "      <td>0</td>\n",
       "      <td>0</td>\n",
       "      <td>0</td>\n",
       "      <td>0</td>\n",
       "    </tr>\n",
       "    <tr>\n",
       "      <th>Dominant-Steadiness</th>\n",
       "      <td>0</td>\n",
       "      <td>0</td>\n",
       "      <td>0</td>\n",
       "      <td>0</td>\n",
       "      <td>0</td>\n",
       "      <td>140</td>\n",
       "      <td>0</td>\n",
       "      <td>0</td>\n",
       "      <td>0</td>\n",
       "      <td>0</td>\n",
       "      <td>0</td>\n",
       "      <td>0</td>\n",
       "    </tr>\n",
       "    <tr>\n",
       "      <th>Influencer-Conscientious</th>\n",
       "      <td>0</td>\n",
       "      <td>0</td>\n",
       "      <td>0</td>\n",
       "      <td>0</td>\n",
       "      <td>0</td>\n",
       "      <td>0</td>\n",
       "      <td>147</td>\n",
       "      <td>0</td>\n",
       "      <td>0</td>\n",
       "      <td>0</td>\n",
       "      <td>0</td>\n",
       "      <td>0</td>\n",
       "    </tr>\n",
       "    <tr>\n",
       "      <th>Influencer-Dominant</th>\n",
       "      <td>0</td>\n",
       "      <td>0</td>\n",
       "      <td>0</td>\n",
       "      <td>0</td>\n",
       "      <td>0</td>\n",
       "      <td>0</td>\n",
       "      <td>0</td>\n",
       "      <td>143</td>\n",
       "      <td>0</td>\n",
       "      <td>0</td>\n",
       "      <td>0</td>\n",
       "      <td>0</td>\n",
       "    </tr>\n",
       "    <tr>\n",
       "      <th>Influencer-Steadiness</th>\n",
       "      <td>0</td>\n",
       "      <td>0</td>\n",
       "      <td>0</td>\n",
       "      <td>0</td>\n",
       "      <td>0</td>\n",
       "      <td>0</td>\n",
       "      <td>0</td>\n",
       "      <td>0</td>\n",
       "      <td>127</td>\n",
       "      <td>0</td>\n",
       "      <td>0</td>\n",
       "      <td>0</td>\n",
       "    </tr>\n",
       "    <tr>\n",
       "      <th>Steadiness-Conscientious</th>\n",
       "      <td>0</td>\n",
       "      <td>0</td>\n",
       "      <td>0</td>\n",
       "      <td>0</td>\n",
       "      <td>0</td>\n",
       "      <td>0</td>\n",
       "      <td>0</td>\n",
       "      <td>0</td>\n",
       "      <td>0</td>\n",
       "      <td>164</td>\n",
       "      <td>0</td>\n",
       "      <td>0</td>\n",
       "    </tr>\n",
       "    <tr>\n",
       "      <th>Steadiness-Dominant</th>\n",
       "      <td>0</td>\n",
       "      <td>0</td>\n",
       "      <td>0</td>\n",
       "      <td>0</td>\n",
       "      <td>0</td>\n",
       "      <td>0</td>\n",
       "      <td>0</td>\n",
       "      <td>0</td>\n",
       "      <td>0</td>\n",
       "      <td>0</td>\n",
       "      <td>138</td>\n",
       "      <td>0</td>\n",
       "    </tr>\n",
       "    <tr>\n",
       "      <th>Steadiness-Influencer</th>\n",
       "      <td>0</td>\n",
       "      <td>0</td>\n",
       "      <td>0</td>\n",
       "      <td>0</td>\n",
       "      <td>0</td>\n",
       "      <td>0</td>\n",
       "      <td>0</td>\n",
       "      <td>0</td>\n",
       "      <td>0</td>\n",
       "      <td>0</td>\n",
       "      <td>0</td>\n",
       "      <td>162</td>\n",
       "    </tr>\n",
       "  </tbody>\n",
       "</table>\n",
       "</div>"
      ],
      "text/plain": [
       "disc                       CD   CI   CS   DC   DI   DS   IC   ID   IS   SC  \\\n",
       "disc_word                                                                    \n",
       "Conscientious-Dominant    169    0    0    0    0    0    0    0    0    0   \n",
       "Conscientious-Influencer    0  173    0    0    0    0    0    0    0    0   \n",
       "Conscientious-Steadiness    0    0  159    0    0    0    0    0    0    0   \n",
       "Dominant-Conscientious      0    0    0  163    0    0    0    0    0    0   \n",
       "Dominant-Influencer         0    0    0    0  154    0    0    0    0    0   \n",
       "Dominant-Steadiness         0    0    0    0    0  140    0    0    0    0   \n",
       "Influencer-Conscientious    0    0    0    0    0    0  147    0    0    0   \n",
       "Influencer-Dominant         0    0    0    0    0    0    0  143    0    0   \n",
       "Influencer-Steadiness       0    0    0    0    0    0    0    0  127    0   \n",
       "Steadiness-Conscientious    0    0    0    0    0    0    0    0    0  164   \n",
       "Steadiness-Dominant         0    0    0    0    0    0    0    0    0    0   \n",
       "Steadiness-Influencer       0    0    0    0    0    0    0    0    0    0   \n",
       "\n",
       "disc                       SD   SI  \n",
       "disc_word                           \n",
       "Conscientious-Dominant      0    0  \n",
       "Conscientious-Influencer    0    0  \n",
       "Conscientious-Steadiness    0    0  \n",
       "Dominant-Conscientious      0    0  \n",
       "Dominant-Influencer         0    0  \n",
       "Dominant-Steadiness         0    0  \n",
       "Influencer-Conscientious    0    0  \n",
       "Influencer-Dominant         0    0  \n",
       "Influencer-Steadiness       0    0  \n",
       "Steadiness-Conscientious    0    0  \n",
       "Steadiness-Dominant       138    0  \n",
       "Steadiness-Influencer       0  162  "
      ]
     },
     "execution_count": 124,
     "metadata": {},
     "output_type": "execute_result"
    }
   ],
   "source": [
    "pd.pivot_table(df_main, index='disc_word', columns='disc', aggfunc='size', fill_value=0)"
   ]
  },
  {
   "cell_type": "markdown",
   "id": "78b54c24",
   "metadata": {},
   "source": [
    "\n",
    "After checking the mode distribution for `mbti` and `disc`, and particularly confirming the consistent relationship between `disc_word` and `disc`, the following imputation strategy will be applied to handle missing values:\n",
    "\n",
    "1.  **`disc` (171 missing):**\n",
    "    * Missing `disc` values will first be imputed **using the corresponding `disc_word`** via a predefined mapping (e.g., 'Steadiness-Conscientious' maps to 'SC'). This leverages existing information for higher accuracy.\n",
    "\n",
    "2.  **`mbti` (149 missing):**\n",
    "    * Since no similar direct mapping is available and the distribution check showed no single type overly dominating (mode `ENFP` at ~8%), missing `mbti` values will be imputed using the **mode (`ENFP`)**.\n",
    "\n",
    "*Potential Bias:* While these imputation methods help retain data rows, mode imputation can slightly inflate the frequency of the most common categories, and the mapping for `disc` relies on the completeness of `disc_word`. Results should be interpreted with this in mind."
   ]
  },
  {
   "cell_type": "code",
   "execution_count": 125,
   "id": "13557b26",
   "metadata": {},
   "outputs": [
    {
     "name": "stdout",
     "output_type": "stream",
     "text": [
      "DISC standardized to uppercase and stripped.\n",
      "\n",
      "Missing 'disc' values (Before smart impute): 155\n",
      "Missing 'disc' values (After mapping): 0\n"
     ]
    }
   ],
   "source": [
    "# Standardize DISC first\n",
    "df_main_null['disc'] = df_main_null['disc'].str.upper().str.strip()\n",
    "# Standardize disc_word as well (important for mapping)\n",
    "df_main_null['disc_word'] = df_main_null['disc_word'].str.strip()\n",
    "print(\"DISC standardized to uppercase and stripped.\")\n",
    "\n",
    "# Smart Imputation for DISC using disc_word\n",
    "disc_map = {\n",
    "    'Dominant-Influencer': 'DI', 'Dominant-Steadiness': 'DS', 'Dominant-Conscientious': 'DC',\n",
    "    'Influencer-Dominant': 'ID', 'Influencer-Steadiness': 'IS', 'Influencer-Conscientious': 'IC',\n",
    "    'Steadiness-Dominant': 'SD', 'Steadiness-Influencer': 'SI', 'Steadiness-Conscientious': 'SC',\n",
    "    'Conscientious-Dominant': 'CD', 'Conscientious-Influencer': 'CI', 'Conscientious-Steadiness': 'CS'\n",
    "    # Add any other observed variations from df_main['disc_word'].unique()\n",
    "}\n",
    "print(f\"\\nMissing 'disc' values (Before smart impute): {df_main_null['disc'].isnull().sum()}\")\n",
    "mapped_disc = df_main_null['disc_word'].map(disc_map)\n",
    "df_main_null['disc']= df_main_null['disc'].fillna(mapped_disc)\n",
    "print(f\"Missing 'disc' values (After mapping): {df_main_null['disc'].isnull().sum()}\")\n"
   ]
  },
  {
   "cell_type": "code",
   "execution_count": 126,
   "id": "f96b56df",
   "metadata": {},
   "outputs": [
    {
     "name": "stdout",
     "output_type": "stream",
     "text": [
      "\n",
      "--- Missing Values (Before Imputation) ---\n",
      "mbti    132\n",
      "dtype: int64\n",
      "Missing 'mbti' imputed with mode: 'ENFP'\n",
      "\n",
      "--- Missing Values (After Imputation) ---\n",
      "mbti    0\n",
      "dtype: int64\n"
     ]
    }
   ],
   "source": [
    "#Imputation value\n",
    "\n",
    "# Verify initial missing counts\n",
    "print(\"\\n--- Missing Values (Before Imputation) ---\")\n",
    "print(df_main_null[[ 'mbti']].isnull().sum())\n",
    "\n",
    "\n",
    "\n",
    "# Action 2: Impute categorical columns ('mbti) with mode\n",
    "mode_mbti = df_main_null['mbti'].mode()[0] # .mode() can return multiple values if ties exist, [0] selects the first one\n",
    "df_main_null['mbti']=df_main_null['mbti'].fillna(mode_mbti)\n",
    "print(f\"Missing 'mbti' imputed with mode: '{mode_mbti}'\")\n",
    "\n",
    "\n",
    "# --- Verification ---\n",
    "print(\"\\n--- Missing Values (After Imputation) ---\")\n",
    "# Check only the imputed columns\n",
    "print(df_main_null[[ 'mbti']].isnull().sum())"
   ]
  },
  {
   "cell_type": "code",
   "execution_count": 127,
   "id": "c52606eb",
   "metadata": {},
   "outputs": [
    {
     "data": {
      "text/plain": [
       "employee_id                  0\n",
       "fullname                     0\n",
       "nip                          0\n",
       "company_id                   0\n",
       "area_id                      0\n",
       "position_id                  0\n",
       "department_id                0\n",
       "division_id                  0\n",
       "directorate_id               0\n",
       "grade_id                     0\n",
       "education_id                 0\n",
       "major_id                     0\n",
       "years_of_service_months      0\n",
       "pauli                        0\n",
       "faxtor                       0\n",
       "disc                         0\n",
       "disc_word                    0\n",
       "mbti                         0\n",
       "iq                         297\n",
       "gtq                        297\n",
       "tiki                         0\n",
       "rating                       0\n",
       "current_year                 0\n",
       "iq_is_imputed                0\n",
       "gtq_is_imputed               0\n",
       "has_iq_data                  0\n",
       "has_gtq_data                 0\n",
       "dtype: int64"
      ]
     },
     "metadata": {},
     "output_type": "display_data"
    },
    {
     "data": {
      "text/plain": [
       "1794"
      ]
     },
     "metadata": {},
     "output_type": "display_data"
    }
   ],
   "source": [
    "display(df_main_null.isnull().sum(), len(df_main_null))"
   ]
  },
  {
   "cell_type": "markdown",
   "id": "dcb859b2",
   "metadata": {},
   "source": [
    "Final data after cleaning and handling missing/null values contains **1,794 valid records**, with **297 remaining `NaN` values**.  \n",
    "\n",
    "These remaining missing values correspond primarily to departments where **IQ and GTQ assessments were never conducted**, "
   ]
  },
  {
   "cell_type": "markdown",
   "id": "2ec1f532",
   "metadata": {},
   "source": [
    "#### Irrelevant value/ Typo in Categorical column"
   ]
  },
  {
   "cell_type": "code",
   "execution_count": 128,
   "id": "ea2d5ccf",
   "metadata": {},
   "outputs": [
    {
     "name": "stdout",
     "output_type": "stream",
     "text": [
      "<class 'pandas.core.frame.DataFrame'>\n",
      "Index: 1794 entries, 0 to 2009\n",
      "Data columns (total 27 columns):\n",
      " #   Column                   Non-Null Count  Dtype  \n",
      "---  ------                   --------------  -----  \n",
      " 0   employee_id              1794 non-null   object \n",
      " 1   fullname                 1794 non-null   object \n",
      " 2   nip                      1794 non-null   object \n",
      " 3   company_id               1794 non-null   int64  \n",
      " 4   area_id                  1794 non-null   int64  \n",
      " 5   position_id              1794 non-null   int64  \n",
      " 6   department_id            1794 non-null   int64  \n",
      " 7   division_id              1794 non-null   int64  \n",
      " 8   directorate_id           1794 non-null   int64  \n",
      " 9   grade_id                 1794 non-null   int64  \n",
      " 10  education_id             1794 non-null   int64  \n",
      " 11  major_id                 1794 non-null   int64  \n",
      " 12  years_of_service_months  1794 non-null   int64  \n",
      " 13  pauli                    1794 non-null   int64  \n",
      " 14  faxtor                   1794 non-null   int64  \n",
      " 15  disc                     1794 non-null   object \n",
      " 16  disc_word                1794 non-null   object \n",
      " 17  mbti                     1794 non-null   object \n",
      " 18  iq                       1497 non-null   float64\n",
      " 19  gtq                      1497 non-null   float64\n",
      " 20  tiki                     1794 non-null   int64  \n",
      " 21  rating                   1794 non-null   float64\n",
      " 22  current_year             1794 non-null   int64  \n",
      " 23  iq_is_imputed            1794 non-null   int64  \n",
      " 24  gtq_is_imputed           1794 non-null   int64  \n",
      " 25  has_iq_data              1794 non-null   int64  \n",
      " 26  has_gtq_data             1794 non-null   int64  \n",
      "dtypes: float64(3), int64(18), object(6)\n",
      "memory usage: 392.4+ KB\n"
     ]
    }
   ],
   "source": [
    "# Make a copy for irrelevant value check\n",
    "df_main_irrelevant = df_main_null.copy()\n",
    "\n",
    "df_main_irrelevant.info()"
   ]
  },
  {
   "cell_type": "code",
   "execution_count": 129,
   "id": "5f33778b",
   "metadata": {},
   "outputs": [
    {
     "name": "stdout",
     "output_type": "stream",
     "text": [
      "--- DISC Value Counts (Absolute) ---\n",
      "disc\n",
      "CI    170\n",
      "CD    167\n",
      "DC    165\n",
      "SI    160\n",
      "SC    158\n",
      "CS    154\n",
      "DI    153\n",
      "ID    139\n",
      "IC    135\n",
      "DS    134\n",
      "SD    134\n",
      "IS    125\n",
      "Name: count, dtype: int64\n"
     ]
    }
   ],
   "source": [
    "# Check the value of each categorical columns  mainly for disc,disc_word and mbti\n",
    "\n",
    "print(\"--- DISC Value Counts (Absolute) ---\")\n",
    "print(df_main_irrelevant['disc'].value_counts())"
   ]
  },
  {
   "cell_type": "code",
   "execution_count": 130,
   "id": "817db396",
   "metadata": {},
   "outputs": [
    {
     "name": "stdout",
     "output_type": "stream",
     "text": [
      "\n",
      "--- DISC Word Value Counts (Absolute) ---\n",
      "disc_word\n",
      "Conscientious-Influencer    170\n",
      "Conscientious-Dominant      167\n",
      "Dominant-Conscientious      165\n",
      "Steadiness-Influencer       160\n",
      "Steadiness-Conscientious    158\n",
      "Conscientious-Steadiness    154\n",
      "Dominant-Influencer         153\n",
      "Influencer-Dominant         139\n",
      "Influencer-Conscientious    135\n",
      "Dominant-Steadiness         134\n",
      "Steadiness-Dominant         134\n",
      "Influencer-Steadiness       125\n",
      "Name: count, dtype: int64\n"
     ]
    }
   ],
   "source": [
    "print(\"\\n--- DISC Word Value Counts (Absolute) ---\")\n",
    "print(df_main_irrelevant['disc_word'].value_counts())"
   ]
  },
  {
   "cell_type": "code",
   "execution_count": 131,
   "id": "744ff9f0",
   "metadata": {},
   "outputs": [
    {
     "name": "stdout",
     "output_type": "stream",
     "text": [
      "\n",
      "--- MBTI Value Counts (Absolute) ---\n",
      "mbti\n",
      "ENFP     264\n",
      "ENFJ     117\n",
      "INTP     114\n",
      "INFP     108\n",
      "ENTP     106\n",
      "ESFJ     105\n",
      "ENTJ     103\n",
      "ISTP     103\n",
      "ISFP     103\n",
      "ISTJ      99\n",
      "ISFJ      98\n",
      "ESFP      96\n",
      "ESTJ      96\n",
      "INFJ      95\n",
      "INTJ      90\n",
      "ESTP      87\n",
      "enfp       6\n",
      "inftj      3\n",
      "Istp       1\n",
      "Name: count, dtype: int64\n"
     ]
    }
   ],
   "source": [
    "print(\"\\n--- MBTI Value Counts (Absolute) ---\")\n",
    "print(df_main_irrelevant['mbti'].value_counts())"
   ]
  },
  {
   "cell_type": "markdown",
   "id": "e3704543",
   "metadata": {},
   "source": [
    "Since there are no issue in `disc` and `disc_word` upon examining the unique values and their counts in the `mbti` column, several inconsistencies were identified:\n",
    "\n",
    "1.  **Typographical Errors:** There are 3 instances of `\"inftj\"`, which appears to be a typo for either `INFJ` or `INTJ`.\n",
    "2.  **Inconsistent Casing:** Some valid MBTI types appear in lowercase (`\"enfp\"`, 6 instances) or mixed case (`\"Istp\"`, 1 instance).\n",
    "\n",
    "**Action Plan:**\n",
    "\n",
    "* All values in the `mbti` column will be converted to **uppercase** to ensure consistency (e.g., `\"enfp\"` becomes `\"ENFP\"`).\n",
    "* The likely typo `\"inftj\"` (which becomes `\"INFTJ\"` after uppercasing) cannot be reliably corrected to either `INFJ` or `INTJ`. Therefore, these 3 instances will be replaced with **`\"UNKNOWN\"`** to preserve the data rows without introducing assumptions.\n",
    "* Missing `mbti` values will still be imputed using the mode after these standardizations are complete."
   ]
  },
  {
   "cell_type": "code",
   "execution_count": 132,
   "id": "35017479",
   "metadata": {},
   "outputs": [
    {
     "name": "stdout",
     "output_type": "stream",
     "text": [
      "Replaced 'inftj' with 'UNKNOWN'.\n",
      "Converted 'mbti' to uppercase and stripped whitespace.\n"
     ]
    }
   ],
   "source": [
    "#  Replace the identified typo 'inftj' with 'UNKNOWN'\n",
    "typo_mbti = 'inftj'\n",
    "replacement_mbti = 'UNKNOWN'\n",
    "if typo_mbti in df_main_irrelevant['mbti'].unique():\n",
    "    df_main_irrelevant['mbti'] = df_main_irrelevant['mbti'].replace(typo_mbti, replacement_mbti)\n",
    "    print(f\"Replaced '{typo_mbti}' with '{replacement_mbti}'.\")\n",
    "else:\n",
    "    print(f\"Typo '{typo_mbti}' not found after uppercasing (already handled or wasn't present).\")\n",
    "\n",
    "\n",
    "# Convert all entries to uppercase and remove leading/trailing spaces\n",
    "df_main_irrelevant['mbti'] = df_main_irrelevant['mbti'].str.upper().str.strip()\n",
    "print(\"Converted 'mbti' to uppercase and stripped whitespace.\")"
   ]
  },
  {
   "cell_type": "markdown",
   "id": "4ea92352",
   "metadata": {},
   "source": [
    "#### Outlier check"
   ]
  },
  {
   "cell_type": "code",
   "execution_count": 133,
   "id": "bfd558c2",
   "metadata": {},
   "outputs": [],
   "source": [
    "#Make a copy the table from the irrelevan check to outlier\n",
    "df_main_outlier=df_main_irrelevant.copy()"
   ]
  },
  {
   "cell_type": "code",
   "execution_count": 134,
   "id": "0c74ae1e",
   "metadata": {},
   "outputs": [
    {
     "data": {
      "image/png": "[encoded data removed]",
      "text/plain": [
       "<Figure size 1200x800 with 6 Axes>"
      ]
     },
     "metadata": {},
     "output_type": "display_data"
    },
    {
     "name": "stdout",
     "output_type": "stream",
     "text": [
      "\n",
      "--- No outliers detected for pauli (IQR method) ---\n",
      "\n",
      "--- No outliers detected for faxtor (IQR method) ---\n",
      "\n",
      "--- No outliers detected for iq (IQR method) ---\n",
      "\n",
      "--- Outlier values for gtq (IQR method) ---\n",
      "[9.]\n",
      "\n",
      "--- No outliers detected for tiki (IQR method) ---\n",
      "\n",
      "--- No outliers detected for rating (IQR method) ---\n",
      "--- Outlier values for rating (Logical method) ---\n",
      "[6. 6. 0. 0.]\n",
      "\n",
      "Outlier Detection Summary (IQR & Logical Ranges):\n"
     ]
    },
    {
     "data": {
      "text/html": [
       "<div>\n",
       "<style scoped>\n",
       "    .dataframe tbody tr th:only-of-type {\n",
       "        vertical-align: middle;\n",
       "    }\n",
       "\n",
       "    .dataframe tbody tr th {\n",
       "        vertical-align: top;\n",
       "    }\n",
       "\n",
       "    .dataframe thead th {\n",
       "        text-align: right;\n",
       "    }\n",
       "</style>\n",
       "<table border=\"1\" class=\"dataframe\">\n",
       "  <thead>\n",
       "    <tr style=\"text-align: right;\">\n",
       "      <th></th>\n",
       "      <th>Q1</th>\n",
       "      <th>Q3</th>\n",
       "      <th>IQR</th>\n",
       "      <th>Lower Bound (IQR)</th>\n",
       "      <th>Upper Bound (IQR)</th>\n",
       "      <th>Expected Min</th>\n",
       "      <th>Expected Max</th>\n",
       "      <th>Outlier Count (IQR)</th>\n",
       "      <th>Outlier Count (Logical)</th>\n",
       "      <th>Outlier % (IQR)</th>\n",
       "    </tr>\n",
       "  </thead>\n",
       "  <tbody>\n",
       "    <tr>\n",
       "      <th>pauli</th>\n",
       "      <td>40.0</td>\n",
       "      <td>81.0</td>\n",
       "      <td>41.0</td>\n",
       "      <td>-21.5</td>\n",
       "      <td>142.5</td>\n",
       "      <td>20.0</td>\n",
       "      <td>100.0</td>\n",
       "      <td>0.0</td>\n",
       "      <td>0.0</td>\n",
       "      <td>0.0</td>\n",
       "    </tr>\n",
       "    <tr>\n",
       "      <th>faxtor</th>\n",
       "      <td>41.0</td>\n",
       "      <td>80.0</td>\n",
       "      <td>39.0</td>\n",
       "      <td>-17.5</td>\n",
       "      <td>138.5</td>\n",
       "      <td>20.0</td>\n",
       "      <td>100.0</td>\n",
       "      <td>0.0</td>\n",
       "      <td>0.0</td>\n",
       "      <td>0.0</td>\n",
       "    </tr>\n",
       "    <tr>\n",
       "      <th>iq</th>\n",
       "      <td>94.0</td>\n",
       "      <td>124.0</td>\n",
       "      <td>30.0</td>\n",
       "      <td>49.0</td>\n",
       "      <td>169.0</td>\n",
       "      <td>80.0</td>\n",
       "      <td>140.0</td>\n",
       "      <td>0.0</td>\n",
       "      <td>0.0</td>\n",
       "      <td>0.0</td>\n",
       "    </tr>\n",
       "    <tr>\n",
       "      <th>gtq</th>\n",
       "      <td>23.0</td>\n",
       "      <td>32.0</td>\n",
       "      <td>9.0</td>\n",
       "      <td>9.5</td>\n",
       "      <td>45.5</td>\n",
       "      <td>None</td>\n",
       "      <td>None</td>\n",
       "      <td>1</td>\n",
       "      <td>N/A</td>\n",
       "      <td>0.06</td>\n",
       "    </tr>\n",
       "    <tr>\n",
       "      <th>tiki</th>\n",
       "      <td>3.0</td>\n",
       "      <td>8.0</td>\n",
       "      <td>5.0</td>\n",
       "      <td>-4.5</td>\n",
       "      <td>15.5</td>\n",
       "      <td>1.0</td>\n",
       "      <td>10.0</td>\n",
       "      <td>0.0</td>\n",
       "      <td>0.0</td>\n",
       "      <td>0.0</td>\n",
       "    </tr>\n",
       "    <tr>\n",
       "      <th>rating</th>\n",
       "      <td>2.0</td>\n",
       "      <td>4.0</td>\n",
       "      <td>2.0</td>\n",
       "      <td>-1.0</td>\n",
       "      <td>7.0</td>\n",
       "      <td>1.0</td>\n",
       "      <td>5.0</td>\n",
       "      <td>0.0</td>\n",
       "      <td>4.0</td>\n",
       "      <td>0.0</td>\n",
       "    </tr>\n",
       "  </tbody>\n",
       "</table>\n",
       "</div>"
      ],
      "text/plain": [
       "          Q1     Q3   IQR Lower Bound (IQR) Upper Bound (IQR) Expected Min  \\\n",
       "pauli   40.0   81.0  41.0             -21.5             142.5         20.0   \n",
       "faxtor  41.0   80.0  39.0             -17.5             138.5         20.0   \n",
       "iq      94.0  124.0  30.0              49.0             169.0         80.0   \n",
       "gtq     23.0   32.0   9.0               9.5              45.5         None   \n",
       "tiki     3.0    8.0   5.0              -4.5              15.5          1.0   \n",
       "rating   2.0    4.0   2.0              -1.0               7.0          1.0   \n",
       "\n",
       "       Expected Max Outlier Count (IQR) Outlier Count (Logical)  \\\n",
       "pauli         100.0                 0.0                     0.0   \n",
       "faxtor        100.0                 0.0                     0.0   \n",
       "iq            140.0                 0.0                     0.0   \n",
       "gtq            None                   1                     N/A   \n",
       "tiki           10.0                 0.0                     0.0   \n",
       "rating          5.0                 0.0                     4.0   \n",
       "\n",
       "       Outlier % (IQR)  \n",
       "pauli              0.0  \n",
       "faxtor             0.0  \n",
       "iq                 0.0  \n",
       "gtq               0.06  \n",
       "tiki               0.0  \n",
       "rating             0.0  "
      ]
     },
     "metadata": {},
     "output_type": "display_data"
    }
   ],
   "source": [
    "# Select numeric columns to check for outliers\n",
    "columns_to_check = ['pauli', 'faxtor', 'iq', 'gtq', 'tiki', 'rating']\n",
    "\n",
    "# Create boxplots for visual inspection\n",
    "df_main_outlier[columns_to_check].plot(\n",
    "    kind='box',\n",
    "    subplots=True,\n",
    "    layout=(2, 3),\n",
    "    figsize=(12, 8),\n",
    "    sharex=False,\n",
    "    sharey=False\n",
    ")\n",
    "plt.suptitle(\"Boxplot for Outlier Detection\", fontsize=14)\n",
    "plt.tight_layout()\n",
    "plt.show()\n",
    "\n",
    "# Define logical (expected) value ranges\n",
    "# Note: 'gtq' is excluded because it represents a total score that varies widely\n",
    "logical_ranges = {\n",
    "    'pauli': (20, 100),\n",
    "    'faxtor': (20, 100),\n",
    "    'iq': (80, 140),\n",
    "    'tiki': (1, 10),\n",
    "    'rating': (1, 5)\n",
    "}\n",
    "\n",
    "# Dictionary to store outlier info summary\n",
    "outlier_info = {}\n",
    "\n",
    "# Loop through each numeric column\n",
    "for col in columns_to_check:\n",
    "    # --- Compute Interquartile Range (IQR) ---\n",
    "    Q1 = df_main_outlier[col].quantile(0.25)\n",
    "    Q3 = df_main_outlier[col].quantile(0.75)\n",
    "    IQR = Q3 - Q1\n",
    "    lower_bound = Q1 - 1.5 * IQR\n",
    "    upper_bound = Q3 + 1.5 * IQR\n",
    "    \n",
    "    # --- Detect outliers using IQR ---\n",
    "    outliers_iqr = df_main_outlier[\n",
    "        (df_main_outlier[col] < lower_bound) | (df_main_outlier[col] > upper_bound)\n",
    "    ]\n",
    "    \n",
    "    # --- Detect logical (expected range) outliers ---\n",
    "    if col in logical_ranges:  # skip gtq\n",
    "        low_limit, high_limit = logical_ranges[col]\n",
    "        outliers_logical = df_main_outlier[\n",
    "            (df_main_outlier[col] < low_limit) | (df_main_outlier[col] > high_limit)\n",
    "        ]\n",
    "        logical_min = low_limit\n",
    "        logical_max = high_limit\n",
    "        logical_count = len(outliers_logical)\n",
    "    else:\n",
    "        logical_min = None\n",
    "        logical_max = None\n",
    "        logical_count = \"N/A\"\n",
    "    \n",
    "    # --- Print actual outlier values (IQR) ---\n",
    "    if len(outliers_iqr) > 0:\n",
    "        print(f\"\\n--- Outlier values for {col} (IQR method) ---\")\n",
    "        print(outliers_iqr[col].values)\n",
    "    else:\n",
    "        print(f\"\\n--- No outliers detected for {col} (IQR method) ---\")\n",
    "\n",
    "    # --- Print logical outlier values ---\n",
    "    if col in logical_ranges and logical_count != \"N/A\" and logical_count > 0:\n",
    "        print(f\"--- Outlier values for {col} (Logical method) ---\")\n",
    "        print(outliers_logical[col].values)\n",
    "\n",
    "    # --- Combine results into summary dict ---\n",
    "    outlier_info[col] = {\n",
    "        'Q1': Q1,\n",
    "        'Q3': Q3,\n",
    "        'IQR': IQR,\n",
    "        'Lower Bound (IQR)': lower_bound,\n",
    "        'Upper Bound (IQR)': upper_bound,\n",
    "        'Expected Min': logical_min,\n",
    "        'Expected Max': logical_max,\n",
    "        'Outlier Count (IQR)': len(outliers_iqr),\n",
    "        'Outlier Count (Logical)': logical_count,\n",
    "        'Outlier % (IQR)': round((len(outliers_iqr) / len(df_main_outlier)) * 100, 2)\n",
    "    }\n",
    "\n",
    "# Create summary DataFrame\n",
    "outlier_df = pd.DataFrame(outlier_info).T\n",
    "\n",
    "# Display the summary table\n",
    "print(\"\\nOutlier Detection Summary (IQR & Logical Ranges):\")\n",
    "display(outlier_df)\n"
   ]
  },
  {
   "cell_type": "markdown",
   "id": "cf4ba31d",
   "metadata": {},
   "source": [
    "\n",
    "  *   `gtq_total`: One value (9) was flagged as a statistical outlier by the IQR method (Lower Bound: 9.5). However, this value is not logically impossible given the potential range of GTQ scores.\n",
    "       \n",
    "   *    `rating`: Four values (two 0s, two 6s)  outside the expected logical range of 1-5. These are considered data errors.\n",
    "\n",
    "* **Action Plan:**\n",
    "    * The `gtq_total` outlier (9) will be **kept** as it's statistically low but plausibly valid.\n",
    "    * The rows with `rating` values of 0 or 6 will be **removed** as they represent data errors and cannot be correctly classified for performance analysis."
   ]
  },
  {
   "cell_type": "code",
   "execution_count": 135,
   "id": "0091de7b",
   "metadata": {},
   "outputs": [
    {
     "name": "stdout",
     "output_type": "stream",
     "text": [
      "Removed rows with invalid ratings (0 or 6). Remaining data: 1790 rows.\n"
     ]
    }
   ],
   "source": [
    "# Remove logically invalid ratings\n",
    "df_main_outlier = df_main_outlier[~df_main_outlier['rating'].isin([0,6])]\n",
    "\n",
    "print(f\"Removed rows with invalid ratings (0 or 6). Remaining data: {len(df_main_outlier)} rows.\")\n"
   ]
  },
  {
   "cell_type": "markdown",
   "id": "6380fb85",
   "metadata": {},
   "source": [
    "##### Cleaned Data"
   ]
  },
  {
   "cell_type": "markdown",
   "id": "81c1c15f",
   "metadata": {},
   "source": [
    "After completing all data preprocessing steps — including handling missing values, logical validation, and outlier removal —  \n",
    "the final cleaned dataset (`df_main_cleaned`) contains **1,790 valid and consistent records**."
   ]
  },
  {
   "cell_type": "code",
   "execution_count": 136,
   "id": "061b8d54",
   "metadata": {},
   "outputs": [
    {
     "name": "stdout",
     "output_type": "stream",
     "text": [
      "<class 'pandas.core.frame.DataFrame'>\n",
      "Index: 1790 entries, 0 to 2009\n",
      "Data columns (total 27 columns):\n",
      " #   Column                   Non-Null Count  Dtype  \n",
      "---  ------                   --------------  -----  \n",
      " 0   employee_id              1790 non-null   object \n",
      " 1   fullname                 1790 non-null   object \n",
      " 2   nip                      1790 non-null   object \n",
      " 3   company_id               1790 non-null   int64  \n",
      " 4   area_id                  1790 non-null   int64  \n",
      " 5   position_id              1790 non-null   int64  \n",
      " 6   department_id            1790 non-null   int64  \n",
      " 7   division_id              1790 non-null   int64  \n",
      " 8   directorate_id           1790 non-null   int64  \n",
      " 9   grade_id                 1790 non-null   int64  \n",
      " 10  education_id             1790 non-null   int64  \n",
      " 11  major_id                 1790 non-null   int64  \n",
      " 12  years_of_service_months  1790 non-null   int64  \n",
      " 13  pauli                    1790 non-null   int64  \n",
      " 14  faxtor                   1790 non-null   int64  \n",
      " 15  disc                     1790 non-null   object \n",
      " 16  disc_word                1790 non-null   object \n",
      " 17  mbti                     1790 non-null   object \n",
      " 18  iq                       1493 non-null   float64\n",
      " 19  gtq                      1493 non-null   float64\n",
      " 20  tiki                     1790 non-null   int64  \n",
      " 21  rating                   1790 non-null   float64\n",
      " 22  current_year             1790 non-null   int64  \n",
      " 23  iq_is_imputed            1790 non-null   int64  \n",
      " 24  gtq_is_imputed           1790 non-null   int64  \n",
      " 25  has_iq_data              1790 non-null   int64  \n",
      " 26  has_gtq_data             1790 non-null   int64  \n",
      "dtypes: float64(3), int64(18), object(6)\n",
      "memory usage: 391.6+ KB\n"
     ]
    },
    {
     "data": {
      "text/html": [
       "<div>\n",
       "<style scoped>\n",
       "    .dataframe tbody tr th:only-of-type {\n",
       "        vertical-align: middle;\n",
       "    }\n",
       "\n",
       "    .dataframe tbody tr th {\n",
       "        vertical-align: top;\n",
       "    }\n",
       "\n",
       "    .dataframe thead th {\n",
       "        text-align: right;\n",
       "    }\n",
       "</style>\n",
       "<table border=\"1\" class=\"dataframe\">\n",
       "  <thead>\n",
       "    <tr style=\"text-align: right;\">\n",
       "      <th></th>\n",
       "      <th>employee_id</th>\n",
       "      <th>fullname</th>\n",
       "      <th>nip</th>\n",
       "      <th>company_id</th>\n",
       "      <th>area_id</th>\n",
       "      <th>position_id</th>\n",
       "      <th>department_id</th>\n",
       "      <th>division_id</th>\n",
       "      <th>directorate_id</th>\n",
       "      <th>grade_id</th>\n",
       "      <th>...</th>\n",
       "      <th>mbti</th>\n",
       "      <th>iq</th>\n",
       "      <th>gtq</th>\n",
       "      <th>tiki</th>\n",
       "      <th>rating</th>\n",
       "      <th>current_year</th>\n",
       "      <th>iq_is_imputed</th>\n",
       "      <th>gtq_is_imputed</th>\n",
       "      <th>has_iq_data</th>\n",
       "      <th>has_gtq_data</th>\n",
       "    </tr>\n",
       "  </thead>\n",
       "  <tbody>\n",
       "    <tr>\n",
       "      <th>0</th>\n",
       "      <td>EMP100000</td>\n",
       "      <td>Rendra Pratama</td>\n",
       "      <td>806137</td>\n",
       "      <td>1</td>\n",
       "      <td>4</td>\n",
       "      <td>1</td>\n",
       "      <td>6</td>\n",
       "      <td>3</td>\n",
       "      <td>3</td>\n",
       "      <td>2</td>\n",
       "      <td>...</td>\n",
       "      <td>ENFP</td>\n",
       "      <td>94.0</td>\n",
       "      <td>33.0</td>\n",
       "      <td>2</td>\n",
       "      <td>3.0</td>\n",
       "      <td>2025</td>\n",
       "      <td>0</td>\n",
       "      <td>0</td>\n",
       "      <td>1</td>\n",
       "      <td>1</td>\n",
       "    </tr>\n",
       "    <tr>\n",
       "      <th>1</th>\n",
       "      <td>EMP100001</td>\n",
       "      <td>Wulan Setiawan</td>\n",
       "      <td>476388</td>\n",
       "      <td>4</td>\n",
       "      <td>4</td>\n",
       "      <td>4</td>\n",
       "      <td>5</td>\n",
       "      <td>5</td>\n",
       "      <td>3</td>\n",
       "      <td>1</td>\n",
       "      <td>...</td>\n",
       "      <td>INTP</td>\n",
       "      <td>94.0</td>\n",
       "      <td>17.0</td>\n",
       "      <td>3</td>\n",
       "      <td>3.0</td>\n",
       "      <td>2025</td>\n",
       "      <td>0</td>\n",
       "      <td>0</td>\n",
       "      <td>1</td>\n",
       "      <td>1</td>\n",
       "    </tr>\n",
       "    <tr>\n",
       "      <th>2</th>\n",
       "      <td>EMP100002</td>\n",
       "      <td>Julia Jatmiko Situmorang</td>\n",
       "      <td>941921</td>\n",
       "      <td>1</td>\n",
       "      <td>3</td>\n",
       "      <td>5</td>\n",
       "      <td>1</td>\n",
       "      <td>1</td>\n",
       "      <td>3</td>\n",
       "      <td>1</td>\n",
       "      <td>...</td>\n",
       "      <td>ENFP</td>\n",
       "      <td>109.0</td>\n",
       "      <td>20.0</td>\n",
       "      <td>3</td>\n",
       "      <td>4.0</td>\n",
       "      <td>2025</td>\n",
       "      <td>0</td>\n",
       "      <td>0</td>\n",
       "      <td>1</td>\n",
       "      <td>1</td>\n",
       "    </tr>\n",
       "    <tr>\n",
       "      <th>3</th>\n",
       "      <td>EMP100003</td>\n",
       "      <td>Oka Halim</td>\n",
       "      <td>751615</td>\n",
       "      <td>1</td>\n",
       "      <td>3</td>\n",
       "      <td>4</td>\n",
       "      <td>2</td>\n",
       "      <td>1</td>\n",
       "      <td>1</td>\n",
       "      <td>2</td>\n",
       "      <td>...</td>\n",
       "      <td>ENTJ</td>\n",
       "      <td>85.0</td>\n",
       "      <td>39.0</td>\n",
       "      <td>3</td>\n",
       "      <td>3.0</td>\n",
       "      <td>2025</td>\n",
       "      <td>0</td>\n",
       "      <td>0</td>\n",
       "      <td>1</td>\n",
       "      <td>1</td>\n",
       "    </tr>\n",
       "    <tr>\n",
       "      <th>4</th>\n",
       "      <td>EMP100004</td>\n",
       "      <td>Dwi Pratama</td>\n",
       "      <td>443809</td>\n",
       "      <td>3</td>\n",
       "      <td>4</td>\n",
       "      <td>6</td>\n",
       "      <td>5</td>\n",
       "      <td>3</td>\n",
       "      <td>3</td>\n",
       "      <td>1</td>\n",
       "      <td>...</td>\n",
       "      <td>INTJ</td>\n",
       "      <td>134.0</td>\n",
       "      <td>21.0</td>\n",
       "      <td>9</td>\n",
       "      <td>4.0</td>\n",
       "      <td>2025</td>\n",
       "      <td>0</td>\n",
       "      <td>0</td>\n",
       "      <td>1</td>\n",
       "      <td>1</td>\n",
       "    </tr>\n",
       "  </tbody>\n",
       "</table>\n",
       "<p>5 rows × 27 columns</p>\n",
       "</div>"
      ],
      "text/plain": [
       "  employee_id                  fullname     nip  company_id  area_id  \\\n",
       "0   EMP100000            Rendra Pratama  806137           1        4   \n",
       "1   EMP100001            Wulan Setiawan  476388           4        4   \n",
       "2   EMP100002  Julia Jatmiko Situmorang  941921           1        3   \n",
       "3   EMP100003                 Oka Halim  751615           1        3   \n",
       "4   EMP100004               Dwi Pratama  443809           3        4   \n",
       "\n",
       "   position_id  department_id  division_id  directorate_id  grade_id  ...  \\\n",
       "0            1              6            3               3         2  ...   \n",
       "1            4              5            5               3         1  ...   \n",
       "2            5              1            1               3         1  ...   \n",
       "3            4              2            1               1         2  ...   \n",
       "4            6              5            3               3         1  ...   \n",
       "\n",
       "   mbti     iq   gtq  tiki  rating current_year iq_is_imputed gtq_is_imputed  \\\n",
       "0  ENFP   94.0  33.0     2     3.0         2025             0              0   \n",
       "1  INTP   94.0  17.0     3     3.0         2025             0              0   \n",
       "2  ENFP  109.0  20.0     3     4.0         2025             0              0   \n",
       "3  ENTJ   85.0  39.0     3     3.0         2025             0              0   \n",
       "4  INTJ  134.0  21.0     9     4.0         2025             0              0   \n",
       "\n",
       "   has_iq_data  has_gtq_data  \n",
       "0            1             1  \n",
       "1            1             1  \n",
       "2            1             1  \n",
       "3            1             1  \n",
       "4            1             1  \n",
       "\n",
       "[5 rows x 27 columns]"
      ]
     },
     "metadata": {},
     "output_type": "display_data"
    },
    {
     "data": {
      "text/plain": [
       "None"
      ]
     },
     "metadata": {},
     "output_type": "display_data"
    }
   ],
   "source": [
    "#Make a copy to a clean data\n",
    "df_main_cleaned = df_main_outlier.copy()\n",
    "\n",
    "display(df_main_cleaned.head(), df_main_cleaned.info())"
   ]
  },
  {
   "cell_type": "markdown",
   "id": "5ab91be7",
   "metadata": {},
   "source": [
    "### One to Many Data"
   ]
  },
  {
   "cell_type": "markdown",
   "id": "92efb8bf",
   "metadata": {},
   "source": [
    "#### Competencies data"
   ]
  },
  {
   "cell_type": "code",
   "execution_count": 137,
   "id": "09457734",
   "metadata": {},
   "outputs": [
    {
     "name": "stdout",
     "output_type": "stream",
     "text": [
      "<class 'pandas.core.frame.DataFrame'>\n",
      "RangeIndex: 20100 entries, 0 to 20099\n",
      "Data columns (total 5 columns):\n",
      " #   Column        Non-Null Count  Dtype  \n",
      "---  ------        --------------  -----  \n",
      " 0   employee_id   20100 non-null  object \n",
      " 1   pillar_code   20100 non-null  object \n",
      " 2   pillar_label  20100 non-null  object \n",
      " 3   score         18495 non-null  float64\n",
      " 4   year          20100 non-null  int64  \n",
      "dtypes: float64(1), int64(1), object(3)\n",
      "memory usage: 785.3+ KB\n"
     ]
    }
   ],
   "source": [
    "df_competencies.info()"
   ]
  },
  {
   "cell_type": "markdown",
   "id": "0a7e28ea",
   "metadata": {},
   "source": [
    "##### Irrelevant Value check"
   ]
  },
  {
   "cell_type": "code",
   "execution_count": 138,
   "id": "b860b77d",
   "metadata": {},
   "outputs": [],
   "source": [
    "# Make a copy for irrelevant value\n",
    "df_competencies_irrelevant = df_competencies.copy()"
   ]
  },
  {
   "cell_type": "code",
   "execution_count": 139,
   "id": "2e127072",
   "metadata": {},
   "outputs": [
    {
     "name": "stdout",
     "output_type": "stream",
     "text": [
      "Unique Pillar Code Counts\n",
      "pillar_code\n",
      "GDR    2010\n",
      "CEX    2010\n",
      "IDS    2010\n",
      "QDD    2010\n",
      "STO    2010\n",
      "SEA    2010\n",
      "VCU    2010\n",
      "LIE    2010\n",
      "FTC    2010\n",
      "CSI    2010\n",
      "Name: count, dtype: int64\n"
     ]
    }
   ],
   "source": [
    "# Check the irrelevant value for each columns mainly for pillar_code , pillar label , and score\n",
    "\n",
    "print(\"Unique Pillar Code Counts\")\n",
    "print(df_competencies_irrelevant ['pillar_code'].value_counts())\n",
    "\n"
   ]
  },
  {
   "cell_type": "code",
   "execution_count": 140,
   "id": "ad64f7c3",
   "metadata": {},
   "outputs": [
    {
     "name": "stdout",
     "output_type": "stream",
     "text": [
      "Unique Pillar Label Counts\n",
      "pillar_label\n",
      "Growth Drive & Resilience       2010\n",
      "Curiosity & Experimentation     2010\n",
      "Insight & Decision Sharpness    2010\n",
      "Quality Delivery Discipline     2010\n",
      "Synergy & Team Orientation      2010\n",
      "Social Empathy & Awareness      2010\n",
      "Value Creation for Users        2010\n",
      "Lead, Inspire & Empower         2010\n",
      "Forward Thinking & Clarity      2010\n",
      "Commercial Savvy & Impact       2010\n",
      "Name: count, dtype: int64\n"
     ]
    }
   ],
   "source": [
    "print(\"Unique Pillar Label Counts\")\n",
    "print(df_competencies_irrelevant ['pillar_label'].value_counts())\n",
    "\n"
   ]
  },
  {
   "cell_type": "code",
   "execution_count": 141,
   "id": "cb8e315b",
   "metadata": {},
   "outputs": [
    {
     "name": "stdout",
     "output_type": "stream",
     "text": [
      "\n",
      "Score Value Counts\n",
      "score\n",
      "0.0       26\n",
      "1.0     2005\n",
      "2.0     3799\n",
      "3.0     5751\n",
      "4.0     4640\n",
      "5.0     2206\n",
      "6.0       30\n",
      "99.0      38\n",
      "Name: count, dtype: int64\n"
     ]
    }
   ],
   "source": [
    "print(\"\\nScore Value Counts\")\n",
    "# Verify that only scores 1-5 (or imputed medians) exist\n",
    "# Use sort_index() to see them in order\n",
    "print(df_competencies_irrelevant ['score'].value_counts().sort_index())"
   ]
  },
  {
   "cell_type": "markdown",
   "id": "c8712297",
   "metadata": {},
   "source": [
    "**Anomaly Detection in Competency Scores:**\n",
    "\n",
    "The `.value_counts()` output for the `score` column confirms the presence of values outside the expected 1-5 range:\n",
    "* Scores of **0.0** (26 instances)\n",
    "* Scores of **6.0** (30 instances)\n",
    "* Scores of **99.0** (38 instances)\n",
    "\n",
    "These are considered data errors or invalid placeholders and must be handled before imputation.\n",
    "\n",
    "**Action Plan:** These anomalous scores (0.0, 6.0, 99.0) will be replaced with `NaN` to treat them as missing values"
   ]
  },
  {
   "cell_type": "code",
   "execution_count": 142,
   "id": "3db47c7e",
   "metadata": {},
   "outputs": [
    {
     "name": "stdout",
     "output_type": "stream",
     "text": [
      "Original NaN count in score: 1605\n",
      "Count of 0.0 scores: 26\n",
      "Count of 6.0 scores: 30\n",
      "Count of 99.0 scores: 38\n",
      "\n",
      "Values 0.0, 6.0, and 99.0 replaced with NaN.\n",
      "New total NaN count in score: 1699\n"
     ]
    }
   ],
   "source": [
    "# Clean Anomalous Scores (0, 6, 99) and Impute \n",
    "\n",
    "# Replace Anomalous Scores with NaN \n",
    "invalid_scores = [0.0, 6.0, 99.0]\n",
    "original_nan_count = df_competencies_irrelevant['score'].isnull().sum() # Count NaNs before replacement\n",
    "\n",
    "print(f\"Original NaN count in score: {original_nan_count}\")\n",
    "print(f\"Count of 0.0 scores: {(df_competencies_irrelevant['score'] == 0.0).sum()}\")\n",
    "print(f\"Count of 6.0 scores: {(df_competencies_irrelevant['score'] == 6.0).sum()}\") # Check for 6.0\n",
    "print(f\"Count of 99.0 scores: {(df_competencies_irrelevant['score'] == 99.0).sum()}\")\n",
    "\n",
    "# Replace 0, 6, and 99 with NaN\n",
    "df_competencies_irrelevant['score'] = df_competencies_irrelevant['score'].replace(invalid_scores, np.nan)\n",
    "\n",
    "new_nan_count = df_competencies_irrelevant['score'].isnull().sum()\n",
    "print(f\"\\nValues 0.0, 6.0, and 99.0 replaced with NaN.\")\n",
    "print(f\"New total NaN count in score: {new_nan_count}\")"
   ]
  },
  {
   "cell_type": "markdown",
   "id": "3fffca13",
   "metadata": {},
   "source": [
    "##### Null Value "
   ]
  },
  {
   "cell_type": "code",
   "execution_count": 143,
   "id": "98c562d4",
   "metadata": {},
   "outputs": [
    {
     "data": {
      "text/plain": [
       "employee_id        0\n",
       "pillar_code        0\n",
       "pillar_label       0\n",
       "score           1699\n",
       "year               0\n",
       "dtype: int64"
      ]
     },
     "execution_count": 143,
     "metadata": {},
     "output_type": "execute_result"
    }
   ],
   "source": [
    "# Make a copy for null value analysis\n",
    "df_competencies_null = df_competencies_irrelevant.copy()\n",
    "df_competencies_null.isnull().sum()"
   ]
  },
  {
   "cell_type": "markdown",
   "id": "23126b4b",
   "metadata": {},
   "source": [
    "There is **1699 missing values** specifically in the `score` column of the `df_competencies`  \n",
    "\n",
    " This represents a significant amount of missing data that needs to be addressed before comparative analysis."
   ]
  },
  {
   "cell_type": "code",
   "execution_count": 144,
   "id": "c604c9ac",
   "metadata": {},
   "outputs": [
    {
     "name": "stdout",
     "output_type": "stream",
     "text": [
      "  pillar_code  missing_count  total  missing_percentage\n",
      "8         STO            185   2010            9.203980\n",
      "1         CSI            183   2010            9.104478\n",
      "6         QDD            177   2010            8.805970\n",
      "9         VCU            176   2010            8.756219\n",
      "5         LIE            172   2010            8.557214\n",
      "4         IDS            167   2010            8.308458\n",
      "2         FTC            165   2010            8.208955\n",
      "0         CEX            162   2010            8.059701\n",
      "3         GDR            157   2010            7.810945\n",
      "7         SEA            155   2010            7.711443\n"
     ]
    },
    {
     "name": "stderr",
     "output_type": "stream",
     "text": [
      "C:\\Users\\Fakhri\\AppData\\Local\\Temp\\ipykernel_19692\\845659221.py:4: FutureWarning: DataFrameGroupBy.apply operated on the grouping columns. This behavior is deprecated, and in a future version of pandas the grouping columns will be excluded from the operation. Either pass `include_groups=False` to exclude the groupings or explicitly select the grouping columns after groupby to silence this warning.\n",
      "  .apply(lambda g: pd.DataFrame({\n"
     ]
    }
   ],
   "source": [
    "#Check for the missing value per pillar\n",
    "df_missing = (\n",
    "    df_competencies_null.groupby(\"pillar_code\")\n",
    "    .apply(lambda g: pd.DataFrame({\n",
    "        \"missing_count\": [g[\"score\"].isna().sum()],\n",
    "        \"total\": [len(g)],\n",
    "        \"missing_percentage\": [g[\"score\"].isna().sum() / len(g) * 100]\n",
    "    }))\n",
    "    .reset_index(level=1, drop=True)\n",
    "    .reset_index()\n",
    "    .sort_values(\"missing_percentage\", ascending=False)\n",
    ")\n",
    "\n",
    "print(df_missing)\n"
   ]
  },
  {
   "cell_type": "markdown",
   "id": "62d7711e",
   "metadata": {},
   "source": [
    "Breaking down the missing scores **by competency pillar** shows that the missing data is distributed across **all pillars**, with percentages ranging from approximately **7.4% to 9.3%**. No single pillar has an exceptionally high rate of missingness compared to others.\n",
    "\n",
    "**Implication:** Since the missingness is relatively low (<10%) but present everywhere, simply ignoring `NaN` (`skipna=True`) during group comparisons could still introduce bias if the missingness isn't random across performance groups. Therefore, imputation remains a practical approach to ensure consistent group comparisons across all pillars."
   ]
  },
  {
   "cell_type": "code",
   "execution_count": null,
   "id": "00642cfe",
   "metadata": {},
   "outputs": [
    {
     "data": {
      "image/png": "[encoded data removed]",
      "text/plain": [
       "<Figure size 2500x800 with 20 Axes>"
      ]
     },
     "metadata": {},
     "output_type": "display_data"
    }
   ],
   "source": [
    "#Check Score Distribution per Competency Pillar (with X-axis Limit) ---\n",
    "\n",
    "# Get unique pillar codes\n",
    "pillar_codes = df_competencies_null['pillar_code'].unique()\n",
    "n_pillars = len(pillar_codes)\n",
    "\n",
    "# Determine grid size (e.g., 5 columns wide)\n",
    "n_cols = 5\n",
    "n_rows = (n_pillars + n_cols - 1) // n_cols # Calculate needed rows\n",
    "\n",
    "# Create figure and axes grid\n",
    "fig, axes = plt.subplots(n_rows, n_cols * 2, figsize=(n_cols * 5, n_rows * 4)) # 2 plots per pillar\n",
    "axes = axes.flatten() # Flatten the axes array for easy iteration\n",
    "\n",
    "plot_idx = 0\n",
    "for i, pillar in enumerate(sorted(pillar_codes)): # Sort pillars for consistent order\n",
    "    # Filter data for the current pillar, excluding NaNs for plotting distribution\n",
    "    pillar_data = df_competencies_null[df_competencies_null['pillar_code'] == pillar]['score'].dropna()\n",
    "\n",
    "    if not pillar_data.empty:\n",
    "        # Histogram\n",
    "        ax_hist = axes[plot_idx]\n",
    "        sns.histplot(pillar_data, kde=True, ax=ax_hist, bins=range(1, 7)) # Optional: set bins for integer scores\n",
    "        ax_hist.set_title(f'{pillar} Score (Hist)')\n",
    "        ax_hist.set_xlabel('Score')\n",
    "        ax_hist.set_xlim(0.5, 5.5) # Set x-axis limits from 0.5 to 5.5\n",
    "\n",
    "        # Boxplot\n",
    "        ax_box = axes[plot_idx + 1]\n",
    "        sns.boxplot(y=pillar_data, ax=ax_box)\n",
    "        ax_box.set_title(f'{pillar} Score (Box)')\n",
    "        ax_box.set_ylabel('Score')\n",
    "        # Optional: Set y-axis limit for boxplot too if needed\n",
    "        # ax_box.set_ylim(0.5, 5.5)\n",
    "\n",
    "        plot_idx += 2 # Move to the next pair of axes\n",
    "    else:\n",
    "         # Handle case where a pillar might have NO scores\n",
    "        axes[plot_idx].set_title(f'{pillar} (No Data)')\n",
    "        axes[plot_idx].set_visible(False)\n",
    "        axes[plot_idx + 1].set_visible(False)\n",
    "        plot_idx += 2\n",
    "\n",
    "\n",
    "# Hide any unused subplots at the end\n",
    "for j in range(plot_idx, len(axes)):\n",
    "    axes[j].set_visible(False)\n",
    "\n",
    "plt.tight_layout()\n",
    "plt.show()"
   ]
  },
  {
   "cell_type": "markdown",
   "id": "17dc7195",
   "metadata": {},
   "source": [
    "* Given the slightly presence of outliers and potential skewness in the score distributions for various pillars, using the **pillar-specific median** is confirmed as the most **robust** imputation method. The median is less sensitive to extreme values compared to the mean, providing a more stable estimate of the central tendency for filling missing scores in this dataset."
   ]
  },
  {
   "cell_type": "code",
   "execution_count": 146,
   "id": "68abaa67",
   "metadata": {},
   "outputs": [
    {
     "name": "stdout",
     "output_type": "stream",
     "text": [
      "Missing 'score' in df_competencies (Before): 1699\n",
      "\n",
      "Missing 'score' in df_competencies imputed with pillar-specific median.\n",
      "Missing 'score' in df_competencies (After): 0\n",
      "Number of rows imputed (flag=1): 1699\n"
     ]
    }
   ],
   "source": [
    "# Impute Missing Competency Scores using Median *per Pillar\n",
    "\n",
    "print(f\"Missing 'score' in df_competencies (Before): {df_competencies_null['score'].isnull().sum()}\")\n",
    "\n",
    "# Backup original column for flagging\n",
    "df_competencies_null['score_before'] = df_competencies_null['score']\n",
    "\n",
    "# Calculate the median score FOR EACH pillar_code separately\n",
    "# 'transform' calculates the median per group and then aligns it back to the original index\n",
    "median_scores_by_pillar = df_competencies_null.groupby('pillar_code')['score'].transform('median')\n",
    "\n",
    "# Fill NaN values in the 'score' column using the corresponding pillar's median\n",
    "# Using the safer assignment method\n",
    "df_competencies_null['score'] = df_competencies_null['score'].fillna(median_scores_by_pillar)\n",
    "\n",
    "# Create flag for imputed rows \n",
    "df_competencies_null['score_is_imputed'] = np.where(df_competencies_null['score_before'].isna() & df_competencies_null['score'].notna(),1, 0)\n",
    "\n",
    "# Drop temporary backup column \n",
    "df_competencies_null.drop(columns=['score_before'], inplace=True)\n",
    "\n",
    "# Print summary \n",
    "print(f\"\\nMissing 'score' in df_competencies imputed with pillar-specific median.\")\n",
    "print(f\"Missing 'score' in df_competencies (After): {df_competencies_null['score'].isnull().sum()}\")\n",
    "print(f\"Number of rows imputed (flag=1): {df_competencies_null['score_is_imputed'].sum()}\")"
   ]
  },
  {
   "cell_type": "markdown",
   "id": "3e360f4c",
   "metadata": {},
   "source": [
    " The missing `score` values have been successfully imputed using the **median score specific to each `pillar_code`**. The verification step confirms that there are now **0 missing values** in the `score` column.\n",
    "\n",
    "**Rationale:** While acknowledging that the original `NaN` might represent \"not assessed\" or \"not applicable,\" this imputation method was chosen primarily to **enable consistent and fair comparison of average scores between performance groups across all competency pillars** during this exploratory phase. The potential bias introduced by using the median is noted and will be considered during interpretation, especially for pillars where the difference between groups is marginal."
   ]
  },
  {
   "cell_type": "markdown",
   "id": "5019e38e",
   "metadata": {},
   "source": [
    "##### Cleaned Competencies data"
   ]
  },
  {
   "cell_type": "markdown",
   "id": "79a60610",
   "metadata": {},
   "source": [
    "After handling anomalous scores (0.0, 6.0, 99.0) by converting them to `NaN` and subsequently imputing all missing values using the pillar-specific median, the final cleaned `df_competencies_cleaned` (filtered for year 2025) contains **20,100 records with complete and valid scores** within the expected 1-5 range (including imputed values)."
   ]
  },
  {
   "cell_type": "code",
   "execution_count": 147,
   "id": "de4b600a",
   "metadata": {},
   "outputs": [
    {
     "data": {
      "text/html": [
       "<div>\n",
       "<style scoped>\n",
       "    .dataframe tbody tr th:only-of-type {\n",
       "        vertical-align: middle;\n",
       "    }\n",
       "\n",
       "    .dataframe tbody tr th {\n",
       "        vertical-align: top;\n",
       "    }\n",
       "\n",
       "    .dataframe thead th {\n",
       "        text-align: right;\n",
       "    }\n",
       "</style>\n",
       "<table border=\"1\" class=\"dataframe\">\n",
       "  <thead>\n",
       "    <tr style=\"text-align: right;\">\n",
       "      <th></th>\n",
       "      <th>employee_id</th>\n",
       "      <th>pillar_code</th>\n",
       "      <th>pillar_label</th>\n",
       "      <th>score</th>\n",
       "      <th>year</th>\n",
       "      <th>score_is_imputed</th>\n",
       "    </tr>\n",
       "  </thead>\n",
       "  <tbody>\n",
       "    <tr>\n",
       "      <th>0</th>\n",
       "      <td>EMP100000</td>\n",
       "      <td>GDR</td>\n",
       "      <td>Growth Drive &amp; Resilience</td>\n",
       "      <td>3.0</td>\n",
       "      <td>2025</td>\n",
       "      <td>0</td>\n",
       "    </tr>\n",
       "    <tr>\n",
       "      <th>1</th>\n",
       "      <td>EMP100001</td>\n",
       "      <td>GDR</td>\n",
       "      <td>Growth Drive &amp; Resilience</td>\n",
       "      <td>2.0</td>\n",
       "      <td>2025</td>\n",
       "      <td>0</td>\n",
       "    </tr>\n",
       "    <tr>\n",
       "      <th>2</th>\n",
       "      <td>EMP100002</td>\n",
       "      <td>GDR</td>\n",
       "      <td>Growth Drive &amp; Resilience</td>\n",
       "      <td>3.0</td>\n",
       "      <td>2025</td>\n",
       "      <td>0</td>\n",
       "    </tr>\n",
       "    <tr>\n",
       "      <th>3</th>\n",
       "      <td>EMP100003</td>\n",
       "      <td>GDR</td>\n",
       "      <td>Growth Drive &amp; Resilience</td>\n",
       "      <td>4.0</td>\n",
       "      <td>2025</td>\n",
       "      <td>0</td>\n",
       "    </tr>\n",
       "    <tr>\n",
       "      <th>4</th>\n",
       "      <td>EMP100004</td>\n",
       "      <td>GDR</td>\n",
       "      <td>Growth Drive &amp; Resilience</td>\n",
       "      <td>4.0</td>\n",
       "      <td>2025</td>\n",
       "      <td>0</td>\n",
       "    </tr>\n",
       "    <tr>\n",
       "      <th>...</th>\n",
       "      <td>...</td>\n",
       "      <td>...</td>\n",
       "      <td>...</td>\n",
       "      <td>...</td>\n",
       "      <td>...</td>\n",
       "      <td>...</td>\n",
       "    </tr>\n",
       "    <tr>\n",
       "      <th>20095</th>\n",
       "      <td>DUP1942</td>\n",
       "      <td>CSI</td>\n",
       "      <td>Commercial Savvy &amp; Impact</td>\n",
       "      <td>5.0</td>\n",
       "      <td>2025</td>\n",
       "      <td>0</td>\n",
       "    </tr>\n",
       "    <tr>\n",
       "      <th>20096</th>\n",
       "      <td>DUP2096</td>\n",
       "      <td>CSI</td>\n",
       "      <td>Commercial Savvy &amp; Impact</td>\n",
       "      <td>3.0</td>\n",
       "      <td>2025</td>\n",
       "      <td>0</td>\n",
       "    </tr>\n",
       "    <tr>\n",
       "      <th>20097</th>\n",
       "      <td>DUP4177</td>\n",
       "      <td>CSI</td>\n",
       "      <td>Commercial Savvy &amp; Impact</td>\n",
       "      <td>2.0</td>\n",
       "      <td>2025</td>\n",
       "      <td>0</td>\n",
       "    </tr>\n",
       "    <tr>\n",
       "      <th>20098</th>\n",
       "      <td>DUP9801</td>\n",
       "      <td>CSI</td>\n",
       "      <td>Commercial Savvy &amp; Impact</td>\n",
       "      <td>5.0</td>\n",
       "      <td>2025</td>\n",
       "      <td>0</td>\n",
       "    </tr>\n",
       "    <tr>\n",
       "      <th>20099</th>\n",
       "      <td>DUP3452</td>\n",
       "      <td>CSI</td>\n",
       "      <td>Commercial Savvy &amp; Impact</td>\n",
       "      <td>2.0</td>\n",
       "      <td>2025</td>\n",
       "      <td>0</td>\n",
       "    </tr>\n",
       "  </tbody>\n",
       "</table>\n",
       "<p>20100 rows × 6 columns</p>\n",
       "</div>"
      ],
      "text/plain": [
       "      employee_id pillar_code               pillar_label  score  year  \\\n",
       "0       EMP100000         GDR  Growth Drive & Resilience    3.0  2025   \n",
       "1       EMP100001         GDR  Growth Drive & Resilience    2.0  2025   \n",
       "2       EMP100002         GDR  Growth Drive & Resilience    3.0  2025   \n",
       "3       EMP100003         GDR  Growth Drive & Resilience    4.0  2025   \n",
       "4       EMP100004         GDR  Growth Drive & Resilience    4.0  2025   \n",
       "...           ...         ...                        ...    ...   ...   \n",
       "20095     DUP1942         CSI  Commercial Savvy & Impact    5.0  2025   \n",
       "20096     DUP2096         CSI  Commercial Savvy & Impact    3.0  2025   \n",
       "20097     DUP4177         CSI  Commercial Savvy & Impact    2.0  2025   \n",
       "20098     DUP9801         CSI  Commercial Savvy & Impact    5.0  2025   \n",
       "20099     DUP3452         CSI  Commercial Savvy & Impact    2.0  2025   \n",
       "\n",
       "       score_is_imputed  \n",
       "0                     0  \n",
       "1                     0  \n",
       "2                     0  \n",
       "3                     0  \n",
       "4                     0  \n",
       "...                 ...  \n",
       "20095                 0  \n",
       "20096                 0  \n",
       "20097                 0  \n",
       "20098                 0  \n",
       "20099                 0  \n",
       "\n",
       "[20100 rows x 6 columns]"
      ]
     },
     "execution_count": 147,
     "metadata": {},
     "output_type": "execute_result"
    }
   ],
   "source": [
    "#Cleaned data for competencies table\n",
    "df_competencies_cleaned = df_competencies_null.copy()\n",
    "df_competencies_cleaned"
   ]
  },
  {
   "cell_type": "markdown",
   "id": "b4e6f969",
   "metadata": {},
   "source": [
    "#### Strengths Data"
   ]
  },
  {
   "cell_type": "code",
   "execution_count": 148,
   "id": "64e6128e",
   "metadata": {},
   "outputs": [
    {
     "name": "stdout",
     "output_type": "stream",
     "text": [
      "<class 'pandas.core.frame.DataFrame'>\n",
      "RangeIndex: 28140 entries, 0 to 28139\n",
      "Data columns (total 3 columns):\n",
      " #   Column       Non-Null Count  Dtype \n",
      "---  ------       --------------  ----- \n",
      " 0   employee_id  28140 non-null  object\n",
      " 1   rank         28140 non-null  int64 \n",
      " 2   theme        28140 non-null  object\n",
      "dtypes: int64(1), object(2)\n",
      "memory usage: 659.7+ KB\n"
     ]
    },
    {
     "data": {
      "text/plain": [
       "None"
      ]
     },
     "metadata": {},
     "output_type": "display_data"
    },
    {
     "data": {
      "text/html": [
       "<div>\n",
       "<style scoped>\n",
       "    .dataframe tbody tr th:only-of-type {\n",
       "        vertical-align: middle;\n",
       "    }\n",
       "\n",
       "    .dataframe tbody tr th {\n",
       "        vertical-align: top;\n",
       "    }\n",
       "\n",
       "    .dataframe thead th {\n",
       "        text-align: right;\n",
       "    }\n",
       "</style>\n",
       "<table border=\"1\" class=\"dataframe\">\n",
       "  <thead>\n",
       "    <tr style=\"text-align: right;\">\n",
       "      <th></th>\n",
       "      <th>employee_id</th>\n",
       "      <th>rank</th>\n",
       "      <th>theme</th>\n",
       "    </tr>\n",
       "  </thead>\n",
       "  <tbody>\n",
       "    <tr>\n",
       "      <th>28135</th>\n",
       "      <td>EMP101999</td>\n",
       "      <td>10</td>\n",
       "      <td>Empathy</td>\n",
       "    </tr>\n",
       "    <tr>\n",
       "      <th>28136</th>\n",
       "      <td>EMP101999</td>\n",
       "      <td>11</td>\n",
       "      <td>Activator</td>\n",
       "    </tr>\n",
       "    <tr>\n",
       "      <th>28137</th>\n",
       "      <td>EMP101999</td>\n",
       "      <td>12</td>\n",
       "      <td>Significance</td>\n",
       "    </tr>\n",
       "    <tr>\n",
       "      <th>28138</th>\n",
       "      <td>EMP101999</td>\n",
       "      <td>13</td>\n",
       "      <td>Responsibility</td>\n",
       "    </tr>\n",
       "    <tr>\n",
       "      <th>28139</th>\n",
       "      <td>EMP101999</td>\n",
       "      <td>14</td>\n",
       "      <td>Harmony</td>\n",
       "    </tr>\n",
       "  </tbody>\n",
       "</table>\n",
       "</div>"
      ],
      "text/plain": [
       "      employee_id  rank           theme\n",
       "28135   EMP101999    10         Empathy\n",
       "28136   EMP101999    11       Activator\n",
       "28137   EMP101999    12    Significance\n",
       "28138   EMP101999    13  Responsibility\n",
       "28139   EMP101999    14         Harmony"
      ]
     },
     "metadata": {},
     "output_type": "display_data"
    }
   ],
   "source": [
    "display(df_strengths.info(), df_strengths.tail())"
   ]
  },
  {
   "cell_type": "markdown",
   "id": "668f64d1",
   "metadata": {},
   "source": [
    "##### Irrelevant Value"
   ]
  },
  {
   "cell_type": "code",
   "execution_count": 149,
   "id": "3f109226",
   "metadata": {},
   "outputs": [],
   "source": [
    "# Make a copy from strengths data for irrelevant value check\n",
    "df_strengths_irrelevant= df_strengths.copy()"
   ]
  },
  {
   "cell_type": "code",
   "execution_count": 150,
   "id": "872b5f79",
   "metadata": {},
   "outputs": [
    {
     "data": {
      "text/html": [
       "<div>\n",
       "<style scoped>\n",
       "    .dataframe tbody tr th:only-of-type {\n",
       "        vertical-align: middle;\n",
       "    }\n",
       "\n",
       "    .dataframe tbody tr th {\n",
       "        vertical-align: top;\n",
       "    }\n",
       "\n",
       "    .dataframe thead th {\n",
       "        text-align: right;\n",
       "    }\n",
       "</style>\n",
       "<table border=\"1\" class=\"dataframe\">\n",
       "  <thead>\n",
       "    <tr style=\"text-align: right;\">\n",
       "      <th></th>\n",
       "      <th>employee_id</th>\n",
       "      <th>rank</th>\n",
       "      <th>theme</th>\n",
       "    </tr>\n",
       "  </thead>\n",
       "  <tbody>\n",
       "    <tr>\n",
       "      <th>140</th>\n",
       "      <td>EMP100000</td>\n",
       "      <td>1</td>\n",
       "      <td></td>\n",
       "    </tr>\n",
       "    <tr>\n",
       "      <th>141</th>\n",
       "      <td>EMP100000</td>\n",
       "      <td>2</td>\n",
       "      <td>Adaptability</td>\n",
       "    </tr>\n",
       "    <tr>\n",
       "      <th>142</th>\n",
       "      <td>EMP100000</td>\n",
       "      <td>3</td>\n",
       "      <td>Context</td>\n",
       "    </tr>\n",
       "    <tr>\n",
       "      <th>143</th>\n",
       "      <td>EMP100000</td>\n",
       "      <td>4</td>\n",
       "      <td>Competition</td>\n",
       "    </tr>\n",
       "    <tr>\n",
       "      <th>144</th>\n",
       "      <td>EMP100000</td>\n",
       "      <td>5</td>\n",
       "      <td>Activator</td>\n",
       "    </tr>\n",
       "    <tr>\n",
       "      <th>145</th>\n",
       "      <td>EMP100000</td>\n",
       "      <td>6</td>\n",
       "      <td>Positivity</td>\n",
       "    </tr>\n",
       "    <tr>\n",
       "      <th>146</th>\n",
       "      <td>EMP100000</td>\n",
       "      <td>7</td>\n",
       "      <td>Significance</td>\n",
       "    </tr>\n",
       "    <tr>\n",
       "      <th>147</th>\n",
       "      <td>EMP100000</td>\n",
       "      <td>8</td>\n",
       "      <td>Empathy</td>\n",
       "    </tr>\n",
       "    <tr>\n",
       "      <th>148</th>\n",
       "      <td>EMP100000</td>\n",
       "      <td>9</td>\n",
       "      <td>Ideation</td>\n",
       "    </tr>\n",
       "    <tr>\n",
       "      <th>149</th>\n",
       "      <td>EMP100000</td>\n",
       "      <td>10</td>\n",
       "      <td>Developer</td>\n",
       "    </tr>\n",
       "    <tr>\n",
       "      <th>150</th>\n",
       "      <td>EMP100000</td>\n",
       "      <td>11</td>\n",
       "      <td>Communication</td>\n",
       "    </tr>\n",
       "    <tr>\n",
       "      <th>151</th>\n",
       "      <td>EMP100000</td>\n",
       "      <td>12</td>\n",
       "      <td>Command</td>\n",
       "    </tr>\n",
       "    <tr>\n",
       "      <th>152</th>\n",
       "      <td>EMP100000</td>\n",
       "      <td>13</td>\n",
       "      <td>Analytical</td>\n",
       "    </tr>\n",
       "    <tr>\n",
       "      <th>153</th>\n",
       "      <td>EMP100000</td>\n",
       "      <td>14</td>\n",
       "      <td>Intellection</td>\n",
       "    </tr>\n",
       "  </tbody>\n",
       "</table>\n",
       "</div>"
      ],
      "text/plain": [
       "    employee_id  rank          theme\n",
       "140   EMP100000     1               \n",
       "141   EMP100000     2   Adaptability\n",
       "142   EMP100000     3        Context\n",
       "143   EMP100000     4    Competition\n",
       "144   EMP100000     5      Activator\n",
       "145   EMP100000     6     Positivity\n",
       "146   EMP100000     7   Significance\n",
       "147   EMP100000     8        Empathy\n",
       "148   EMP100000     9       Ideation\n",
       "149   EMP100000    10      Developer\n",
       "150   EMP100000    11  Communication\n",
       "151   EMP100000    12        Command\n",
       "152   EMP100000    13     Analytical\n",
       "153   EMP100000    14   Intellection"
      ]
     },
     "execution_count": 150,
     "metadata": {},
     "output_type": "execute_result"
    }
   ],
   "source": [
    "# Take a look for an example from one employee\n",
    "df_strengths_irrelevant[df_strengths_irrelevant['employee_id'] == 'EMP100000']"
   ]
  },
  {
   "cell_type": "markdown",
   "id": "985cb04e",
   "metadata": {},
   "source": [
    "Based on check on certain employee, some rows in the `theme` column look empty but are **not recognized as NaN** in pandas.\n",
    "\n",
    "**Possible causes:**\n",
    "\n",
    "- The values contain spaces (`' '`), empty strings (`''`), or hidden characters (`'\\t'`, `'\\xa0'`).\n",
    "- The CSV was read without specifying `na_values`\n"
   ]
  },
  {
   "cell_type": "code",
   "execution_count": 151,
   "id": "45d873a9",
   "metadata": {},
   "outputs": [],
   "source": [
    " # Clean up \"theme\" column from any string-like missing values\n",
    "df_strengths_irrelevant['theme'] = ( df_strengths_irrelevant['theme'].str.strip().replace(['', 'nan', 'NaN', 'None'], np.nan)  )"
   ]
  },
  {
   "cell_type": "code",
   "execution_count": 152,
   "id": "d386c075",
   "metadata": {},
   "outputs": [
    {
     "data": {
      "text/html": [
       "<div>\n",
       "<style scoped>\n",
       "    .dataframe tbody tr th:only-of-type {\n",
       "        vertical-align: middle;\n",
       "    }\n",
       "\n",
       "    .dataframe tbody tr th {\n",
       "        vertical-align: top;\n",
       "    }\n",
       "\n",
       "    .dataframe thead th {\n",
       "        text-align: right;\n",
       "    }\n",
       "</style>\n",
       "<table border=\"1\" class=\"dataframe\">\n",
       "  <thead>\n",
       "    <tr style=\"text-align: right;\">\n",
       "      <th></th>\n",
       "      <th>employee_id</th>\n",
       "      <th>rank</th>\n",
       "      <th>theme</th>\n",
       "    </tr>\n",
       "  </thead>\n",
       "  <tbody>\n",
       "    <tr>\n",
       "      <th>140</th>\n",
       "      <td>EMP100000</td>\n",
       "      <td>1</td>\n",
       "      <td>NaN</td>\n",
       "    </tr>\n",
       "    <tr>\n",
       "      <th>141</th>\n",
       "      <td>EMP100000</td>\n",
       "      <td>2</td>\n",
       "      <td>Adaptability</td>\n",
       "    </tr>\n",
       "    <tr>\n",
       "      <th>142</th>\n",
       "      <td>EMP100000</td>\n",
       "      <td>3</td>\n",
       "      <td>Context</td>\n",
       "    </tr>\n",
       "    <tr>\n",
       "      <th>143</th>\n",
       "      <td>EMP100000</td>\n",
       "      <td>4</td>\n",
       "      <td>Competition</td>\n",
       "    </tr>\n",
       "    <tr>\n",
       "      <th>144</th>\n",
       "      <td>EMP100000</td>\n",
       "      <td>5</td>\n",
       "      <td>Activator</td>\n",
       "    </tr>\n",
       "    <tr>\n",
       "      <th>145</th>\n",
       "      <td>EMP100000</td>\n",
       "      <td>6</td>\n",
       "      <td>Positivity</td>\n",
       "    </tr>\n",
       "    <tr>\n",
       "      <th>146</th>\n",
       "      <td>EMP100000</td>\n",
       "      <td>7</td>\n",
       "      <td>Significance</td>\n",
       "    </tr>\n",
       "    <tr>\n",
       "      <th>147</th>\n",
       "      <td>EMP100000</td>\n",
       "      <td>8</td>\n",
       "      <td>Empathy</td>\n",
       "    </tr>\n",
       "    <tr>\n",
       "      <th>148</th>\n",
       "      <td>EMP100000</td>\n",
       "      <td>9</td>\n",
       "      <td>Ideation</td>\n",
       "    </tr>\n",
       "    <tr>\n",
       "      <th>149</th>\n",
       "      <td>EMP100000</td>\n",
       "      <td>10</td>\n",
       "      <td>Developer</td>\n",
       "    </tr>\n",
       "    <tr>\n",
       "      <th>150</th>\n",
       "      <td>EMP100000</td>\n",
       "      <td>11</td>\n",
       "      <td>Communication</td>\n",
       "    </tr>\n",
       "    <tr>\n",
       "      <th>151</th>\n",
       "      <td>EMP100000</td>\n",
       "      <td>12</td>\n",
       "      <td>Command</td>\n",
       "    </tr>\n",
       "    <tr>\n",
       "      <th>152</th>\n",
       "      <td>EMP100000</td>\n",
       "      <td>13</td>\n",
       "      <td>Analytical</td>\n",
       "    </tr>\n",
       "    <tr>\n",
       "      <th>153</th>\n",
       "      <td>EMP100000</td>\n",
       "      <td>14</td>\n",
       "      <td>Intellection</td>\n",
       "    </tr>\n",
       "  </tbody>\n",
       "</table>\n",
       "</div>"
      ],
      "text/plain": [
       "    employee_id  rank          theme\n",
       "140   EMP100000     1            NaN\n",
       "141   EMP100000     2   Adaptability\n",
       "142   EMP100000     3        Context\n",
       "143   EMP100000     4    Competition\n",
       "144   EMP100000     5      Activator\n",
       "145   EMP100000     6     Positivity\n",
       "146   EMP100000     7   Significance\n",
       "147   EMP100000     8        Empathy\n",
       "148   EMP100000     9       Ideation\n",
       "149   EMP100000    10      Developer\n",
       "150   EMP100000    11  Communication\n",
       "151   EMP100000    12        Command\n",
       "152   EMP100000    13     Analytical\n",
       "153   EMP100000    14   Intellection"
      ]
     },
     "execution_count": 152,
     "metadata": {},
     "output_type": "execute_result"
    }
   ],
   "source": [
    "# Check and validate again \n",
    "df_strengths_irrelevant[df_strengths_irrelevant['employee_id'] == 'EMP100000']"
   ]
  },
  {
   "cell_type": "markdown",
   "id": "c5c1dc73",
   "metadata": {},
   "source": [
    "##### Null Value Check"
   ]
  },
  {
   "cell_type": "code",
   "execution_count": 154,
   "id": "a70a1160",
   "metadata": {},
   "outputs": [],
   "source": [
    "#Make a copy for null data\n",
    "df_strengths_null = df_strengths_irrelevant.copy()\n"
   ]
  },
  {
   "cell_type": "code",
   "execution_count": 155,
   "id": "961047d1",
   "metadata": {},
   "outputs": [
    {
     "data": {
      "text/plain": [
       "employee_id       0\n",
       "rank              0\n",
       "theme          2229\n",
       "dtype: int64"
      ]
     },
     "execution_count": 155,
     "metadata": {},
     "output_type": "execute_result"
    }
   ],
   "source": [
    "# Check the null data\n",
    "df_strengths_null.isna().sum()"
   ]
  },
  {
   "cell_type": "markdown",
   "id": "74285ace",
   "metadata": {},
   "source": [
    "There are **2229** instances or data points that missing for the `strengths` data, which mainly from previous action by converting the empty value to \"NaN\"\n",
    "\n",
    "**Action Plan:**\n",
    "\n",
    "While imputation for categorical strength themes is unreliable, the presence of missing values is particularly critical for the analysis of **Top 5 Strengths**, as these represent an employee's most dominant talents. Therefore, the next step is to identify how many employees have incomplete data within these crucial top ranks.\n"
   ]
  },
  {
   "cell_type": "code",
   "execution_count": 156,
   "id": "d12565bb",
   "metadata": {},
   "outputs": [
    {
     "name": "stdout",
     "output_type": "stream",
     "text": [
      "Number of employees with missing themes in Top 5: 693\n"
     ]
    }
   ],
   "source": [
    "# Find employee_ids with NaN in ranks 1 through 5\n",
    "employees_with_missing_top5 = df_strengths_irrelevant[(df_strengths_null['rank'] <= 5) & (df_strengths_null['theme'].isnull())]['employee_id'].unique()\n",
    "\n",
    "print(f\"Number of employees with missing themes in Top 5: {len(employees_with_missing_top5)}\")"
   ]
  },
  {
   "cell_type": "markdown",
   "id": "fb046981",
   "metadata": {},
   "source": [
    "Including these **693 employees (34.5 %)** in an analysis focused on Top 5 strength frequencies would yield inaccurate and potentially misleading results. Therefore, for the specific analysis comparing the frequency of Top 5 strengths between high performers and others, these employees **will be excluded**. This ensures the comparison is based solely on employees with complete and valid Top 5 strength profiles."
   ]
  },
  {
   "cell_type": "code",
   "execution_count": 157,
   "id": "f808cb97",
   "metadata": {},
   "outputs": [
    {
     "name": "stdout",
     "output_type": "stream",
     "text": [
      "Created df_strengths_complete with 1317 employees (data complete for Top 5 analysis).\n",
      "Created df_top5_analysis_ready containing only ranks 1-5 for 1317 employees.\n",
      "\n",
      "--- Sample of df_top5_analysis_ready ---\n",
      "  employee_id  rank        theme\n",
      "0     DUP1942     1      Learner\n",
      "1     DUP1942     2    Maximizer\n",
      "2     DUP1942     3     Ideation\n",
      "3     DUP1942     4      Harmony\n",
      "4     DUP1942     5  Restorative\n"
     ]
    }
   ],
   "source": [
    "# Use the boolean NOT operator (~) with isin() to keep only employees NOT in the list\n",
    "df_strengths_complete = df_strengths_null[~df_strengths_null['employee_id'].isin(employees_with_missing_top5)].copy() # Use .copy() to avoid SettingWithCopyWarning later\n",
    "\n",
    "print(f\"Created df_strengths_complete with {df_strengths_complete['employee_id'].nunique()} employees (data complete for Top 5 analysis).\")\n",
    "\n",
    "# Filter for Top 5 Ranks Only (from the complete data)\n",
    "\n",
    "df_top5_analysis_strength = df_strengths_complete[df_strengths_complete['rank'] <= 5].copy()\n",
    "\n",
    "print(f\"Created df_top5_analysis_ready containing only ranks 1-5 for {df_top5_analysis_strength['employee_id'].nunique()} employees.\")\n",
    "print(\"\\n--- Sample of df_top5_analysis_ready ---\")\n",
    "print(df_top5_analysis_strength.head())"
   ]
  },
  {
   "cell_type": "markdown",
   "id": "113d3832",
   "metadata": {},
   "source": [
    "##### Cleaned data"
   ]
  },
  {
   "cell_type": "code",
   "execution_count": 158,
   "id": "eba375b3",
   "metadata": {},
   "outputs": [
    {
     "data": {
      "text/html": [
       "<div>\n",
       "<style scoped>\n",
       "    .dataframe tbody tr th:only-of-type {\n",
       "        vertical-align: middle;\n",
       "    }\n",
       "\n",
       "    .dataframe tbody tr th {\n",
       "        vertical-align: top;\n",
       "    }\n",
       "\n",
       "    .dataframe thead th {\n",
       "        text-align: right;\n",
       "    }\n",
       "</style>\n",
       "<table border=\"1\" class=\"dataframe\">\n",
       "  <thead>\n",
       "    <tr style=\"text-align: right;\">\n",
       "      <th></th>\n",
       "      <th>employee_id</th>\n",
       "      <th>rank</th>\n",
       "      <th>theme</th>\n",
       "    </tr>\n",
       "  </thead>\n",
       "  <tbody>\n",
       "    <tr>\n",
       "      <th>0</th>\n",
       "      <td>DUP1942</td>\n",
       "      <td>1</td>\n",
       "      <td>Learner</td>\n",
       "    </tr>\n",
       "    <tr>\n",
       "      <th>1</th>\n",
       "      <td>DUP1942</td>\n",
       "      <td>2</td>\n",
       "      <td>Maximizer</td>\n",
       "    </tr>\n",
       "    <tr>\n",
       "      <th>2</th>\n",
       "      <td>DUP1942</td>\n",
       "      <td>3</td>\n",
       "      <td>Ideation</td>\n",
       "    </tr>\n",
       "    <tr>\n",
       "      <th>3</th>\n",
       "      <td>DUP1942</td>\n",
       "      <td>4</td>\n",
       "      <td>Harmony</td>\n",
       "    </tr>\n",
       "    <tr>\n",
       "      <th>4</th>\n",
       "      <td>DUP1942</td>\n",
       "      <td>5</td>\n",
       "      <td>Restorative</td>\n",
       "    </tr>\n",
       "    <tr>\n",
       "      <th>...</th>\n",
       "      <td>...</td>\n",
       "      <td>...</td>\n",
       "      <td>...</td>\n",
       "    </tr>\n",
       "    <tr>\n",
       "      <th>28126</th>\n",
       "      <td>EMP101999</td>\n",
       "      <td>1</td>\n",
       "      <td>Ideation</td>\n",
       "    </tr>\n",
       "    <tr>\n",
       "      <th>28127</th>\n",
       "      <td>EMP101999</td>\n",
       "      <td>2</td>\n",
       "      <td>Input</td>\n",
       "    </tr>\n",
       "    <tr>\n",
       "      <th>28128</th>\n",
       "      <td>EMP101999</td>\n",
       "      <td>3</td>\n",
       "      <td>Positivity</td>\n",
       "    </tr>\n",
       "    <tr>\n",
       "      <th>28129</th>\n",
       "      <td>EMP101999</td>\n",
       "      <td>4</td>\n",
       "      <td>Adaptability</td>\n",
       "    </tr>\n",
       "    <tr>\n",
       "      <th>28130</th>\n",
       "      <td>EMP101999</td>\n",
       "      <td>5</td>\n",
       "      <td>Connectedness</td>\n",
       "    </tr>\n",
       "  </tbody>\n",
       "</table>\n",
       "<p>6585 rows × 3 columns</p>\n",
       "</div>"
      ],
      "text/plain": [
       "      employee_id  rank          theme\n",
       "0         DUP1942     1        Learner\n",
       "1         DUP1942     2      Maximizer\n",
       "2         DUP1942     3       Ideation\n",
       "3         DUP1942     4        Harmony\n",
       "4         DUP1942     5    Restorative\n",
       "...           ...   ...            ...\n",
       "28126   EMP101999     1       Ideation\n",
       "28127   EMP101999     2          Input\n",
       "28128   EMP101999     3     Positivity\n",
       "28129   EMP101999     4   Adaptability\n",
       "28130   EMP101999     5  Connectedness\n",
       "\n",
       "[6585 rows x 3 columns]"
      ]
     },
     "execution_count": 158,
     "metadata": {},
     "output_type": "execute_result"
    }
   ],
   "source": [
    "df_top5_analysis_strength"
   ]
  },
  {
   "cell_type": "markdown",
   "id": "d5566ce8",
   "metadata": {},
   "source": [
    "This resulted in the `df_top5_analysis_strength` DataFrame, containing **6585 rows** (1317 employees × 5 ranks each). This DataFrame represents the complete and valid Top 5 strengths data and will be  merged with `df_main_cleaned`  later to compare dominant themes between performance groups."
   ]
  },
  {
   "cell_type": "markdown",
   "id": "97097cfd",
   "metadata": {},
   "source": [
    "#### Papi_Scores"
   ]
  },
  {
   "cell_type": "code",
   "execution_count": 183,
   "id": "4f7ec923",
   "metadata": {},
   "outputs": [
    {
     "name": "stdout",
     "output_type": "stream",
     "text": [
      "<class 'pandas.core.frame.DataFrame'>\n",
      "RangeIndex: 40200 entries, 0 to 40199\n",
      "Data columns (total 3 columns):\n",
      " #   Column       Non-Null Count  Dtype  \n",
      "---  ------       --------------  -----  \n",
      " 0   employee_id  40200 non-null  object \n",
      " 1   scale_code   40200 non-null  object \n",
      " 2   score        36997 non-null  float64\n",
      "dtypes: float64(1), object(2)\n",
      "memory usage: 942.3+ KB\n"
     ]
    }
   ],
   "source": [
    "df_papi_scores.info()"
   ]
  },
  {
   "cell_type": "markdown",
   "id": "b61754d8",
   "metadata": {},
   "source": [
    "##### Irrelevant Values"
   ]
  },
  {
   "cell_type": "code",
   "execution_count": 184,
   "id": "bf4a4765",
   "metadata": {},
   "outputs": [],
   "source": [
    "# Make a copy for irrelevant analysis\n",
    "\n",
    "df_papi_scores_irrelevant = df_papi_scores.copy()"
   ]
  },
  {
   "cell_type": "code",
   "execution_count": 185,
   "id": "8b3a0f00",
   "metadata": {},
   "outputs": [
    {
     "data": {
      "text/plain": [
       "scale_code\n",
       "Papi_A    2010\n",
       "Papi_B    2010\n",
       "Papi_C    2010\n",
       "Papi_D    2010\n",
       "Papi_E    2010\n",
       "Papi_F    2010\n",
       "Papi_G    2010\n",
       "Papi_I    2010\n",
       "Papi_K    2010\n",
       "Papi_L    2010\n",
       "Papi_N    2010\n",
       "Papi_O    2010\n",
       "Papi_P    2010\n",
       "Papi_R    2010\n",
       "Papi_S    2010\n",
       "Papi_T    2010\n",
       "Papi_V    2010\n",
       "Papi_W    2010\n",
       "Papi_X    2010\n",
       "Papi_Z    2010\n",
       "Name: count, dtype: int64"
      ]
     },
     "execution_count": 185,
     "metadata": {},
     "output_type": "execute_result"
    }
   ],
   "source": [
    "#Check for the caetgorical variable through scale_code\n",
    "df_papi_scores_irrelevant['scale_code'].value_counts()"
   ]
  },
  {
   "cell_type": "code",
   "execution_count": 186,
   "id": "f06af38d",
   "metadata": {},
   "outputs": [
    {
     "data": {
      "text/plain": [
       "count    36997.000000\n",
       "mean         4.992026\n",
       "std          2.588955\n",
       "min          1.000000\n",
       "25%          3.000000\n",
       "50%          5.000000\n",
       "75%          7.000000\n",
       "max          9.000000\n",
       "Name: score, dtype: float64"
      ]
     },
     "execution_count": 186,
     "metadata": {},
     "output_type": "execute_result"
    }
   ],
   "source": [
    "# Check the score which should be in range between 1 to 9 \n",
    "df_papi_scores_irrelevant['score'].describe()"
   ]
  },
  {
   "cell_type": "markdown",
   "id": "87cf2471",
   "metadata": {},
   "source": [
    "There are no issues on irrelevant or typo values within the `papi_scores` data"
   ]
  },
  {
   "cell_type": "markdown",
   "id": "5019b9d6",
   "metadata": {},
   "source": [
    "##### Null Value Check"
   ]
  },
  {
   "cell_type": "code",
   "execution_count": 187,
   "id": "0662d136",
   "metadata": {},
   "outputs": [],
   "source": [
    "#Make a copy for null value check\n",
    "df_papi_scores_null = df_papi_scores_irrelevant.copy()"
   ]
  },
  {
   "cell_type": "code",
   "execution_count": 188,
   "id": "a8aa1e2f",
   "metadata": {},
   "outputs": [
    {
     "data": {
      "text/plain": [
       "employee_id       0\n",
       "scale_code        0\n",
       "score          3203\n",
       "dtype: int64"
      ]
     },
     "execution_count": 188,
     "metadata": {},
     "output_type": "execute_result"
    }
   ],
   "source": [
    "df_papi_scores_null.isna().sum()"
   ]
  },
  {
   "cell_type": "markdown",
   "id": "6982ce03",
   "metadata": {},
   "source": [
    "There are **3203** null values in score column"
   ]
  },
  {
   "cell_type": "code",
   "execution_count": null,
   "id": "f7cc1424",
   "metadata": {},
   "outputs": [
    {
     "data": {
      "text/html": [
       "<div>\n",
       "<style scoped>\n",
       "    .dataframe tbody tr th:only-of-type {\n",
       "        vertical-align: middle;\n",
       "    }\n",
       "\n",
       "    .dataframe tbody tr th {\n",
       "        vertical-align: top;\n",
       "    }\n",
       "\n",
       "    .dataframe thead th {\n",
       "        text-align: right;\n",
       "    }\n",
       "</style>\n",
       "<table border=\"1\" class=\"dataframe\">\n",
       "  <thead>\n",
       "    <tr style=\"text-align: right;\">\n",
       "      <th></th>\n",
       "      <th>employee_id</th>\n",
       "      <th>scale_code</th>\n",
       "      <th>score</th>\n",
       "    </tr>\n",
       "  </thead>\n",
       "  <tbody>\n",
       "    <tr>\n",
       "      <th>20200</th>\n",
       "      <td>EMP101000</td>\n",
       "      <td>Papi_A</td>\n",
       "      <td>7.0</td>\n",
       "    </tr>\n",
       "    <tr>\n",
       "      <th>20201</th>\n",
       "      <td>EMP101000</td>\n",
       "      <td>Papi_B</td>\n",
       "      <td>3.0</td>\n",
       "    </tr>\n",
       "    <tr>\n",
       "      <th>20202</th>\n",
       "      <td>EMP101000</td>\n",
       "      <td>Papi_C</td>\n",
       "      <td>5.0</td>\n",
       "    </tr>\n",
       "    <tr>\n",
       "      <th>20203</th>\n",
       "      <td>EMP101000</td>\n",
       "      <td>Papi_D</td>\n",
       "      <td>NaN</td>\n",
       "    </tr>\n",
       "    <tr>\n",
       "      <th>20204</th>\n",
       "      <td>EMP101000</td>\n",
       "      <td>Papi_E</td>\n",
       "      <td>NaN</td>\n",
       "    </tr>\n",
       "    <tr>\n",
       "      <th>20205</th>\n",
       "      <td>EMP101000</td>\n",
       "      <td>Papi_F</td>\n",
       "      <td>NaN</td>\n",
       "    </tr>\n",
       "    <tr>\n",
       "      <th>20206</th>\n",
       "      <td>EMP101000</td>\n",
       "      <td>Papi_G</td>\n",
       "      <td>3.0</td>\n",
       "    </tr>\n",
       "    <tr>\n",
       "      <th>20207</th>\n",
       "      <td>EMP101000</td>\n",
       "      <td>Papi_I</td>\n",
       "      <td>5.0</td>\n",
       "    </tr>\n",
       "    <tr>\n",
       "      <th>20208</th>\n",
       "      <td>EMP101000</td>\n",
       "      <td>Papi_K</td>\n",
       "      <td>1.0</td>\n",
       "    </tr>\n",
       "    <tr>\n",
       "      <th>20209</th>\n",
       "      <td>EMP101000</td>\n",
       "      <td>Papi_L</td>\n",
       "      <td>1.0</td>\n",
       "    </tr>\n",
       "    <tr>\n",
       "      <th>20210</th>\n",
       "      <td>EMP101000</td>\n",
       "      <td>Papi_N</td>\n",
       "      <td>NaN</td>\n",
       "    </tr>\n",
       "    <tr>\n",
       "      <th>20211</th>\n",
       "      <td>EMP101000</td>\n",
       "      <td>Papi_O</td>\n",
       "      <td>7.0</td>\n",
       "    </tr>\n",
       "    <tr>\n",
       "      <th>20212</th>\n",
       "      <td>EMP101000</td>\n",
       "      <td>Papi_P</td>\n",
       "      <td>4.0</td>\n",
       "    </tr>\n",
       "    <tr>\n",
       "      <th>20213</th>\n",
       "      <td>EMP101000</td>\n",
       "      <td>Papi_R</td>\n",
       "      <td>7.0</td>\n",
       "    </tr>\n",
       "    <tr>\n",
       "      <th>20214</th>\n",
       "      <td>EMP101000</td>\n",
       "      <td>Papi_S</td>\n",
       "      <td>9.0</td>\n",
       "    </tr>\n",
       "    <tr>\n",
       "      <th>20215</th>\n",
       "      <td>EMP101000</td>\n",
       "      <td>Papi_T</td>\n",
       "      <td>7.0</td>\n",
       "    </tr>\n",
       "    <tr>\n",
       "      <th>20216</th>\n",
       "      <td>EMP101000</td>\n",
       "      <td>Papi_V</td>\n",
       "      <td>NaN</td>\n",
       "    </tr>\n",
       "    <tr>\n",
       "      <th>20217</th>\n",
       "      <td>EMP101000</td>\n",
       "      <td>Papi_W</td>\n",
       "      <td>5.0</td>\n",
       "    </tr>\n",
       "    <tr>\n",
       "      <th>20218</th>\n",
       "      <td>EMP101000</td>\n",
       "      <td>Papi_X</td>\n",
       "      <td>9.0</td>\n",
       "    </tr>\n",
       "    <tr>\n",
       "      <th>20219</th>\n",
       "      <td>EMP101000</td>\n",
       "      <td>Papi_Z</td>\n",
       "      <td>8.0</td>\n",
       "    </tr>\n",
       "  </tbody>\n",
       "</table>\n",
       "</div>"
      ],
      "text/plain": [
       "      employee_id scale_code  score\n",
       "20200   EMP101000     Papi_A    7.0\n",
       "20201   EMP101000     Papi_B    3.0\n",
       "20202   EMP101000     Papi_C    5.0\n",
       "20203   EMP101000     Papi_D    NaN\n",
       "20204   EMP101000     Papi_E    NaN\n",
       "20205   EMP101000     Papi_F    NaN\n",
       "20206   EMP101000     Papi_G    3.0\n",
       "20207   EMP101000     Papi_I    5.0\n",
       "20208   EMP101000     Papi_K    1.0\n",
       "20209   EMP101000     Papi_L    1.0\n",
       "20210   EMP101000     Papi_N    NaN\n",
       "20211   EMP101000     Papi_O    7.0\n",
       "20212   EMP101000     Papi_P    4.0\n",
       "20213   EMP101000     Papi_R    7.0\n",
       "20214   EMP101000     Papi_S    9.0\n",
       "20215   EMP101000     Papi_T    7.0\n",
       "20216   EMP101000     Papi_V    NaN\n",
       "20217   EMP101000     Papi_W    5.0\n",
       "20218   EMP101000     Papi_X    9.0\n",
       "20219   EMP101000     Papi_Z    8.0"
      ]
     },
     "execution_count": 190,
     "metadata": {},
     "output_type": "execute_result"
    }
   ],
   "source": [
    "# Check from random employee_id for the score\n",
    "df_papi_scores_null[df_papi_scores_null['employee_id'] == \"EMP101000\"]"
   ]
  },
  {
   "cell_type": "markdown",
   "id": "72e6e829",
   "metadata": {},
   "source": [
    "The output above for employee `EMP101000` illustrates how missing data (`NaN`) appears in the `score` column for specific PAPI scales (e.g., `Papi_D`, `Papi_E`, `Papi_F`, `Papi_N`, `Papi_V`). This pattern confirms that missingness occurs at the individual employee-scale level."
   ]
  },
  {
   "cell_type": "code",
   "execution_count": 191,
   "id": "3d4c2a81",
   "metadata": {},
   "outputs": [
    {
     "data": {
      "text/plain": [
       "scale_code\n",
       "Papi_O    9.402985\n",
       "Papi_K    8.955224\n",
       "Papi_L    8.805970\n",
       "Papi_F    8.606965\n",
       "Papi_W    8.407960\n",
       "Papi_I    8.208955\n",
       "Papi_Z    8.208955\n",
       "Papi_B    8.159204\n",
       "Papi_S    8.109453\n",
       "Papi_D    8.059701\n",
       "Papi_T    7.960199\n",
       "Papi_V    7.761194\n",
       "Papi_N    7.761194\n",
       "Papi_G    7.711443\n",
       "Papi_A    7.661692\n",
       "Papi_R    7.462687\n",
       "Papi_X    7.363184\n",
       "Papi_C    7.213930\n",
       "Papi_E    7.164179\n",
       "Papi_P    6.368159\n",
       "Name: score, dtype: float64"
      ]
     },
     "execution_count": 191,
     "metadata": {},
     "output_type": "execute_result"
    }
   ],
   "source": [
    "df_papi_scores_null.groupby(\"scale_code\")[\"score\"].apply(lambda x: x.isna().mean() * 100).sort_values(ascending=False)\n"
   ]
  },
  {
   "cell_type": "markdown",
   "id": "0a2bd209",
   "metadata": {},
   "source": [
    "The analysis shows the percentage of missing `score` values for each individual PAPI `scale_code`. The missing data percentages range from approximately **6.4% (`Papi_P`) to 9.4% (`Papi_O`)**.\n",
    "\n",
    "**Implication:** Similar to the competency data, missing values are present across **all** PAPI scales, though none exceed 10%. This pattern reinforces the decision to use **imputation via the scale-specific median**. Doing so allows for consistent comparison between performance groups across every PAPI dimension, mitigating potential bias that could arise from simply ignoring `NaN` values if their occurrence isn't random across the groups."
   ]
  },
  {
   "cell_type": "code",
   "execution_count": 192,
   "id": "d4159975",
   "metadata": {},
   "outputs": [
    {
     "data": {
      "image/png": "[encoded data removed]",
      "text/plain": [
       "<Figure size 2500x1600 with 40 Axes>"
      ]
     },
     "metadata": {},
     "output_type": "display_data"
    }
   ],
   "source": [
    "# Check Score Distribution per PAPI Scale \n",
    "\n",
    "# Get unique scale codes\n",
    "scale_codes = df_papi_scores_null['scale_code'].unique()\n",
    "n_scales = len(scale_codes)\n",
    "\n",
    "# Determine grid size (e.g., 5 columns wide for pairs of plots)\n",
    "n_cols = 5\n",
    "n_rows = (n_scales + n_cols - 1) // n_cols # Calculate needed rows\n",
    "\n",
    "# Create figure and axes grid\n",
    "# Each scale gets 2 plots (hist + box), so n_cols * 2 columns needed\n",
    "fig, axes = plt.subplots(n_rows, n_cols * 2, figsize=(n_cols * 5, n_rows * 4))\n",
    "axes = axes.flatten() # Flatten the axes array for easy iteration\n",
    "\n",
    "plot_idx = 0\n",
    "for i, scale in enumerate(sorted(scale_codes)): # Sort scales alphabetically\n",
    "    # Filter data for the current scale, excluding NaNs for plotting distribution\n",
    "    scale_data = df_papi_scores_null[df_papi_scores_null['scale_code'] == scale]['score'].dropna()\n",
    "\n",
    "    if not scale_data.empty:\n",
    "        # --- Histogram ---\n",
    "        ax_hist = axes[plot_idx]\n",
    "        # Use bins appropriate for integer scores 1-9\n",
    "        sns.histplot(scale_data, kde=False, ax=ax_hist, bins=np.arange(1, 11) - 0.5)\n",
    "        ax_hist.set_title(f'{scale} Score (Hist)')\n",
    "        ax_hist.set_xlabel('Score (1-9)')\n",
    "        ax_hist.set_xticks(range(1, 10)) # Set ticks for scores 1-9\n",
    "        ax_hist.set_xlim(0.5, 9.5) # Set x-axis limits\n",
    "\n",
    "        # --- Boxplot ---\n",
    "        ax_box = axes[plot_idx + 1]\n",
    "        sns.boxplot(y=scale_data, ax=ax_box)\n",
    "        ax_box.set_title(f'{scale} Score (Box)')\n",
    "        ax_box.set_ylabel('Score (1-9)')\n",
    "        ax_box.set_ylim(0.5, 9.5) # Set y-axis limits consistent with range 1-9\n",
    "\n",
    "        plot_idx += 2 # Move to the next pair of axes\n",
    "    else:\n",
    "         # Handle case where a scale might have NO scores\n",
    "        axes[plot_idx].set_title(f'{scale} (No Data)')\n",
    "        axes[plot_idx].set_visible(False)\n",
    "        axes[plot_idx + 1].set_visible(False)\n",
    "        plot_idx += 2\n",
    "\n",
    "\n",
    "# Hide any unused subplots at the end\n",
    "for j in range(plot_idx, len(axes)):\n",
    "    axes[j].set_visible(False)\n",
    "\n",
    "plt.tight_layout()\n",
    "plt.show()"
   ]
  },
  {
   "cell_type": "markdown",
   "id": "d2df1137",
   "metadata": {},
   "source": [
    "Although, There are no presence of variability in distributions and  potential outliers across different PAPI scales. the use of the **scale-specific median** as a robust imputation method will be applied. This approach minimizes the influence of extreme scores and provides a reasonable estimate for missing values within each distinct PAPI dimension."
   ]
  },
  {
   "cell_type": "code",
   "execution_count": 193,
   "id": "7d9830fb",
   "metadata": {},
   "outputs": [
    {
     "name": "stdout",
     "output_type": "stream",
     "text": [
      "Missing 'score' in df_papiscores (Before): 3203\n",
      "\n",
      "Missing 'score' in Papi Scores imputed with scale-specific median.\n",
      "Missing 'score' in Papi Scores (After): 0\n",
      "Number of rows imputed (flag=1): 3203\n"
     ]
    }
   ],
   "source": [
    "#Impute Missing PAPI Scores using Median per Scale\n",
    "\n",
    "print(f\"Missing 'score' in df_papiscores (Before): {df_papi_scores_null['score'].isnull().sum()}\")\n",
    "\n",
    "# Backup original column for flagging \n",
    "df_papi_scores_null['score_before'] = df_papi_scores_null['score']\n",
    "\n",
    "# Calculate median per scale_code\n",
    "median_scores_by_scale = df_papi_scores_null.groupby('scale_code')['score'].transform('median')\n",
    "\n",
    "# Fill missing values using each scale's median \n",
    "df_papi_scores_null['score'] = df_papi_scores_null['score'].fillna(median_scores_by_scale)\n",
    "\n",
    "# Create binary flag for imputation \n",
    "df_papi_scores_null['score_is_imputed'] = np.where(\n",
    "    df_papi_scores_null['score_before'].isna() & df_papi_scores_null['score'].notna(),1, 0)\n",
    "\n",
    "# Drop temporary backup column \n",
    "df_papi_scores_null.drop(columns=['score_before'], inplace=True)\n",
    "\n",
    "# Print verification summary\n",
    "print(f\"\\nMissing 'score' in Papi Scores imputed with scale-specific median.\")\n",
    "print(f\"Missing 'score' in Papi Scores (After): {df_papi_scores_null['score'].isnull().sum()}\")\n",
    "print(f\"Number of rows imputed (flag=1): {df_papi_scores_null['score_is_imputed'].sum()}\")\n"
   ]
  },
  {
   "cell_type": "markdown",
   "id": "81dcf8e0",
   "metadata": {},
   "source": [
    "##### Cleaned Data"
   ]
  },
  {
   "cell_type": "markdown",
   "id": "25174ef3",
   "metadata": {},
   "source": [
    "After imputing 3203 missing scores using the scale-specific median and adding an imputation flag column, the final cleaned  papi scores data is `df_papi_scores_cleaned` contains **40,200 rows** "
   ]
  },
  {
   "cell_type": "code",
   "execution_count": 194,
   "id": "4b8f474b",
   "metadata": {},
   "outputs": [
    {
     "name": "stdout",
     "output_type": "stream",
     "text": [
      "<class 'pandas.core.frame.DataFrame'>\n",
      "RangeIndex: 40200 entries, 0 to 40199\n",
      "Data columns (total 4 columns):\n",
      " #   Column            Non-Null Count  Dtype  \n",
      "---  ------            --------------  -----  \n",
      " 0   employee_id       40200 non-null  object \n",
      " 1   scale_code        40200 non-null  object \n",
      " 2   score             40200 non-null  float64\n",
      " 3   score_is_imputed  40200 non-null  int64  \n",
      "dtypes: float64(1), int64(1), object(2)\n",
      "memory usage: 1.2+ MB\n"
     ]
    },
    {
     "data": {
      "text/plain": [
       "None"
      ]
     },
     "metadata": {},
     "output_type": "display_data"
    },
    {
     "data": {
      "text/html": [
       "<div>\n",
       "<style scoped>\n",
       "    .dataframe tbody tr th:only-of-type {\n",
       "        vertical-align: middle;\n",
       "    }\n",
       "\n",
       "    .dataframe tbody tr th {\n",
       "        vertical-align: top;\n",
       "    }\n",
       "\n",
       "    .dataframe thead th {\n",
       "        text-align: right;\n",
       "    }\n",
       "</style>\n",
       "<table border=\"1\" class=\"dataframe\">\n",
       "  <thead>\n",
       "    <tr style=\"text-align: right;\">\n",
       "      <th></th>\n",
       "      <th>employee_id</th>\n",
       "      <th>scale_code</th>\n",
       "      <th>score</th>\n",
       "      <th>score_is_imputed</th>\n",
       "    </tr>\n",
       "  </thead>\n",
       "  <tbody>\n",
       "    <tr>\n",
       "      <th>0</th>\n",
       "      <td>DUP1942</td>\n",
       "      <td>Papi_A</td>\n",
       "      <td>6.0</td>\n",
       "      <td>0</td>\n",
       "    </tr>\n",
       "    <tr>\n",
       "      <th>1</th>\n",
       "      <td>DUP1942</td>\n",
       "      <td>Papi_B</td>\n",
       "      <td>5.0</td>\n",
       "      <td>1</td>\n",
       "    </tr>\n",
       "    <tr>\n",
       "      <th>2</th>\n",
       "      <td>DUP1942</td>\n",
       "      <td>Papi_C</td>\n",
       "      <td>1.0</td>\n",
       "      <td>0</td>\n",
       "    </tr>\n",
       "    <tr>\n",
       "      <th>3</th>\n",
       "      <td>DUP1942</td>\n",
       "      <td>Papi_D</td>\n",
       "      <td>4.0</td>\n",
       "      <td>0</td>\n",
       "    </tr>\n",
       "    <tr>\n",
       "      <th>4</th>\n",
       "      <td>DUP1942</td>\n",
       "      <td>Papi_E</td>\n",
       "      <td>3.0</td>\n",
       "      <td>0</td>\n",
       "    </tr>\n",
       "  </tbody>\n",
       "</table>\n",
       "</div>"
      ],
      "text/plain": [
       "  employee_id scale_code  score  score_is_imputed\n",
       "0     DUP1942     Papi_A    6.0                 0\n",
       "1     DUP1942     Papi_B    5.0                 1\n",
       "2     DUP1942     Papi_C    1.0                 0\n",
       "3     DUP1942     Papi_D    4.0                 0\n",
       "4     DUP1942     Papi_E    3.0                 0"
      ]
     },
     "metadata": {},
     "output_type": "display_data"
    }
   ],
   "source": [
    "df_papi_scores_cleaned = df_papi_scores_null.copy()\n",
    "display(df_papi_scores_cleaned.info(), df_papi_scores_cleaned.head())"
   ]
  },
  {
   "cell_type": "markdown",
   "id": "bcac13b0",
   "metadata": {},
   "source": [
    "## Exploratory Data Analysis (EDA)"
   ]
  },
  {
   "cell_type": "markdown",
   "id": "2d980048",
   "metadata": {},
   "source": [
    "Create Target Variable\n",
    "\n",
    "With the main data cleaned, we now create the essential target variable `is_high_performer` based on the `rating` column. This boolean flag will be the basis for our comparative analysis.\n",
    "* **True** = Rating equals to 5\n",
    "* **False** = Rating less than 5"
   ]
  },
  {
   "cell_type": "code",
   "execution_count": 195,
   "id": "440dc455",
   "metadata": {},
   "outputs": [],
   "source": [
    "#Make a copy the main data for EDA\n",
    "df_main_EDA = df_main_cleaned.copy()"
   ]
  },
  {
   "cell_type": "code",
   "execution_count": 199,
   "id": "ff953eb7",
   "metadata": {},
   "outputs": [
    {
     "name": "stdout",
     "output_type": "stream",
     "text": [
      "Target variable 'is_high_performer' created.\n",
      "  employee_id  rating  is_high_performer\n",
      "0   EMP100000     3.0              False\n",
      "1   EMP100001     3.0              False\n",
      "2   EMP100002     4.0              False\n",
      "3   EMP100003     3.0              False\n",
      "4   EMP100004     4.0              False\n"
     ]
    }
   ],
   "source": [
    "# Create boolean flag for high performers\n",
    "df_main_EDA['is_high_performer'] = (df_main_EDA['rating'] == 5)\n",
    "\n",
    "print(\"Target variable 'is_high_performer' created.\")\n",
    "print(df_main_EDA[['employee_id', 'rating', 'is_high_performer']].head())"
   ]
  },
  {
   "cell_type": "code",
   "execution_count": 200,
   "id": "23bbf20e",
   "metadata": {},
   "outputs": [
    {
     "name": "stderr",
     "output_type": "stream",
     "text": [
      "C:\\Users\\Fakhri\\AppData\\Local\\Temp\\ipykernel_19692\\2910500299.py:4: FutureWarning: \n",
      "\n",
      "Passing `palette` without assigning `hue` is deprecated and will be removed in v0.14.0. Assign the `x` variable to `hue` and set `legend=False` for the same effect.\n",
      "\n",
      "  sns.countplot(data=df_main_EDA, x='is_high_performer', palette=['skyblue', 'lightcoral'])\n"
     ]
    },
    {
     "data": {
      "image/png": "[encoded data removed]",
      "text/plain": [
       "<Figure size 600x400 with 1 Axes>"
      ]
     },
     "metadata": {},
     "output_type": "display_data"
    },
    {
     "name": "stdout",
     "output_type": "stream",
     "text": [
      "\n",
      "Target Variable Distribution:\n",
      "is_high_performer\n",
      "False    1622\n",
      "True      168\n",
      "Name: count, dtype: int64\n",
      "\n",
      "Target Variable Proportions:\n",
      "is_high_performer\n",
      "False    0.906145\n",
      "True     0.093855\n",
      "Name: proportion, dtype: float64\n"
     ]
    }
   ],
   "source": [
    "plt.figure(figsize=(6, 4))\n",
    "\n",
    "# Create countplot (bar chart of counts)\n",
    "sns.countplot(data=df_main_EDA, x='is_high_performer', palette=['skyblue', 'lightcoral'])\n",
    "\n",
    "plt.title('Distribution of Performance Groups (True = High Performer)')\n",
    "plt.xlabel('Is High Performer?')\n",
    "plt.ylabel('Number of Employees')\n",
    "plt.xticks([0, 1], ['False (Other)', 'True (High Performer)']) # Add clearer labels\n",
    "plt.show()\n",
    "\n",
    "# Also print the exact numbers/proportions\n",
    "print(\"\\nTarget Variable Distribution:\")\n",
    "print(df_main_EDA['is_high_performer'].value_counts())\n",
    "print(\"\\nTarget Variable Proportions:\")\n",
    "print(df_main_EDA['is_high_performer'].value_counts(normalize=True))"
   ]
  },
  {
   "cell_type": "markdown",
   "id": "3ec6467b",
   "metadata": {},
   "source": [
    "The visualization and value counts clearly show a significant **class imbalance** in the target variable. High Performers (`is_high_performer = True`) constitute only **~9.4%** of the analyzed dataset, while the 'Other' group (`is_high_performer = False`) makes up the remaining **~90.6%**.\n",
    "\n",
    "**Implication for Analysis:** This imbalance must be kept in mind when interpreting subsequent comparisons. Differences observed between the groups should ideally be substantial to be considered meaningful, as the smaller size of the High Performer group makes it more susceptible to random variation. Comparisons involving categorical features should focus on proportions within each group rather than absolute counts."
   ]
  },
  {
   "cell_type": "markdown",
   "id": "ffacdcf5",
   "metadata": {},
   "source": [
    "### Contextual Factors "
   ]
  },
  {
   "cell_type": "markdown",
   "id": "d2c06968",
   "metadata": {},
   "source": [
    "Comparative analysis by examining contextual factors available in the `df_main` DataFrame. The goal is to see if variables like tenure (years of service), job grade, education level, department, division, directorate, or major show significant differences between High Performers and Others."
   ]
  },
  {
   "cell_type": "markdown",
   "id": "3566070a",
   "metadata": {},
   "source": [
    "#### Years of Service in Month"
   ]
  },
  {
   "cell_type": "code",
   "execution_count": null,
   "id": "9454e521",
   "metadata": {},
   "outputs": [
    {
     "name": "stdout",
     "output_type": "stream",
     "text": [
      "--- Boxplot Comparison ---\n"
     ]
    },
    {
     "name": "stderr",
     "output_type": "stream",
     "text": [
      "C:\\Users\\Fakhri\\AppData\\Local\\Temp\\ipykernel_19692\\1746677098.py:6: FutureWarning: \n",
      "\n",
      "Passing `palette` without assigning `hue` is deprecated and will be removed in v0.14.0. Assign the `x` variable to `hue` and set `legend=False` for the same effect.\n",
      "\n",
      "  sns.boxplot(data=df_main_EDA, x='is_high_performer', y='years_of_service_months', palette=['skyblue', 'lightcoral'])\n"
     ]
    },
    {
     "data": {
      "image/png": "[encoded data removed]",
      "text/plain": [
       "<Figure size 800x500 with 1 Axes>"
      ]
     },
     "metadata": {},
     "output_type": "display_data"
    },
    {
     "name": "stdout",
     "output_type": "stream",
     "text": [
      "\n",
      "--- Histogram Comparison (Side-by-Side) ---\n"
     ]
    },
    {
     "data": {
      "image/png": "[encoded data removed]",
      "text/plain": [
       "<Figure size 1400x500 with 2 Axes>"
      ]
     },
     "metadata": {},
     "output_type": "display_data"
    },
    {
     "name": "stdout",
     "output_type": "stream",
     "text": [
      "\n",
      "--- Years of Service Statistics by Performance Group ---\n",
      "                    count       mean        std  min   25%   50%    75%    max\n",
      "is_high_performer                                                             \n",
      "False              1622.0  50.201603  25.110208  0.0  32.0  49.0  66.00  149.0\n",
      "True                168.0  51.517857  24.960801  0.0  33.5  52.0  68.25  125.0\n"
     ]
    }
   ],
   "source": [
    "# Compare 'years_of_service_months'\n",
    "\n",
    "# --- Canvas 1: Boxplot ---\n",
    "print(\"--- Boxplot Comparison ---\")\n",
    "plt.figure(figsize=(8, 5))\n",
    "sns.boxplot(data=df_main_EDA, x='is_high_performer', y='years_of_service_months', palette=['skyblue', 'lightcoral'])\n",
    "plt.title('Years of Service Distribution: High Performers vs. Others (Boxplot)')\n",
    "plt.xlabel('Is High Performer? (False=Other, True=High)')\n",
    "plt.ylabel('Months of Service')\n",
    "plt.xticks([0, 1], ['False (Other)', 'True (High Performer)']) # Add clearer labels\n",
    "plt.show()\n",
    "\n",
    "# --- Canvas 2: Separate Histograms Side-by-Side ---\n",
    "print(\"\\n--- Histogram Comparison (Side-by-Side) ---\")\n",
    "# Create a figure with 1 row and 2 columns for the subplots\n",
    "# sharey=True makes the y-axis scale the same for fair comparison\n",
    "fig, axes = plt.subplots(1, 2, figsize=(14, 5), sharey=True)\n",
    "\n",
    "# Histogram 1: 'False' (Other) Group - Plot on the left axes (axes[0])\n",
    "sns.histplot(data=df_main_EDA[df_main_EDA['is_high_performer'] == False],\n",
    "             x='years_of_service_months',\n",
    "             kde=True,\n",
    "             ax=axes[0], # Specify the left subplot\n",
    "             color='skyblue')\n",
    "axes[0].set_title('Distribution for \"Other\" Group (False)')\n",
    "axes[0].set_xlabel('Months of Service')\n",
    "axes[0].set_ylabel('Frequency (Count)')\n",
    "\n",
    "# Histogram 2: 'True' (High Performer) Group - Plot on the right axes (axes[1])\n",
    "sns.histplot(data=df_main_EDA[df_main_EDA['is_high_performer'] == True],\n",
    "             x='years_of_service_months',\n",
    "             kde=True,\n",
    "             ax=axes[1], # Specify the right subplot\n",
    "             color='lightcoral')\n",
    "axes[1].set_title('Distribution for \"High Performer\" Group (True)')\n",
    "axes[1].set_xlabel('Months of Service')\n",
    "axes[1].set_ylabel('') # Hide redundant y-label on the right\n",
    "\n",
    "# Add an overall title for the histogram figure\n",
    "plt.suptitle('Years of Service Distribution by Performance Group (Histograms)', y=1.02)\n",
    "plt.tight_layout() # Adjust subplot spacing\n",
    "plt.show() # Show the figure containing both histograms\n",
    "\n",
    "\n",
    "# --- Descriptive Statistics (remains the same) ---\n",
    "print(\"\\n--- Years of Service Statistics by Performance Group ---\")\n",
    "# Use describe() to see mean, median (50%), min, max, etc.\n",
    "print(df_main_EDA.groupby('is_high_performer')['years_of_service_months'].describe())"
   ]
  },
  {
   "cell_type": "markdown",
   "id": "523c6df9",
   "metadata": {},
   "source": [
    "The descriptive statistics show very **minimal difference** in the distribution of `years_of_service_months` between High Performers (`True`) and Others (`False`).\n",
    "\n",
    "* **Central Tendency:** The mean (51.5 vs. 50.2 months) and median (52.0 vs. 49.0 months) are only slightly higher for High Performers, suggesting tenure is not drastically different on average.\n",
    "* **Spread:** The standard deviations are nearly identical (~25 months), indicating a similar level of variation in tenure within both groups.\n",
    "* **Quartiles:** The 25th and 75th percentiles are also closely aligned.\n",
    "\n",
    "**Conclusion:** Based on these statistics, which align with the visual similarity observed in the boxplot and histograms, **`years_of_service_months` does not appear to be a strong differentiating factor** for high performance "
   ]
  },
  {
   "cell_type": "markdown",
   "id": "a6e7e62d",
   "metadata": {},
   "source": [
    "#### Education (education_id)"
   ]
  },
  {
   "cell_type": "markdown",
   "id": "30183269",
   "metadata": {},
   "source": [
    "Is there a correlation between education and the likelihood of being a high performer? Do education  have a higher proportion of top performers?"
   ]
  },
  {
   "cell_type": "code",
   "execution_count": 256,
   "id": "793656d3",
   "metadata": {},
   "outputs": [],
   "source": [
    "# Compare Performance Proportion by Education ---\n",
    "\n",
    "# Load dimension table for names \n",
    "df_education = pd.read_sql(\n",
    "    \"\"\"\n",
    "    SELECT\n",
    "     education_id, \n",
    "     name AS education_name \n",
    "    FROM dim_education\n",
    "\n",
    "    \"\"\", engine)\n",
    "\n",
    "# Merge grade names into df_main_EDA\n",
    "df_analysis_education = df_main_EDA [['employee_id', 'education_id', 'is_high_performer','rating']].merge(df_education, on='education_id', how='left')"
   ]
  },
  {
   "cell_type": "code",
   "execution_count": 257,
   "id": "40b7d75f",
   "metadata": {},
   "outputs": [
    {
     "name": "stdout",
     "output_type": "stream",
     "text": [
      "\n",
      "--- High Performer Proportion by Education ---\n",
      "  education_name  is_high_performer\n",
      "2             S2           0.117647\n",
      "3            SMA           0.103865\n",
      "1             S1           0.097130\n",
      "0             D3           0.058190\n"
     ]
    },
    {
     "name": "stderr",
     "output_type": "stream",
     "text": [
      "C:\\Users\\Fakhri\\AppData\\Local\\Temp\\ipykernel_19692\\301489739.py:11: FutureWarning: \n",
      "\n",
      "Passing `palette` without assigning `hue` is deprecated and will be removed in v0.14.0. Assign the `x` variable to `hue` and set `legend=False` for the same effect.\n",
      "\n",
      "  sns.barplot(data=education_performance, x='education_name', y='is_high_performer', palette='viridis')\n"
     ]
    },
    {
     "data": {
      "image/png": "[encoded data removed]",
      "text/plain": [
       "<Figure size 800x400 with 1 Axes>"
      ]
     },
     "metadata": {},
     "output_type": "display_data"
    }
   ],
   "source": [
    "# Calculate proportion of high performers within each education\n",
    "education_performance = df_analysis_education.groupby('education_name')['is_high_performer'].mean().reset_index()\n",
    "# Sort by proportion to easily see the trend\n",
    "education_performance = education_performance.sort_values('is_high_performer', ascending=False)\n",
    "\n",
    "print(\"\\n--- High Performer Proportion by Education ---\")\n",
    "print(education_performance)\n",
    "\n",
    "# Visualize the proportion\n",
    "plt.figure(figsize=(8,4))\n",
    "sns.barplot(data=education_performance, x='education_name', y='is_high_performer', palette='viridis')\n",
    "\n",
    "plt.axhline(0.094, color='red', linestyle='--', label='Overall High Performer Rate (9.4%)')\n",
    "plt.legend()\n",
    "plt.title('High Performer Likelihood by Education')\n",
    "plt.xlabel('Education')\n",
    "plt.ylabel('Proportion of High Performers')\n",
    "plt.show()\n"
   ]
  },
  {
   "cell_type": "markdown",
   "id": "32be669d",
   "metadata": {},
   "source": [
    "\n",
    "As shown in the visualization above, the **overall high performer rate remains 9.4%** across all employees (indicated by the red dashed line)\n",
    "\n",
    "- Employees with **higher educational attainment (S2)** tend to have slightly better performance outcomes.  \n",
    "- Interestingly, **SMA graduates** perform nearly as well as S1, suggesting that **experience or role fit** may offset the lack of formal higher education.\n",
    "- The difference between S1 and S2 is modest, implying that **education alone is not a strong determinant of high performance**, but may provide a small edge.\n",
    "\n",
    "\n",
    "**Takeaway:**  \n",
    "Education level shows a **minor positive relationship** with performance, with S2 holders having a marginally higher likelihood of achieving top ratings. However, high performers are distributed across all education levels, highlighting that **practical experience and behavioral competencies** may play a stronger role than formal education credentials.\n"
   ]
  },
  {
   "cell_type": "markdown",
   "id": "015de5ad",
   "metadata": {},
   "source": [
    "#### Major (major_id)"
   ]
  },
  {
   "cell_type": "markdown",
   "id": "f3cf618e",
   "metadata": {},
   "source": [
    "Is there a correlation between major and the likelihood of being a high performer? Do higher major have a higher proportion of top performers?"
   ]
  },
  {
   "cell_type": "code",
   "execution_count": null,
   "id": "3d78b4af",
   "metadata": {},
   "outputs": [],
   "source": [
    "# Compare Performance Proportion by Job Grade ---\n",
    "\n",
    "# Load dimension table for names \n",
    "df_grades = pd.read_sql(\n",
    "    \"\"\"\n",
    "    SELECT\n",
    "     grade_id, \n",
    "     name AS grade_name \n",
    "    FROM dim_grades\n",
    "\n",
    "    \"\"\", engine)\n",
    "\n",
    "# Merge grade names into df_main_EDA\n",
    "df_analysis_grade = df_main_EDA [['employee_id', 'grade_id', 'is_high_performer','rating']].merge(df_grades, on='grade_id', how='left')"
   ]
  },
  {
   "cell_type": "code",
   "execution_count": null,
   "id": "aad7fc5d",
   "metadata": {},
   "outputs": [
    {
     "name": "stdout",
     "output_type": "stream",
     "text": [
      "\n",
      "--- High Performer Proportion by Job Grade ---\n",
      "  grade_name  is_high_performer\n",
      "1         IV           0.105960\n",
      "2          V           0.088481\n",
      "0        III           0.086882\n"
     ]
    },
    {
     "name": "stderr",
     "output_type": "stream",
     "text": [
      "C:\\Users\\Fakhri\\AppData\\Local\\Temp\\ipykernel_19692\\103645302.py:11: FutureWarning: \n",
      "\n",
      "Passing `palette` without assigning `hue` is deprecated and will be removed in v0.14.0. Assign the `x` variable to `hue` and set `legend=False` for the same effect.\n",
      "\n",
      "  sns.barplot(data=grade_performance, x='grade_name', y='is_high_performer', palette='viridis')\n"
     ]
    },
    {
     "data": {
      "image/png": "[encoded data removed]",
      "text/plain": [
       "<Figure size 800x400 with 1 Axes>"
      ]
     },
     "metadata": {},
     "output_type": "display_data"
    }
   ],
   "source": [
    "# Calculate proportion of high performers within each grade\n",
    "grade_performance = df_analysis_grade.groupby('grade_name')['is_high_performer'].mean().reset_index()\n",
    "# Sort by proportion to easily see the trend\n",
    "grade_performance = grade_performance.sort_values('is_high_performer', ascending=False)\n",
    "\n",
    "print(\"\\n--- High Performer Proportion by Job Grade ---\")\n",
    "print(grade_performance)\n",
    "\n",
    "# Visualize the proportion\n",
    "plt.figure(figsize=(8,4))\n",
    "sns.barplot(data=grade_performance, x='grade_name', y='is_high_performer', palette='viridis')\n",
    "\n",
    "plt.axhline(0.094, color='red', linestyle='--', label='Overall High Performer Rate (9.4%)')\n",
    "plt.legend()\n",
    "plt.title('High Performer Likelihood by Job Grade')\n",
    "plt.xlabel('Job Grade')\n",
    "plt.ylabel('Proportion of High Performers')\n",
    "plt.show()\n"
   ]
  },
  {
   "cell_type": "markdown",
   "id": "9b4e2220",
   "metadata": {},
   "source": [
    "\n",
    "As shown in the visualization above, the **overall high performer rate is 9.4%** across all employees (red dashed line).  \n",
    "Grade IV stands slightly above this benchmark, with about **10.6%** of its members being high performers, while Grades III and V are slightly below.\n",
    "\n",
    "- Employees in **Grade IV** appear marginally more likely to achieve top performance ratings.  \n",
    "- However, the differences are small (less than 2%), suggesting that **grade level alone does not strongly determine performance outcomes**.\n",
    "- This implies that success is not purely a function of seniority or level, but may instead be shaped by **behavioral, cognitive, or competency-related** factors explored in later sections.\n",
    "\n",
    "**Takeaway:**  \n",
    "**Job grade contributes a mild contextual effect, possibly reflecting differences in experience or scope of responsibility, but it is not a defining success driver.**\n"
   ]
  },
  {
   "cell_type": "markdown",
   "id": "17d5aae1",
   "metadata": {},
   "source": [
    "#### Job Grade (grade_id)"
   ]
  },
  {
   "cell_type": "markdown",
   "id": "d54a83fb",
   "metadata": {},
   "source": [
    "Is there a correlation between job grade and the likelihood of being a high performer? Do higher grades have a higher proportion of top performers?"
   ]
  },
  {
   "cell_type": "code",
   "execution_count": 222,
   "id": "1bf17e6d",
   "metadata": {},
   "outputs": [],
   "source": [
    "# Compare Performance Proportion by Job Grade ---\n",
    "\n",
    "# Load dimension table for names \n",
    "df_grades = pd.read_sql(\n",
    "    \"\"\"\n",
    "    SELECT\n",
    "     grade_id, \n",
    "     name AS grade_name \n",
    "    FROM dim_grades\n",
    "\n",
    "    \"\"\", engine)\n",
    "\n",
    "# Merge grade names into df_main_EDA\n",
    "df_analysis_grade = df_main_EDA [['employee_id', 'grade_id', 'is_high_performer','rating']].merge(df_grades, on='grade_id', how='left')"
   ]
  },
  {
   "cell_type": "code",
   "execution_count": 233,
   "id": "0509cf05",
   "metadata": {},
   "outputs": [
    {
     "name": "stdout",
     "output_type": "stream",
     "text": [
      "\n",
      "--- High Performer Proportion by Job Grade ---\n",
      "  grade_name  is_high_performer\n",
      "1         IV           0.105960\n",
      "2          V           0.088481\n",
      "0        III           0.086882\n"
     ]
    },
    {
     "name": "stderr",
     "output_type": "stream",
     "text": [
      "C:\\Users\\Fakhri\\AppData\\Local\\Temp\\ipykernel_19692\\103645302.py:11: FutureWarning: \n",
      "\n",
      "Passing `palette` without assigning `hue` is deprecated and will be removed in v0.14.0. Assign the `x` variable to `hue` and set `legend=False` for the same effect.\n",
      "\n",
      "  sns.barplot(data=grade_performance, x='grade_name', y='is_high_performer', palette='viridis')\n"
     ]
    },
    {
     "data": {
      "image/png": "[encoded data removed]",
      "text/plain": [
       "<Figure size 800x400 with 1 Axes>"
      ]
     },
     "metadata": {},
     "output_type": "display_data"
    }
   ],
   "source": [
    "# Calculate proportion of high performers within each grade\n",
    "grade_performance = df_analysis_grade.groupby('grade_name')['is_high_performer'].mean().reset_index()\n",
    "# Sort by proportion to easily see the trend\n",
    "grade_performance = grade_performance.sort_values('is_high_performer', ascending=False)\n",
    "\n",
    "print(\"\\n--- High Performer Proportion by Job Grade ---\")\n",
    "print(grade_performance)\n",
    "\n",
    "# Visualize the proportion\n",
    "plt.figure(figsize=(8,4))\n",
    "sns.barplot(data=grade_performance, x='grade_name', y='is_high_performer', palette='viridis')\n",
    "\n",
    "plt.axhline(0.094, color='red', linestyle='--', label='Overall High Performer Rate (9.4%)')\n",
    "plt.legend()\n",
    "plt.title('High Performer Likelihood by Job Grade')\n",
    "plt.xlabel('Job Grade')\n",
    "plt.ylabel('Proportion of High Performers')\n",
    "plt.show()\n"
   ]
  },
  {
   "cell_type": "markdown",
   "id": "01d35c20",
   "metadata": {},
   "source": [
    "\n",
    "As shown in the visualization above, the **overall high performer rate is 9.4%** across all employees (red dashed line).  \n",
    "Grade IV stands slightly above this benchmark, with about **10.6%** of its members being high performers, while Grades III and V are slightly below.\n",
    "\n",
    "- Employees in **Grade IV** appear marginally more likely to achieve top performance ratings.  \n",
    "- However, the differences are small (less than 2%), suggesting that **grade level alone does not strongly determine performance outcomes**.\n",
    "- This implies that success is not purely a function of seniority or level, but may instead be shaped by **behavioral, cognitive, or competency-related** factors explored in later sections.\n",
    "\n",
    "**Takeaway:**  \n",
    "**Job grade contributes a mild contextual effect, possibly reflecting differences in experience or scope of responsibility, but it is not a defining success driver.**\n"
   ]
  }
 ],
 "metadata": {
  "kernelspec": {
   "display_name": "Python (.talentint)",
   "language": "python",
   "name": ".talentint"
  },
  "language_info": {
   "codemirror_mode": {
    "name": "ipython",
    "version": 3
   },
   "file_extension": ".py",
   "mimetype": "text/x-python",
   "name": "python",
   "nbconvert_exporter": "python",
   "pygments_lexer": "ipython3",
   "version": "3.13.9"
  }
 },
 "nbformat": 4,
 "nbformat_minor": 5
}
